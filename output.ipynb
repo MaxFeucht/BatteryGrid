{
 "cells": [
  {
   "cell_type": "markdown",
   "metadata": {
    "isInteractiveWindowMessageCell": true
   },
   "source": [
    "Connected to PRL (Python 3.11.0)"
   ]
  },
  {
   "cell_type": "code",
   "execution_count": 3,
   "metadata": {},
   "outputs": [
    {
     "name": "stdout",
     "output_type": "stream",
     "text": [
      "\n",
      "\n",
      " Layers: 5, Gamma: 0.94\n"
     ]
    },
    {
     "name": "stderr",
     "output_type": "stream",
     "text": [
      "/Users/maxfeucht/Documents/VU/Project Reinforcement Learning/BatteryGrid/agent.py:88: RuntimeWarning: invalid value encountered in divide\n",
      "  return (var - np.min(var)) / (np.max(var) - np.min(var))\n"
     ]
    },
    {
     "name": "stdout",
     "output_type": "stream",
     "text": [
      "Number of engineered features:  57\n",
      "State dimension:  113\n",
      "Number of DQN Parameters:  39171\n"
     ]
    },
    {
     "name": "stderr",
     "output_type": "stream",
     "text": [
      "  1%|▏         | 25281/2000000 [01:20<1:35:05, 346.09it/s]"
     ]
    },
    {
     "name": "stdout",
     "output_type": "stream",
     "text": [
      "Episode  1 Balance:  -7784.130952777774 Reward:  -7784.130952777774 Loss:  1960.3349933915306\n"
     ]
    },
    {
     "name": "stderr",
     "output_type": "stream",
     "text": [
      "  3%|▎         | 51611/2000000 [02:43<1:58:43, 273.51it/s]"
     ]
    },
    {
     "name": "stdout",
     "output_type": "stream",
     "text": [
      "Episode  2 Balance:  -6266.02404413582 Reward:  -6266.02404413582 Loss:  1358.9859966593795\n"
     ]
    },
    {
     "name": "stderr",
     "output_type": "stream",
     "text": [
      "  4%|▍         | 77894/2000000 [04:13<1:36:17, 332.67it/s]"
     ]
    },
    {
     "name": "stdout",
     "output_type": "stream",
     "text": [
      "Episode  3 Balance:  -4313.306884999989 Reward:  -4313.306884999989 Loss:  1053.5032565561123\n"
     ]
    },
    {
     "name": "stderr",
     "output_type": "stream",
     "text": [
      "  5%|▌         | 104158/2000000 [05:40<1:40:30, 314.40it/s]"
     ]
    },
    {
     "name": "stdout",
     "output_type": "stream",
     "text": [
      "Episode  4 Balance:  -2145.5622970987724 Reward:  -2145.5622970987724 Loss:  842.3489034383092\n"
     ]
    },
    {
     "name": "stderr",
     "output_type": "stream",
     "text": [
      "  5%|▌         | 104215/2000000 [05:50<39:39:54, 13.28it/s]"
     ]
    },
    {
     "name": "stdout",
     "output_type": "stream",
     "text": [
      "Absolute Balance:  -642.7619538271605\n"
     ]
    },
    {
     "name": "stderr",
     "output_type": "stream",
     "text": [
      "  7%|▋         | 130502/2000000 [07:20<1:40:15, 310.78it/s]"
     ]
    },
    {
     "name": "stdout",
     "output_type": "stream",
     "text": [
      "Episode  5 Balance:  -1383.5294042592607 Reward:  -1383.5294042592607 Loss:  644.6090990758967\n"
     ]
    },
    {
     "name": "stderr",
     "output_type": "stream",
     "text": [
      "  8%|▊         | 156821/2000000 [08:54<1:42:15, 300.40it/s]"
     ]
    },
    {
     "name": "stdout",
     "output_type": "stream",
     "text": [
      "Episode  6 Balance:  -1301.4937612345723 Reward:  -1301.4937612345723 Loss:  571.3292821123032\n"
     ]
    },
    {
     "name": "stderr",
     "output_type": "stream",
     "text": [
      "  9%|▉         | 183112/2000000 [10:30<2:04:31, 243.18it/s]"
     ]
    },
    {
     "name": "stdout",
     "output_type": "stream",
     "text": [
      "Episode  7 Balance:  -1374.4429370370399 Reward:  -1374.4429370370399 Loss:  458.96461347013246\n"
     ]
    },
    {
     "name": "stderr",
     "output_type": "stream",
     "text": [
      " 10%|█         | 209350/2000000 [11:58<1:24:52, 351.65it/s]"
     ]
    },
    {
     "name": "stdout",
     "output_type": "stream",
     "text": [
      "Episode  8 Balance:  -1371.0737253086415 Reward:  -1371.0737253086415 Loss:  435.1603461588966\n"
     ]
    },
    {
     "name": "stderr",
     "output_type": "stream",
     "text": [
      " 10%|█         | 209417/2000000 [12:08<30:53:07, 16.10it/s]"
     ]
    },
    {
     "name": "stdout",
     "output_type": "stream",
     "text": [
      "Absolute Balance:  -518.5115501851852\n"
     ]
    },
    {
     "name": "stderr",
     "output_type": "stream",
     "text": [
      " 12%|█▏        | 235746/2000000 [13:23<1:17:29, 379.42it/s]"
     ]
    },
    {
     "name": "stdout",
     "output_type": "stream",
     "text": [
      "Episode  9 Balance:  -1327.6882430864198 Reward:  -1327.6882430864198 Loss:  444.99201857007574\n"
     ]
    },
    {
     "name": "stderr",
     "output_type": "stream",
     "text": [
      " 13%|█▎        | 262033/2000000 [14:37<1:25:33, 338.57it/s]"
     ]
    },
    {
     "name": "stdout",
     "output_type": "stream",
     "text": [
      "Episode  10 Balance:  -1210.2664427160485 Reward:  -1210.2664427160485 Loss:  471.9917789674946\n"
     ]
    },
    {
     "name": "stderr",
     "output_type": "stream",
     "text": [
      " 14%|█▍        | 288346/2000000 [15:51<1:16:10, 374.49it/s]"
     ]
    },
    {
     "name": "stdout",
     "output_type": "stream",
     "text": [
      "Episode  11 Balance:  -1235.9164609876561 Reward:  -1235.9164609876561 Loss:  450.38658798352117\n"
     ]
    },
    {
     "name": "stderr",
     "output_type": "stream",
     "text": [
      " 16%|█▌        | 314578/2000000 [17:03<1:14:44, 375.83it/s]"
     ]
    },
    {
     "name": "stdout",
     "output_type": "stream",
     "text": [
      "Episode  12 Balance:  -1230.6133090123458 Reward:  -1230.6133090123458 Loss:  473.8374096931657\n"
     ]
    },
    {
     "name": "stderr",
     "output_type": "stream",
     "text": [
      " 16%|█▌        | 314649/2000000 [17:12<24:19:54, 19.24it/s]"
     ]
    },
    {
     "name": "stdout",
     "output_type": "stream",
     "text": [
      "Absolute Balance:  -404.5818556790124\n"
     ]
    },
    {
     "name": "stderr",
     "output_type": "stream",
     "text": [
      " 17%|█▋        | 340956/2000000 [18:26<1:14:41, 370.20it/s]"
     ]
    },
    {
     "name": "stdout",
     "output_type": "stream",
     "text": [
      "Episode  13 Balance:  -1246.088871481485 Reward:  -1246.088871481485 Loss:  491.14914563309867\n"
     ]
    },
    {
     "name": "stderr",
     "output_type": "stream",
     "text": [
      " 18%|█▊        | 367256/2000000 [19:39<1:12:09, 377.10it/s]"
     ]
    },
    {
     "name": "stdout",
     "output_type": "stream",
     "text": [
      "Episode  14 Balance:  -1262.7866541358057 Reward:  -1262.7866541358057 Loss:  478.4421927665826\n"
     ]
    },
    {
     "name": "stderr",
     "output_type": "stream",
     "text": [
      " 20%|█▉        | 393570/2000000 [20:51<1:10:47, 378.25it/s]"
     ]
    },
    {
     "name": "stdout",
     "output_type": "stream",
     "text": [
      "Episode  15 Balance:  -1251.3171168518488 Reward:  -1251.3171168518488 Loss:  508.17822395742405\n"
     ]
    },
    {
     "name": "stderr",
     "output_type": "stream",
     "text": [
      " 21%|██        | 419765/2000000 [22:05<1:10:04, 375.88it/s]"
     ]
    },
    {
     "name": "stdout",
     "output_type": "stream",
     "text": [
      "Episode  16 Balance:  -1369.6614079012343 Reward:  -1369.6614079012343 Loss:  524.4220966183348\n"
     ]
    },
    {
     "name": "stderr",
     "output_type": "stream",
     "text": [
      " 21%|██        | 419836/2000000 [22:14<22:46:25, 19.27it/s]"
     ]
    },
    {
     "name": "stdout",
     "output_type": "stream",
     "text": [
      "Absolute Balance:  -290.33536024691364\n"
     ]
    },
    {
     "name": "stderr",
     "output_type": "stream",
     "text": [
      " 22%|██▏       | 446178/2000000 [23:26<1:09:54, 370.45it/s]"
     ]
    },
    {
     "name": "stdout",
     "output_type": "stream",
     "text": [
      "Episode  17 Balance:  -1270.3610087037066 Reward:  -1270.3610087037066 Loss:  511.3773275316926\n"
     ]
    },
    {
     "name": "stderr",
     "output_type": "stream",
     "text": [
      " 24%|██▎       | 472444/2000000 [24:44<1:08:12, 373.24it/s]"
     ]
    },
    {
     "name": "stdout",
     "output_type": "stream",
     "text": [
      "Episode  18 Balance:  -1368.4960758024727 Reward:  -1368.4960758024727 Loss:  501.43529866158497\n"
     ]
    },
    {
     "name": "stderr",
     "output_type": "stream",
     "text": [
      " 25%|██▍       | 498780/2000000 [25:57<1:09:28, 360.17it/s]"
     ]
    },
    {
     "name": "stdout",
     "output_type": "stream",
     "text": [
      "Episode  19 Balance:  -1325.525086296294 Reward:  -1325.525086296294 Loss:  518.3845103002386\n"
     ]
    },
    {
     "name": "stderr",
     "output_type": "stream",
     "text": [
      " 26%|██▋       | 525010/2000000 [27:11<1:15:11, 326.95it/s]"
     ]
    },
    {
     "name": "stdout",
     "output_type": "stream",
     "text": [
      "Episode  20 Balance:  -1408.8356361111098 Reward:  -1408.8356361111098 Loss:  476.5575709773693\n"
     ]
    },
    {
     "name": "stderr",
     "output_type": "stream",
     "text": [
      " 26%|██▋       | 525077/2000000 [27:21<24:55:23, 16.44it/s]"
     ]
    },
    {
     "name": "stdout",
     "output_type": "stream",
     "text": [
      "Absolute Balance:  -378.92727592592604\n"
     ]
    },
    {
     "name": "stderr",
     "output_type": "stream",
     "text": [
      " 28%|██▊       | 551356/2000000 [28:33<1:04:25, 374.80it/s]"
     ]
    },
    {
     "name": "stdout",
     "output_type": "stream",
     "text": [
      "Episode  21 Balance:  -1244.612158148149 Reward:  -1244.612158148149 Loss:  469.3324193463195\n"
     ]
    },
    {
     "name": "stderr",
     "output_type": "stream",
     "text": [
      " 29%|██▉       | 577688/2000000 [29:46<1:02:39, 378.34it/s]"
     ]
    },
    {
     "name": "stdout",
     "output_type": "stream",
     "text": [
      "Episode  22 Balance:  -1309.2978740123456 Reward:  -1309.2978740123456 Loss:  451.4159814742743\n"
     ]
    },
    {
     "name": "stderr",
     "output_type": "stream",
     "text": [
      " 30%|███       | 603992/2000000 [30:58<1:01:27, 378.63it/s]"
     ]
    },
    {
     "name": "stdout",
     "output_type": "stream",
     "text": [
      "Episode  23 Balance:  -1235.5853875925936 Reward:  -1235.5853875925936 Loss:  447.33389343798626\n"
     ]
    },
    {
     "name": "stderr",
     "output_type": "stream",
     "text": [
      " 32%|███▏      | 630203/2000000 [32:10<1:00:49, 375.38it/s]"
     ]
    },
    {
     "name": "stdout",
     "output_type": "stream",
     "text": [
      "Episode  24 Balance:  -1331.6865681481495 Reward:  -1331.6865681481495 Loss:  437.13684618193656\n"
     ]
    },
    {
     "name": "stderr",
     "output_type": "stream",
     "text": [
      " 32%|███▏      | 630276/2000000 [32:19<19:31:08, 19.49it/s]"
     ]
    },
    {
     "name": "stdout",
     "output_type": "stream",
     "text": [
      "Absolute Balance:  -407.18279055555564\n"
     ]
    },
    {
     "name": "stderr",
     "output_type": "stream",
     "text": [
      " 33%|███▎      | 656583/2000000 [33:34<1:01:18, 365.20it/s]"
     ]
    },
    {
     "name": "stdout",
     "output_type": "stream",
     "text": [
      "Episode  25 Balance:  -1329.0645103703714 Reward:  -1329.0645103703714 Loss:  436.9051330491202\n"
     ]
    },
    {
     "name": "stderr",
     "output_type": "stream",
     "text": [
      " 34%|███▍      | 682883/2000000 [34:46<59:15, 370.48it/s]  "
     ]
    },
    {
     "name": "stdout",
     "output_type": "stream",
     "text": [
      "Episode  26 Balance:  -1344.6961848765463 Reward:  -1344.6961848765463 Loss:  449.37333772616694\n"
     ]
    },
    {
     "name": "stderr",
     "output_type": "stream",
     "text": [
      " 35%|███▌      | 709170/2000000 [35:58<57:10, 376.27it/s]  "
     ]
    },
    {
     "name": "stdout",
     "output_type": "stream",
     "text": [
      "Episode  27 Balance:  -1194.6200224691368 Reward:  -1194.6200224691368 Loss:  466.96700444084127\n"
     ]
    },
    {
     "name": "stderr",
     "output_type": "stream",
     "text": [
      " 37%|███▋      | 735426/2000000 [37:11<55:26, 380.16it/s]  "
     ]
    },
    {
     "name": "stdout",
     "output_type": "stream",
     "text": [
      "Episode  28 Balance:  -1298.9048625925932 Reward:  -1298.9048625925932 Loss:  454.3494468962308\n"
     ]
    },
    {
     "name": "stderr",
     "output_type": "stream",
     "text": [
      " 37%|███▋      | 735499/2000000 [37:20<17:57:53, 19.55it/s]"
     ]
    },
    {
     "name": "stdout",
     "output_type": "stream",
     "text": [
      "Absolute Balance:  -381.2699274691359\n"
     ]
    },
    {
     "name": "stderr",
     "output_type": "stream",
     "text": [
      " 38%|███▊      | 761794/2000000 [38:35<58:51, 350.57it/s]  "
     ]
    },
    {
     "name": "stdout",
     "output_type": "stream",
     "text": [
      "Episode  29 Balance:  -1306.197008518518 Reward:  -1306.197008518518 Loss:  517.7233869447373\n"
     ]
    },
    {
     "name": "stderr",
     "output_type": "stream",
     "text": [
      " 39%|███▉      | 788093/2000000 [39:47<1:01:29, 328.43it/s]"
     ]
    },
    {
     "name": "stdout",
     "output_type": "stream",
     "text": [
      "Episode  30 Balance:  -1273.6516761728383 Reward:  -1273.6516761728383 Loss:  537.5603670498822\n"
     ]
    },
    {
     "name": "stderr",
     "output_type": "stream",
     "text": [
      " 41%|████      | 814406/2000000 [40:59<53:00, 372.82it/s]  "
     ]
    },
    {
     "name": "stdout",
     "output_type": "stream",
     "text": [
      "Episode  31 Balance:  -1242.0705437037054 Reward:  -1242.0705437037054 Loss:  492.76944124681177\n"
     ]
    },
    {
     "name": "stderr",
     "output_type": "stream",
     "text": [
      " 42%|████▏     | 840646/2000000 [42:11<53:46, 359.32it/s]  "
     ]
    },
    {
     "name": "stdout",
     "output_type": "stream",
     "text": [
      "Episode  32 Balance:  -1252.028248333336 Reward:  -1252.028248333336 Loss:  560.9012889687438\n"
     ]
    },
    {
     "name": "stderr",
     "output_type": "stream",
     "text": [
      " 42%|████▏     | 840683/2000000 [42:20<23:15:44, 13.84it/s]"
     ]
    },
    {
     "name": "stdout",
     "output_type": "stream",
     "text": [
      "Absolute Balance:  -294.9182068518519\n"
     ]
    },
    {
     "name": "stderr",
     "output_type": "stream",
     "text": [
      " 43%|████▎     | 867000/2000000 [43:32<55:39, 339.29it/s]  "
     ]
    },
    {
     "name": "stdout",
     "output_type": "stream",
     "text": [
      "Episode  33 Balance:  -1222.027693765434 Reward:  -1222.027693765434 Loss:  548.0984326420585\n"
     ]
    },
    {
     "name": "stderr",
     "output_type": "stream",
     "text": [
      " 45%|████▍     | 893301/2000000 [44:48<50:29, 365.26it/s]  "
     ]
    },
    {
     "name": "stdout",
     "output_type": "stream",
     "text": [
      "Episode  34 Balance:  -1220.6479625308668 Reward:  -1220.6479625308668 Loss:  539.3736956367502\n"
     ]
    },
    {
     "name": "stderr",
     "output_type": "stream",
     "text": [
      " 46%|████▌     | 919627/2000000 [45:59<48:54, 368.22it/s]  "
     ]
    },
    {
     "name": "stdout",
     "output_type": "stream",
     "text": [
      "Episode  35 Balance:  -1211.4398295061767 Reward:  -1211.4398295061767 Loss:  496.083565115463\n"
     ]
    },
    {
     "name": "stderr",
     "output_type": "stream",
     "text": [
      " 47%|████▋     | 945838/2000000 [47:12<48:24, 362.99it/s]  "
     ]
    },
    {
     "name": "stdout",
     "output_type": "stream",
     "text": [
      "Episode  36 Balance:  -1240.1153053086416 Reward:  -1240.1153053086416 Loss:  483.48489666741807\n"
     ]
    },
    {
     "name": "stderr",
     "output_type": "stream",
     "text": [
      " 47%|████▋     | 945908/2000000 [47:21<15:18:49, 19.12it/s]"
     ]
    },
    {
     "name": "stdout",
     "output_type": "stream",
     "text": [
      "Absolute Balance:  -261.1519669753087\n"
     ]
    },
    {
     "name": "stderr",
     "output_type": "stream",
     "text": [
      " 49%|████▊     | 972217/2000000 [48:33<45:57, 372.71it/s]  "
     ]
    },
    {
     "name": "stdout",
     "output_type": "stream",
     "text": [
      "Episode  37 Balance:  -1385.8541501234583 Reward:  -1385.8541501234583 Loss:  492.1520516520832\n"
     ]
    },
    {
     "name": "stderr",
     "output_type": "stream",
     "text": [
      " 50%|████▉     | 998502/2000000 [49:47<46:08, 361.79it/s]  "
     ]
    },
    {
     "name": "stdout",
     "output_type": "stream",
     "text": [
      "Episode  38 Balance:  -1070.50770080247 Reward:  -1070.50770080247 Loss:  533.381360729807\n"
     ]
    },
    {
     "name": "stderr",
     "output_type": "stream",
     "text": [
      " 51%|█████     | 1024832/2000000 [51:00<48:30, 335.10it/s]  "
     ]
    },
    {
     "name": "stdout",
     "output_type": "stream",
     "text": [
      "Episode  39 Balance:  -1343.187023827165 Reward:  -1343.187023827165 Loss:  498.3002140875906\n"
     ]
    },
    {
     "name": "stderr",
     "output_type": "stream",
     "text": [
      " 53%|█████▎    | 1051063/2000000 [52:12<43:19, 365.05it/s]  "
     ]
    },
    {
     "name": "stdout",
     "output_type": "stream",
     "text": [
      "Episode  40 Balance:  -1247.6208850000005 Reward:  -1247.6208850000005 Loss:  515.8080744489562\n"
     ]
    },
    {
     "name": "stderr",
     "output_type": "stream",
     "text": [
      " 53%|█████▎    | 1051135/2000000 [52:21<13:47:05, 19.12it/s]"
     ]
    },
    {
     "name": "stdout",
     "output_type": "stream",
     "text": [
      "Absolute Balance:  -386.69894796296296\n"
     ]
    },
    {
     "name": "stderr",
     "output_type": "stream",
     "text": [
      " 54%|█████▍    | 1077425/2000000 [53:33<45:05, 340.95it/s]  "
     ]
    },
    {
     "name": "stdout",
     "output_type": "stream",
     "text": [
      "Episode  41 Balance:  -1181.4751909876531 Reward:  -1181.4751909876531 Loss:  533.895312389126\n"
     ]
    },
    {
     "name": "stderr",
     "output_type": "stream",
     "text": [
      " 55%|█████▌    | 1103737/2000000 [54:45<39:24, 379.09it/s]  "
     ]
    },
    {
     "name": "stdout",
     "output_type": "stream",
     "text": [
      "Episode  42 Balance:  -1282.5976346913606 Reward:  -1282.5976346913606 Loss:  520.270426801464\n"
     ]
    },
    {
     "name": "stderr",
     "output_type": "stream",
     "text": [
      " 57%|█████▋    | 1130017/2000000 [56:00<55:59, 258.97it/s]  "
     ]
    },
    {
     "name": "stdout",
     "output_type": "stream",
     "text": [
      "Episode  43 Balance:  -1318.3551975925927 Reward:  -1318.3551975925927 Loss:  544.7669384797919\n"
     ]
    },
    {
     "name": "stderr",
     "output_type": "stream",
     "text": [
      " 58%|█████▊    | 1156282/2000000 [57:13<39:28, 356.20it/s]  "
     ]
    },
    {
     "name": "stdout",
     "output_type": "stream",
     "text": [
      "Episode  44 Balance:  -1203.63543061728 Reward:  -1203.63543061728 Loss:  524.8183338690433\n"
     ]
    },
    {
     "name": "stderr",
     "output_type": "stream",
     "text": [
      " 58%|█████▊    | 1156318/2000000 [57:22<17:15:31, 13.58it/s]"
     ]
    },
    {
     "name": "stdout",
     "output_type": "stream",
     "text": [
      "Absolute Balance:  -302.18383246913584\n"
     ]
    },
    {
     "name": "stderr",
     "output_type": "stream",
     "text": [
      " 59%|█████▉    | 1182651/2000000 [58:36<36:25, 373.97it/s]  "
     ]
    },
    {
     "name": "stdout",
     "output_type": "stream",
     "text": [
      "Episode  45 Balance:  -1331.0406179629592 Reward:  -1331.0406179629592 Loss:  546.6624962008791\n"
     ]
    },
    {
     "name": "stderr",
     "output_type": "stream",
     "text": [
      " 60%|██████    | 1208949/2000000 [59:49<36:39, 359.69it/s]"
     ]
    },
    {
     "name": "stdout",
     "output_type": "stream",
     "text": [
      "Episode  46 Balance:  -1243.329886358023 Reward:  -1243.329886358023 Loss:  484.82890242512804\n"
     ]
    },
    {
     "name": "stderr",
     "output_type": "stream",
     "text": [
      " 62%|██████▏   | 1235243/2000000 [1:01:01<36:17, 351.21it/s]"
     ]
    },
    {
     "name": "stdout",
     "output_type": "stream",
     "text": [
      "Episode  47 Balance:  -1336.530382592595 Reward:  -1336.530382592595 Loss:  486.688590731821\n"
     ]
    },
    {
     "name": "stderr",
     "output_type": "stream",
     "text": [
      " 63%|██████▎   | 1261474/2000000 [1:02:16<32:29, 378.90it/s]  "
     ]
    },
    {
     "name": "stdout",
     "output_type": "stream",
     "text": [
      "Episode  48 Balance:  -1224.1465846913616 Reward:  -1224.1465846913616 Loss:  489.6405435942579\n"
     ]
    },
    {
     "name": "stderr",
     "output_type": "stream",
     "text": [
      " 63%|██████▎   | 1261545/2000000 [1:02:24<10:41:37, 19.18it/s]"
     ]
    },
    {
     "name": "stdout",
     "output_type": "stream",
     "text": [
      "Absolute Balance:  -253.7825590123457\n"
     ]
    },
    {
     "name": "stderr",
     "output_type": "stream",
     "text": [
      " 64%|██████▍   | 1287870/2000000 [1:03:37<31:36, 375.41it/s]  "
     ]
    },
    {
     "name": "stdout",
     "output_type": "stream",
     "text": [
      "Episode  49 Balance:  -1244.1128886419701 Reward:  -1244.1128886419701 Loss:  467.6575682555558\n"
     ]
    },
    {
     "name": "stderr",
     "output_type": "stream",
     "text": [
      " 66%|██████▌   | 1314174/2000000 [1:04:49<30:30, 374.64it/s]"
     ]
    },
    {
     "name": "stdout",
     "output_type": "stream",
     "text": [
      "Episode  50 Balance:  -1184.471391790122 Reward:  -1184.471391790122 Loss:  478.69227996689733\n"
     ]
    },
    {
     "name": "stderr",
     "output_type": "stream",
     "text": [
      " 67%|██████▋   | 1340447/2000000 [1:06:01<29:51, 368.18it/s]"
     ]
    },
    {
     "name": "stdout",
     "output_type": "stream",
     "text": [
      "Episode  51 Balance:  -1164.0655659259285 Reward:  -1164.0655659259285 Loss:  490.2762866714038\n"
     ]
    },
    {
     "name": "stderr",
     "output_type": "stream",
     "text": [
      " 68%|██████▊   | 1366693/2000000 [1:07:16<27:59, 377.01it/s]"
     ]
    },
    {
     "name": "stdout",
     "output_type": "stream",
     "text": [
      "Episode  52 Balance:  -1164.574908950616 Reward:  -1164.574908950616 Loss:  515.3440860360861\n"
     ]
    },
    {
     "name": "stderr",
     "output_type": "stream",
     "text": [
      " 68%|██████▊   | 1366764/2000000 [1:07:25<9:19:19, 18.87it/s] "
     ]
    },
    {
     "name": "stdout",
     "output_type": "stream",
     "text": [
      "Absolute Balance:  -322.20431493827164\n"
     ]
    },
    {
     "name": "stderr",
     "output_type": "stream",
     "text": [
      " 70%|██████▉   | 1393052/2000000 [1:08:37<26:38, 379.81it/s]  "
     ]
    },
    {
     "name": "stdout",
     "output_type": "stream",
     "text": [
      "Episode  53 Balance:  -1307.2410430246937 Reward:  -1307.2410430246937 Loss:  506.51508695899975\n"
     ]
    },
    {
     "name": "stderr",
     "output_type": "stream",
     "text": [
      " 71%|███████   | 1419352/2000000 [1:09:49<26:56, 359.09it/s]"
     ]
    },
    {
     "name": "stdout",
     "output_type": "stream",
     "text": [
      "Episode  54 Balance:  -1271.4339899999989 Reward:  -1271.4339899999989 Loss:  501.6570227353368\n"
     ]
    },
    {
     "name": "stderr",
     "output_type": "stream",
     "text": [
      " 72%|███████▏  | 1445681/2000000 [1:11:01<24:53, 371.17it/s]"
     ]
    },
    {
     "name": "stdout",
     "output_type": "stream",
     "text": [
      "Episode  55 Balance:  -1231.001992777776 Reward:  -1231.001992777776 Loss:  513.8863641662756\n"
     ]
    },
    {
     "name": "stderr",
     "output_type": "stream",
     "text": [
      " 74%|███████▎  | 1471905/2000000 [1:12:13<30:15, 290.93it/s]"
     ]
    },
    {
     "name": "stdout",
     "output_type": "stream",
     "text": [
      "Episode  56 Balance:  -1232.5073440740698 Reward:  -1232.5073440740698 Loss:  481.0085982881719\n"
     ]
    },
    {
     "name": "stderr",
     "output_type": "stream",
     "text": [
      " 74%|███████▎  | 1471966/2000000 [1:12:24<10:34:00, 13.88it/s]"
     ]
    },
    {
     "name": "stdout",
     "output_type": "stream",
     "text": [
      "Absolute Balance:  -167.72723030864202\n"
     ]
    },
    {
     "name": "stderr",
     "output_type": "stream",
     "text": [
      " 75%|███████▍  | 1498281/2000000 [1:13:37<22:01, 379.58it/s]  "
     ]
    },
    {
     "name": "stdout",
     "output_type": "stream",
     "text": [
      "Episode  57 Balance:  -1151.637435061731 Reward:  -1151.637435061731 Loss:  515.5404073233949\n"
     ]
    },
    {
     "name": "stderr",
     "output_type": "stream",
     "text": [
      " 76%|███████▌  | 1524589/2000000 [1:14:49<21:54, 361.59it/s]"
     ]
    },
    {
     "name": "stdout",
     "output_type": "stream",
     "text": [
      "Episode  58 Balance:  -1164.300790740743 Reward:  -1164.300790740743 Loss:  525.7778448030585\n"
     ]
    },
    {
     "name": "stderr",
     "output_type": "stream",
     "text": [
      " 78%|███████▊  | 1550868/2000000 [1:16:01<20:18, 368.73it/s]"
     ]
    },
    {
     "name": "stdout",
     "output_type": "stream",
     "text": [
      "Episode  59 Balance:  -1187.4154174074047 Reward:  -1187.4154174074047 Loss:  484.1394465712365\n"
     ]
    },
    {
     "name": "stderr",
     "output_type": "stream",
     "text": [
      " 79%|███████▉  | 1577116/2000000 [1:17:13<18:37, 378.28it/s]"
     ]
    },
    {
     "name": "stdout",
     "output_type": "stream",
     "text": [
      "Episode  60 Balance:  -1157.282261790125 Reward:  -1157.282261790125 Loss:  481.092795581324\n"
     ]
    },
    {
     "name": "stderr",
     "output_type": "stream",
     "text": [
      " 79%|███████▉  | 1577188/2000000 [1:17:22<6:07:51, 19.16it/s]"
     ]
    },
    {
     "name": "stdout",
     "output_type": "stream",
     "text": [
      "Absolute Balance:  -347.8684655555556\n"
     ]
    },
    {
     "name": "stderr",
     "output_type": "stream",
     "text": [
      " 80%|████████  | 1603472/2000000 [1:18:38<18:51, 350.60it/s]  "
     ]
    },
    {
     "name": "stdout",
     "output_type": "stream",
     "text": [
      "Episode  61 Balance:  -1275.2952560493788 Reward:  -1275.2952560493788 Loss:  463.49088890478015\n"
     ]
    },
    {
     "name": "stderr",
     "output_type": "stream",
     "text": [
      " 81%|████████▏ | 1629788/2000000 [1:20:00<20:27, 301.48it/s]"
     ]
    },
    {
     "name": "stdout",
     "output_type": "stream",
     "text": [
      "Episode  62 Balance:  -1228.2001476543203 Reward:  -1228.2001476543203 Loss:  461.7816715715453\n"
     ]
    },
    {
     "name": "stderr",
     "output_type": "stream",
     "text": [
      " 83%|████████▎ | 1656109/2000000 [1:21:22<15:14, 376.19it/s]"
     ]
    },
    {
     "name": "stdout",
     "output_type": "stream",
     "text": [
      "Episode  63 Balance:  -1074.6445423456798 Reward:  -1074.6445423456798 Loss:  469.1636807405157\n"
     ]
    },
    {
     "name": "stderr",
     "output_type": "stream",
     "text": [
      " 84%|████████▍ | 1682329/2000000 [1:22:34<15:16, 346.52it/s]"
     ]
    },
    {
     "name": "stdout",
     "output_type": "stream",
     "text": [
      "Episode  64 Balance:  -1193.3710475925932 Reward:  -1193.3710475925932 Loss:  495.5971952081891\n"
     ]
    },
    {
     "name": "stderr",
     "output_type": "stream",
     "text": [
      " 84%|████████▍ | 1682364/2000000 [1:22:43<6:25:52, 13.72it/s]"
     ]
    },
    {
     "name": "stdout",
     "output_type": "stream",
     "text": [
      "Absolute Balance:  -134.3177019753087\n"
     ]
    },
    {
     "name": "stderr",
     "output_type": "stream",
     "text": [
      " 85%|████████▌ | 1708689/2000000 [1:23:57<17:02, 284.96it/s] "
     ]
    },
    {
     "name": "stdout",
     "output_type": "stream",
     "text": [
      "Episode  65 Balance:  -1287.8557945679047 Reward:  -1287.8557945679047 Loss:  500.42136501555797\n"
     ]
    },
    {
     "name": "stderr",
     "output_type": "stream",
     "text": [
      " 87%|████████▋ | 1735000/2000000 [1:25:11<12:18, 358.84it/s]"
     ]
    },
    {
     "name": "stdout",
     "output_type": "stream",
     "text": [
      "Episode  66 Balance:  -1211.201338580248 Reward:  -1211.201338580248 Loss:  497.6035855319351\n"
     ]
    },
    {
     "name": "stderr",
     "output_type": "stream",
     "text": [
      " 88%|████████▊ | 1761306/2000000 [1:26:24<10:39, 373.16it/s]"
     ]
    },
    {
     "name": "stdout",
     "output_type": "stream",
     "text": [
      "Episode  67 Balance:  -1113.8292361111098 Reward:  -1113.8292361111098 Loss:  496.200069939252\n"
     ]
    },
    {
     "name": "stderr",
     "output_type": "stream",
     "text": [
      " 89%|████████▉ | 1787544/2000000 [1:27:36<09:26, 374.84it/s]"
     ]
    },
    {
     "name": "stdout",
     "output_type": "stream",
     "text": [
      "Episode  68 Balance:  -1276.5008327160506 Reward:  -1276.5008327160506 Loss:  464.5553340722108\n"
     ]
    },
    {
     "name": "stderr",
     "output_type": "stream",
     "text": [
      " 89%|████████▉ | 1787615/2000000 [1:27:45<3:04:37, 19.17it/s]"
     ]
    },
    {
     "name": "stdout",
     "output_type": "stream",
     "text": [
      "Absolute Balance:  -253.52756882716056\n"
     ]
    },
    {
     "name": "stderr",
     "output_type": "stream",
     "text": [
      " 91%|█████████ | 1813904/2000000 [1:28:57<08:17, 374.11it/s] "
     ]
    },
    {
     "name": "stdout",
     "output_type": "stream",
     "text": [
      "Episode  69 Balance:  -1236.0857681481477 Reward:  -1236.0857681481477 Loss:  454.2100679674768\n"
     ]
    },
    {
     "name": "stderr",
     "output_type": "stream",
     "text": [
      " 92%|█████████▏| 1840227/2000000 [1:30:13<07:06, 374.31it/s]"
     ]
    },
    {
     "name": "stdout",
     "output_type": "stream",
     "text": [
      "Episode  70 Balance:  -1219.011779382714 Reward:  -1219.011779382714 Loss:  461.5328532916028\n"
     ]
    },
    {
     "name": "stderr",
     "output_type": "stream",
     "text": [
      " 93%|█████████▎| 1866504/2000000 [1:31:25<06:10, 360.73it/s]"
     ]
    },
    {
     "name": "stdout",
     "output_type": "stream",
     "text": [
      "Episode  71 Balance:  -1218.3474161111087 Reward:  -1218.3474161111087 Loss:  456.0410777418874\n"
     ]
    },
    {
     "name": "stderr",
     "output_type": "stream",
     "text": [
      " 95%|█████████▍| 1892739/2000000 [1:32:37<04:43, 378.33it/s]"
     ]
    },
    {
     "name": "stdout",
     "output_type": "stream",
     "text": [
      "Episode  72 Balance:  -1208.6283855555582 Reward:  -1208.6283855555582 Loss:  432.2916711308062\n"
     ]
    },
    {
     "name": "stderr",
     "output_type": "stream",
     "text": [
      " 95%|█████████▍| 1892811/2000000 [1:32:46<1:31:59, 19.42it/s]"
     ]
    },
    {
     "name": "stdout",
     "output_type": "stream",
     "text": [
      "Absolute Balance:  -266.7764728395062\n"
     ]
    },
    {
     "name": "stderr",
     "output_type": "stream",
     "text": [
      " 96%|█████████▌| 1919140/2000000 [1:33:58<03:37, 372.31it/s] "
     ]
    },
    {
     "name": "stdout",
     "output_type": "stream",
     "text": [
      "Episode  73 Balance:  -1138.935467160493 Reward:  -1138.935467160493 Loss:  449.2686127098277\n"
     ]
    },
    {
     "name": "stderr",
     "output_type": "stream",
     "text": [
      " 97%|█████████▋| 1945413/2000000 [1:35:13<03:04, 296.00it/s]"
     ]
    },
    {
     "name": "stdout",
     "output_type": "stream",
     "text": [
      "Episode  74 Balance:  -1149.6739230864216 Reward:  -1149.6739230864216 Loss:  446.92085477826186\n"
     ]
    },
    {
     "name": "stderr",
     "output_type": "stream",
     "text": [
      " 99%|█████████▊| 1971748/2000000 [1:36:26<01:14, 378.94it/s]"
     ]
    },
    {
     "name": "stdout",
     "output_type": "stream",
     "text": [
      "Episode  75 Balance:  -1333.0080153703716 Reward:  -1333.0080153703716 Loss:  478.0628170137061\n"
     ]
    },
    {
     "name": "stderr",
     "output_type": "stream",
     "text": [
      "100%|█████████▉| 1997978/2000000 [1:37:38<00:05, 377.53it/s]"
     ]
    },
    {
     "name": "stdout",
     "output_type": "stream",
     "text": [
      "Episode  76 Balance:  -1217.422964135801 Reward:  -1217.422964135801 Loss:  461.5888005044544\n"
     ]
    },
    {
     "name": "stderr",
     "output_type": "stream",
     "text": [
      "100%|█████████▉| 1998016/2000000 [1:37:47<02:18, 14.34it/s] "
     ]
    },
    {
     "name": "stdout",
     "output_type": "stream",
     "text": [
      "Absolute Balance:  -303.50649160493833\n"
     ]
    },
    {
     "name": "stderr",
     "output_type": "stream",
     "text": [
      "100%|██████████| 2000000/2000000 [1:37:53<00:00, 340.52it/s]\n"
     ]
    },
    {
     "name": "stdout",
     "output_type": "stream",
     "text": [
      "\n",
      "\n",
      " Layers: 6, Gamma: 0.94\n",
      "Number of engineered features:  57\n",
      "State dimension:  113\n",
      "Number of DQN Parameters:  48483\n"
     ]
    },
    {
     "name": "stderr",
     "output_type": "stream",
     "text": [
      "/Users/maxfeucht/Documents/VU/Project Reinforcement Learning/BatteryGrid/agent.py:88: RuntimeWarning: invalid value encountered in divide\n",
      "  return (var - np.min(var)) / (np.max(var) - np.min(var))\n",
      "  1%|▏         | 25296/2000000 [01:08<1:40:10, 328.56it/s]"
     ]
    },
    {
     "name": "stdout",
     "output_type": "stream",
     "text": [
      "Episode  1 Balance:  -7977.647809938288 Reward:  -7977.647809938288 Loss:  1915.97924381122\n"
     ]
    },
    {
     "name": "stderr",
     "output_type": "stream",
     "text": [
      "  3%|▎         | 51605/2000000 [02:22<1:31:06, 356.42it/s]"
     ]
    },
    {
     "name": "stdout",
     "output_type": "stream",
     "text": [
      "Episode  2 Balance:  -6397.54349265434 Reward:  -6397.54349265434 Loss:  1350.2412296507973\n"
     ]
    },
    {
     "name": "stderr",
     "output_type": "stream",
     "text": [
      "  4%|▍         | 77904/2000000 [03:41<1:34:31, 338.90it/s]"
     ]
    },
    {
     "name": "stdout",
     "output_type": "stream",
     "text": [
      "Episode  3 Balance:  -4407.763690493819 Reward:  -4407.763690493819 Loss:  1139.236892029643\n"
     ]
    },
    {
     "name": "stderr",
     "output_type": "stream",
     "text": [
      "  5%|▌         | 104151/2000000 [05:01<1:41:58, 309.84it/s]"
     ]
    },
    {
     "name": "stdout",
     "output_type": "stream",
     "text": [
      "Episode  4 Balance:  -2268.525904753081 Reward:  -2268.525904753081 Loss:  900.5176404144149\n"
     ]
    },
    {
     "name": "stderr",
     "output_type": "stream",
     "text": [
      "  5%|▌         | 104207/2000000 [05:11<36:34:49, 14.40it/s]"
     ]
    },
    {
     "name": "stdout",
     "output_type": "stream",
     "text": [
      "Absolute Balance:  -581.2681981481483\n"
     ]
    },
    {
     "name": "stderr",
     "output_type": "stream",
     "text": [
      "  7%|▋         | 130506/2000000 [06:31<1:41:13, 307.79it/s]"
     ]
    },
    {
     "name": "stdout",
     "output_type": "stream",
     "text": [
      "Episode  5 Balance:  -1421.6653058024726 Reward:  -1421.6653058024726 Loss:  705.1216393294744\n"
     ]
    },
    {
     "name": "stderr",
     "output_type": "stream",
     "text": [
      "  8%|▊         | 156807/2000000 [07:52<1:31:54, 334.25it/s]"
     ]
    },
    {
     "name": "stdout",
     "output_type": "stream",
     "text": [
      "Episode  6 Balance:  -1441.3163548148168 Reward:  -1441.3163548148168 Loss:  588.9464327577734\n"
     ]
    },
    {
     "name": "stderr",
     "output_type": "stream",
     "text": [
      "  9%|▉         | 183126/2000000 [09:16<1:30:03, 336.22it/s]"
     ]
    },
    {
     "name": "stdout",
     "output_type": "stream",
     "text": [
      "Episode  7 Balance:  -1409.5559577160486 Reward:  -1409.5559577160486 Loss:  482.3259759222856\n"
     ]
    },
    {
     "name": "stderr",
     "output_type": "stream",
     "text": [
      " 10%|█         | 209374/2000000 [10:37<1:37:18, 306.68it/s]"
     ]
    },
    {
     "name": "stdout",
     "output_type": "stream",
     "text": [
      "Episode  8 Balance:  -1457.663521172842 Reward:  -1457.663521172842 Loss:  461.5893985743169\n"
     ]
    },
    {
     "name": "stderr",
     "output_type": "stream",
     "text": [
      " 10%|█         | 209405/2000000 [10:46<45:57:02, 10.82it/s]"
     ]
    },
    {
     "name": "stdout",
     "output_type": "stream",
     "text": [
      "Absolute Balance:  -531.3767905555555\n"
     ]
    },
    {
     "name": "stderr",
     "output_type": "stream",
     "text": [
      " 12%|█▏        | 235731/2000000 [12:07<1:29:37, 328.07it/s]"
     ]
    },
    {
     "name": "stdout",
     "output_type": "stream",
     "text": [
      "Episode  9 Balance:  -1239.1404363580227 Reward:  -1239.1404363580227 Loss:  448.89849521551514\n"
     ]
    },
    {
     "name": "stderr",
     "output_type": "stream",
     "text": [
      " 13%|█▎        | 262018/2000000 [13:28<1:27:34, 330.76it/s]"
     ]
    },
    {
     "name": "stdout",
     "output_type": "stream",
     "text": [
      "Episode  10 Balance:  -1288.873544629632 Reward:  -1288.873544629632 Loss:  456.38260261598043\n"
     ]
    },
    {
     "name": "stderr",
     "output_type": "stream",
     "text": [
      " 14%|█▍        | 288298/2000000 [14:51<1:24:21, 338.17it/s]"
     ]
    },
    {
     "name": "stdout",
     "output_type": "stream",
     "text": [
      "Episode  11 Balance:  -1315.8479679012328 Reward:  -1315.8479679012328 Loss:  466.72712014615536\n"
     ]
    },
    {
     "name": "stderr",
     "output_type": "stream",
     "text": [
      " 16%|█▌        | 314585/2000000 [16:12<1:36:38, 290.66it/s]"
     ]
    },
    {
     "name": "stdout",
     "output_type": "stream",
     "text": [
      "Episode  12 Balance:  -1449.2030011111137 Reward:  -1449.2030011111137 Loss:  539.5037866056664\n"
     ]
    },
    {
     "name": "stderr",
     "output_type": "stream",
     "text": [
      " 16%|█▌        | 314615/2000000 [16:21<43:08:24, 10.85it/s]"
     ]
    },
    {
     "name": "stdout",
     "output_type": "stream",
     "text": [
      "Absolute Balance:  -246.9873720370371\n"
     ]
    },
    {
     "name": "stderr",
     "output_type": "stream",
     "text": [
      " 17%|█▋        | 340953/2000000 [17:42<1:22:54, 333.48it/s]"
     ]
    },
    {
     "name": "stdout",
     "output_type": "stream",
     "text": [
      "Episode  13 Balance:  -1212.3922498765407 Reward:  -1212.3922498765407 Loss:  611.5551122586476\n"
     ]
    },
    {
     "name": "stderr",
     "output_type": "stream",
     "text": [
      " 18%|█▊        | 367240/2000000 [19:05<1:29:12, 305.03it/s]"
     ]
    },
    {
     "name": "stdout",
     "output_type": "stream",
     "text": [
      "Episode  14 Balance:  -1278.0766129629624 Reward:  -1278.0766129629624 Loss:  594.3817972483812\n"
     ]
    },
    {
     "name": "stderr",
     "output_type": "stream",
     "text": [
      " 20%|█▉        | 393561/2000000 [20:30<1:18:40, 340.33it/s]"
     ]
    },
    {
     "name": "stdout",
     "output_type": "stream",
     "text": [
      "Episode  15 Balance:  -1472.84647166667 Reward:  -1472.84647166667 Loss:  548.6628281924641\n"
     ]
    },
    {
     "name": "stderr",
     "output_type": "stream",
     "text": [
      " 21%|██        | 419775/2000000 [21:51<1:18:06, 337.15it/s]"
     ]
    },
    {
     "name": "stdout",
     "output_type": "stream",
     "text": [
      "Episode  16 Balance:  -1294.3223004321064 Reward:  -1294.3223004321064 Loss:  483.3474519425072\n"
     ]
    },
    {
     "name": "stderr",
     "output_type": "stream",
     "text": [
      " 21%|██        | 419838/2000000 [22:01<27:48:03, 15.79it/s]"
     ]
    },
    {
     "name": "stdout",
     "output_type": "stream",
     "text": [
      "Absolute Balance:  -227.86221882716058\n"
     ]
    },
    {
     "name": "stderr",
     "output_type": "stream",
     "text": [
      " 22%|██▏       | 446127/2000000 [23:22<1:25:49, 301.77it/s]"
     ]
    },
    {
     "name": "stdout",
     "output_type": "stream",
     "text": [
      "Episode  17 Balance:  -1277.0279766049387 Reward:  -1277.0279766049387 Loss:  520.1010862146504\n"
     ]
    },
    {
     "name": "stderr",
     "output_type": "stream",
     "text": [
      " 24%|██▎       | 472451/2000000 [24:42<1:17:42, 327.63it/s]"
     ]
    },
    {
     "name": "stdout",
     "output_type": "stream",
     "text": [
      "Episode  18 Balance:  -1372.3913275308648 Reward:  -1372.3913275308648 Loss:  489.1046662357403\n"
     ]
    },
    {
     "name": "stderr",
     "output_type": "stream",
     "text": [
      " 25%|██▍       | 498746/2000000 [26:06<1:22:45, 302.31it/s]"
     ]
    },
    {
     "name": "stdout",
     "output_type": "stream",
     "text": [
      "Episode  19 Balance:  -1192.0590394444441 Reward:  -1192.0590394444441 Loss:  504.7556764615001\n"
     ]
    },
    {
     "name": "stderr",
     "output_type": "stream",
     "text": [
      " 26%|██▌       | 524991/2000000 [27:27<1:41:01, 243.34it/s]"
     ]
    },
    {
     "name": "stdout",
     "output_type": "stream",
     "text": [
      "Episode  20 Balance:  -1271.6370327777756 Reward:  -1271.6370327777756 Loss:  514.9376640856499\n"
     ]
    },
    {
     "name": "stderr",
     "output_type": "stream",
     "text": [
      " 26%|██▋       | 525049/2000000 [27:36<26:53:53, 15.23it/s]"
     ]
    },
    {
     "name": "stdout",
     "output_type": "stream",
     "text": [
      "Absolute Balance:  -523.664358888889\n"
     ]
    },
    {
     "name": "stderr",
     "output_type": "stream",
     "text": [
      " 28%|██▊       | 551359/2000000 [28:57<1:13:19, 329.28it/s]"
     ]
    },
    {
     "name": "stdout",
     "output_type": "stream",
     "text": [
      "Episode  21 Balance:  -1270.93627925926 Reward:  -1270.93627925926 Loss:  552.2342718696455\n"
     ]
    },
    {
     "name": "stderr",
     "output_type": "stream",
     "text": [
      " 29%|██▉       | 577647/2000000 [30:18<1:14:25, 318.51it/s]"
     ]
    },
    {
     "name": "stdout",
     "output_type": "stream",
     "text": [
      "Episode  22 Balance:  -1220.9671826543224 Reward:  -1220.9671826543224 Loss:  544.5561175781186\n"
     ]
    },
    {
     "name": "stderr",
     "output_type": "stream",
     "text": [
      " 30%|███       | 603977/2000000 [31:42<1:08:45, 338.36it/s]"
     ]
    },
    {
     "name": "stdout",
     "output_type": "stream",
     "text": [
      "Episode  23 Balance:  -1266.3702960493806 Reward:  -1266.3702960493806 Loss:  543.7750570601784\n"
     ]
    },
    {
     "name": "stderr",
     "output_type": "stream",
     "text": [
      " 32%|███▏      | 630217/2000000 [33:03<1:44:03, 219.39it/s]"
     ]
    },
    {
     "name": "stdout",
     "output_type": "stream",
     "text": [
      "Episode  24 Balance:  -1269.916707839503 Reward:  -1269.916707839503 Loss:  514.9573850871529\n"
     ]
    },
    {
     "name": "stderr",
     "output_type": "stream",
     "text": [
      " 32%|███▏      | 630264/2000000 [33:12<29:23:21, 12.95it/s]"
     ]
    },
    {
     "name": "stdout",
     "output_type": "stream",
     "text": [
      "Absolute Balance:  -442.6432604320988\n"
     ]
    },
    {
     "name": "stderr",
     "output_type": "stream",
     "text": [
      " 33%|███▎      | 656570/2000000 [34:35<1:09:40, 321.34it/s]"
     ]
    },
    {
     "name": "stdout",
     "output_type": "stream",
     "text": [
      "Episode  25 Balance:  -1296.597750000003 Reward:  -1296.597750000003 Loss:  513.8322634763899\n"
     ]
    },
    {
     "name": "stderr",
     "output_type": "stream",
     "text": [
      " 34%|███▍      | 682866/2000000 [35:56<1:07:42, 324.24it/s]"
     ]
    },
    {
     "name": "stdout",
     "output_type": "stream",
     "text": [
      "Episode  26 Balance:  -1228.9665541975305 Reward:  -1228.9665541975305 Loss:  502.14330833090935\n"
     ]
    },
    {
     "name": "stderr",
     "output_type": "stream",
     "text": [
      " 35%|███▌      | 709178/2000000 [37:20<1:03:46, 337.34it/s]"
     ]
    },
    {
     "name": "stdout",
     "output_type": "stream",
     "text": [
      "Episode  27 Balance:  -1387.2817327160517 Reward:  -1387.2817327160517 Loss:  492.7022266801796\n"
     ]
    },
    {
     "name": "stderr",
     "output_type": "stream",
     "text": [
      " 37%|███▋      | 735412/2000000 [38:41<1:02:31, 337.11it/s]"
     ]
    },
    {
     "name": "stdout",
     "output_type": "stream",
     "text": [
      "Episode  28 Balance:  -1099.757317098766 Reward:  -1099.757317098766 Loss:  549.4188069393858\n"
     ]
    },
    {
     "name": "stderr",
     "output_type": "stream",
     "text": [
      " 37%|███▋      | 735476/2000000 [38:51<22:19:08, 15.74it/s]"
     ]
    },
    {
     "name": "stdout",
     "output_type": "stream",
     "text": [
      "Absolute Balance:  -313.71457604938274\n"
     ]
    },
    {
     "name": "stderr",
     "output_type": "stream",
     "text": [
      " 38%|███▊      | 761783/2000000 [40:12<1:01:24, 336.09it/s]"
     ]
    },
    {
     "name": "stdout",
     "output_type": "stream",
     "text": [
      "Episode  29 Balance:  -1294.8325606172814 Reward:  -1294.8325606172814 Loss:  537.5542992684059\n"
     ]
    },
    {
     "name": "stderr",
     "output_type": "stream",
     "text": [
      " 39%|███▉      | 788086/2000000 [41:33<1:03:34, 317.74it/s]"
     ]
    },
    {
     "name": "stdout",
     "output_type": "stream",
     "text": [
      "Episode  30 Balance:  -1215.5674025308633 Reward:  -1215.5674025308633 Loss:  554.5953365020687\n"
     ]
    },
    {
     "name": "stderr",
     "output_type": "stream",
     "text": [
      " 41%|████      | 814393/2000000 [42:58<1:02:55, 314.00it/s]"
     ]
    },
    {
     "name": "stdout",
     "output_type": "stream",
     "text": [
      "Episode  31 Balance:  -1442.8976421604934 Reward:  -1442.8976421604934 Loss:  544.4780942910584\n"
     ]
    },
    {
     "name": "stderr",
     "output_type": "stream",
     "text": [
      " 42%|████▏     | 840629/2000000 [44:18<1:02:48, 307.68it/s]"
     ]
    },
    {
     "name": "stdout",
     "output_type": "stream",
     "text": [
      "Episode  32 Balance:  -1240.5187779012356 Reward:  -1240.5187779012356 Loss:  555.2360358538572\n"
     ]
    },
    {
     "name": "stderr",
     "output_type": "stream",
     "text": [
      " 42%|████▏     | 840689/2000000 [44:28<21:08:37, 15.23it/s]"
     ]
    },
    {
     "name": "stdout",
     "output_type": "stream",
     "text": [
      "Absolute Balance:  -262.76994740740747\n"
     ]
    },
    {
     "name": "stderr",
     "output_type": "stream",
     "text": [
      " 43%|████▎     | 867007/2000000 [45:49<57:25, 328.86it/s]  "
     ]
    },
    {
     "name": "stdout",
     "output_type": "stream",
     "text": [
      "Episode  33 Balance:  -1252.0286045061753 Reward:  -1252.0286045061753 Loss:  564.0884496649378\n"
     ]
    },
    {
     "name": "stderr",
     "output_type": "stream",
     "text": [
      " 45%|████▍     | 893318/2000000 [47:09<55:03, 335.05it/s]  "
     ]
    },
    {
     "name": "stdout",
     "output_type": "stream",
     "text": [
      "Episode  34 Balance:  -1387.4587899999988 Reward:  -1387.4587899999988 Loss:  534.8259441998089\n"
     ]
    },
    {
     "name": "stderr",
     "output_type": "stream",
     "text": [
      " 46%|████▌     | 919601/2000000 [48:33<1:05:10, 276.31it/s]"
     ]
    },
    {
     "name": "stdout",
     "output_type": "stream",
     "text": [
      "Episode  35 Balance:  -1233.7936868518516 Reward:  -1233.7936868518516 Loss:  531.9051387519576\n"
     ]
    },
    {
     "name": "stderr",
     "output_type": "stream",
     "text": [
      " 47%|████▋     | 945856/2000000 [49:54<52:22, 335.48it/s]  "
     ]
    },
    {
     "name": "stdout",
     "output_type": "stream",
     "text": [
      "Episode  36 Balance:  -1257.2665238271572 Reward:  -1257.2665238271572 Loss:  512.9780442202464\n"
     ]
    },
    {
     "name": "stderr",
     "output_type": "stream",
     "text": [
      " 47%|████▋     | 945890/2000000 [50:04<24:53:22, 11.76it/s]"
     ]
    },
    {
     "name": "stdout",
     "output_type": "stream",
     "text": [
      "Absolute Balance:  -256.39447228395073\n"
     ]
    },
    {
     "name": "stderr",
     "output_type": "stream",
     "text": [
      " 49%|████▊     | 972207/2000000 [51:25<51:11, 334.60it/s]  "
     ]
    },
    {
     "name": "stdout",
     "output_type": "stream",
     "text": [
      "Episode  37 Balance:  -1190.9345838888903 Reward:  -1190.9345838888903 Loss:  610.6551833653357\n"
     ]
    },
    {
     "name": "stderr",
     "output_type": "stream",
     "text": [
      " 50%|████▉     | 998513/2000000 [52:46<52:08, 320.12it/s]  "
     ]
    },
    {
     "name": "stdout",
     "output_type": "stream",
     "text": [
      "Episode  38 Balance:  -1286.984933827157 Reward:  -1286.984933827157 Loss:  570.2517899202066\n"
     ]
    },
    {
     "name": "stderr",
     "output_type": "stream",
     "text": [
      " 51%|█████     | 1024833/2000000 [54:10<48:25, 335.68it/s]  "
     ]
    },
    {
     "name": "stdout",
     "output_type": "stream",
     "text": [
      "Episode  39 Balance:  -1207.1775025925917 Reward:  -1207.1775025925917 Loss:  572.9833388247062\n"
     ]
    },
    {
     "name": "stderr",
     "output_type": "stream",
     "text": [
      " 53%|█████▎    | 1051058/2000000 [55:31<49:37, 318.70it/s]  "
     ]
    },
    {
     "name": "stdout",
     "output_type": "stream",
     "text": [
      "Episode  40 Balance:  -1241.0293383333321 Reward:  -1241.0293383333321 Loss:  538.0810026637046\n"
     ]
    },
    {
     "name": "stderr",
     "output_type": "stream",
     "text": [
      " 53%|█████▎    | 1051120/2000000 [55:40<17:15:54, 15.27it/s]"
     ]
    },
    {
     "name": "stdout",
     "output_type": "stream",
     "text": [
      "Absolute Balance:  -247.7959866049383\n"
     ]
    },
    {
     "name": "stderr",
     "output_type": "stream",
     "text": [
      " 54%|█████▍    | 1077433/2000000 [57:01<45:48, 335.68it/s]  "
     ]
    },
    {
     "name": "stdout",
     "output_type": "stream",
     "text": [
      "Episode  41 Balance:  -1310.7521848148128 Reward:  -1310.7521848148128 Loss:  504.2441333314637\n"
     ]
    },
    {
     "name": "stderr",
     "output_type": "stream",
     "text": [
      " 55%|█████▌    | 1103744/2000000 [58:22<44:05, 338.78it/s]  "
     ]
    },
    {
     "name": "stdout",
     "output_type": "stream",
     "text": [
      "Episode  42 Balance:  -1359.2146234567924 Reward:  -1359.2146234567924 Loss:  508.0186254841392\n"
     ]
    },
    {
     "name": "stderr",
     "output_type": "stream",
     "text": [
      " 57%|█████▋    | 1130026/2000000 [59:46<43:10, 335.84it/s]  "
     ]
    },
    {
     "name": "stdout",
     "output_type": "stream",
     "text": [
      "Episode  43 Balance:  -1282.925401913585 Reward:  -1282.925401913585 Loss:  481.5919218985946\n"
     ]
    },
    {
     "name": "stderr",
     "output_type": "stream",
     "text": [
      " 58%|█████▊    | 1156264/2000000 [1:01:06<45:24, 309.74it/s]  "
     ]
    },
    {
     "name": "stdout",
     "output_type": "stream",
     "text": [
      "Episode  44 Balance:  -1264.944520432098 Reward:  -1264.944520432098 Loss:  500.1024249107577\n"
     ]
    },
    {
     "name": "stderr",
     "output_type": "stream",
     "text": [
      " 58%|█████▊    | 1156326/2000000 [1:01:16<15:24:40, 15.21it/s]"
     ]
    },
    {
     "name": "stdout",
     "output_type": "stream",
     "text": [
      "Absolute Balance:  -181.16431672839514\n"
     ]
    },
    {
     "name": "stderr",
     "output_type": "stream",
     "text": [
      " 59%|█████▉    | 1182633/2000000 [1:02:37<40:48, 333.76it/s]  "
     ]
    },
    {
     "name": "stdout",
     "output_type": "stream",
     "text": [
      "Episode  45 Balance:  -1133.4676264197535 Reward:  -1133.4676264197535 Loss:  580.6630524104694\n"
     ]
    },
    {
     "name": "stderr",
     "output_type": "stream",
     "text": [
      " 60%|██████    | 1208940/2000000 [1:03:58<39:22, 334.78it/s]  "
     ]
    },
    {
     "name": "stdout",
     "output_type": "stream",
     "text": [
      "Episode  46 Balance:  -1210.1531235802474 Reward:  -1210.1531235802474 Loss:  521.8951789325802\n"
     ]
    },
    {
     "name": "stderr",
     "output_type": "stream",
     "text": [
      " 62%|██████▏   | 1235246/2000000 [1:05:22<37:41, 338.22it/s]  "
     ]
    },
    {
     "name": "stdout",
     "output_type": "stream",
     "text": [
      "Episode  47 Balance:  -1347.7236590740783 Reward:  -1347.7236590740783 Loss:  508.8556983329472\n"
     ]
    },
    {
     "name": "stderr",
     "output_type": "stream",
     "text": [
      " 63%|██████▎   | 1261485/2000000 [1:06:43<36:26, 337.82it/s]  "
     ]
    },
    {
     "name": "stdout",
     "output_type": "stream",
     "text": [
      "Episode  48 Balance:  -1173.2220209876575 Reward:  -1173.2220209876575 Loss:  498.8327253025491\n"
     ]
    },
    {
     "name": "stderr",
     "output_type": "stream",
     "text": [
      " 63%|██████▎   | 1261548/2000000 [1:06:53<13:03:35, 15.71it/s]"
     ]
    },
    {
     "name": "stdout",
     "output_type": "stream",
     "text": [
      "Absolute Balance:  -269.2304457407407\n"
     ]
    },
    {
     "name": "stderr",
     "output_type": "stream",
     "text": [
      " 64%|██████▍   | 1287842/2000000 [1:08:13<35:31, 334.05it/s]  "
     ]
    },
    {
     "name": "stdout",
     "output_type": "stream",
     "text": [
      "Episode  49 Balance:  -1236.8846154938306 Reward:  -1236.8846154938306 Loss:  463.36873222875874\n"
     ]
    },
    {
     "name": "stderr",
     "output_type": "stream",
     "text": [
      " 66%|██████▌   | 1314154/2000000 [1:09:34<33:58, 336.47it/s]"
     ]
    },
    {
     "name": "stdout",
     "output_type": "stream",
     "text": [
      "Episode  50 Balance:  -1164.289406790123 Reward:  -1164.289406790123 Loss:  472.2809336835053\n"
     ]
    },
    {
     "name": "stderr",
     "output_type": "stream",
     "text": [
      " 67%|██████▋   | 1340464/2000000 [1:10:57<34:34, 317.87it/s]  "
     ]
    },
    {
     "name": "stdout",
     "output_type": "stream",
     "text": [
      "Episode  51 Balance:  -1162.0792422222225 Reward:  -1162.0792422222225 Loss:  459.2277427361114\n"
     ]
    },
    {
     "name": "stderr",
     "output_type": "stream",
     "text": [
      " 68%|██████▊   | 1366706/2000000 [1:12:18<31:03, 339.84it/s]"
     ]
    },
    {
     "name": "stdout",
     "output_type": "stream",
     "text": [
      "Episode  52 Balance:  -1124.9687354320995 Reward:  -1124.9687354320995 Loss:  479.0202023964375\n"
     ]
    },
    {
     "name": "stderr",
     "output_type": "stream",
     "text": [
      " 68%|██████▊   | 1366740/2000000 [1:12:28<14:46:41, 11.90it/s]"
     ]
    },
    {
     "name": "stdout",
     "output_type": "stream",
     "text": [
      "Absolute Balance:  -155.33713969135806\n"
     ]
    },
    {
     "name": "stderr",
     "output_type": "stream",
     "text": [
      " 70%|██████▉   | 1393035/2000000 [1:13:49<32:10, 314.43it/s]  "
     ]
    },
    {
     "name": "stdout",
     "output_type": "stream",
     "text": [
      "Episode  53 Balance:  -1106.014443148149 Reward:  -1106.014443148149 Loss:  509.7445339539554\n"
     ]
    },
    {
     "name": "stderr",
     "output_type": "stream",
     "text": [
      " 71%|███████   | 1419353/2000000 [1:15:10<28:55, 334.58it/s]"
     ]
    },
    {
     "name": "stdout",
     "output_type": "stream",
     "text": [
      "Episode  54 Balance:  -1291.0869629629601 Reward:  -1291.0869629629601 Loss:  475.86236359516624\n"
     ]
    },
    {
     "name": "stderr",
     "output_type": "stream",
     "text": [
      " 72%|███████▏  | 1445665/2000000 [1:16:34<28:37, 322.84it/s]"
     ]
    },
    {
     "name": "stdout",
     "output_type": "stream",
     "text": [
      "Episode  55 Balance:  -1310.8107196296264 Reward:  -1310.8107196296264 Loss:  453.67534114921\n"
     ]
    },
    {
     "name": "stderr",
     "output_type": "stream",
     "text": [
      " 74%|███████▎  | 1471913/2000000 [1:17:55<27:12, 323.45it/s]"
     ]
    },
    {
     "name": "stdout",
     "output_type": "stream",
     "text": [
      "Episode  56 Balance:  -1205.2955138271586 Reward:  -1205.2955138271586 Loss:  452.2944779872196\n"
     ]
    },
    {
     "name": "stderr",
     "output_type": "stream",
     "text": [
      " 74%|███████▎  | 1471979/2000000 [1:18:05<9:17:48, 15.78it/s] "
     ]
    },
    {
     "name": "stdout",
     "output_type": "stream",
     "text": [
      "Absolute Balance:  -270.57593333333347\n"
     ]
    },
    {
     "name": "stderr",
     "output_type": "stream",
     "text": [
      " 75%|███████▍  | 1498265/2000000 [1:19:25<25:23, 329.35it/s]  "
     ]
    },
    {
     "name": "stdout",
     "output_type": "stream",
     "text": [
      "Episode  57 Balance:  -1220.7499101851874 Reward:  -1220.7499101851874 Loss:  466.10481335944496\n"
     ]
    },
    {
     "name": "stderr",
     "output_type": "stream",
     "text": [
      " 76%|███████▌  | 1524590/2000000 [1:20:49<23:36, 335.57it/s]  "
     ]
    },
    {
     "name": "stdout",
     "output_type": "stream",
     "text": [
      "Episode  58 Balance:  -1144.8106743209862 Reward:  -1144.8106743209862 Loss:  450.99410819332115\n"
     ]
    },
    {
     "name": "stderr",
     "output_type": "stream",
     "text": [
      " 78%|███████▊  | 1550888/2000000 [1:22:13<25:29, 293.61it/s]"
     ]
    },
    {
     "name": "stdout",
     "output_type": "stream",
     "text": [
      "Episode  59 Balance:  -1253.0769261728392 Reward:  -1253.0769261728392 Loss:  479.3942457793164\n"
     ]
    },
    {
     "name": "stderr",
     "output_type": "stream",
     "text": [
      " 79%|███████▉  | 1577125/2000000 [1:23:34<21:49, 323.01it/s]"
     ]
    },
    {
     "name": "stdout",
     "output_type": "stream",
     "text": [
      "Episode  60 Balance:  -1144.0372622222208 Reward:  -1144.0372622222208 Loss:  467.63374822516926\n"
     ]
    },
    {
     "name": "stderr",
     "output_type": "stream",
     "text": [
      " 79%|███████▉  | 1577184/2000000 [1:23:44<7:54:28, 14.85it/s] "
     ]
    },
    {
     "name": "stdout",
     "output_type": "stream",
     "text": [
      "Absolute Balance:  -106.19170475308647\n"
     ]
    },
    {
     "name": "stderr",
     "output_type": "stream",
     "text": [
      " 80%|████████  | 1603476/2000000 [1:25:04<19:37, 336.87it/s]  "
     ]
    },
    {
     "name": "stdout",
     "output_type": "stream",
     "text": [
      "Episode  61 Balance:  -1281.7143012962952 Reward:  -1281.7143012962952 Loss:  463.7118410275434\n"
     ]
    },
    {
     "name": "stderr",
     "output_type": "stream",
     "text": [
      " 81%|████████▏ | 1629779/2000000 [1:26:26<18:35, 331.89it/s]"
     ]
    },
    {
     "name": "stdout",
     "output_type": "stream",
     "text": [
      "Episode  62 Balance:  -1121.6716168518506 Reward:  -1121.6716168518506 Loss:  462.4686651098309\n"
     ]
    },
    {
     "name": "stderr",
     "output_type": "stream",
     "text": [
      " 83%|████████▎ | 1656079/2000000 [1:27:47<16:51, 340.09it/s]"
     ]
    },
    {
     "name": "stdout",
     "output_type": "stream",
     "text": [
      "Episode  63 Balance:  -1091.0375927777795 Reward:  -1091.0375927777795 Loss:  493.1362070053001\n"
     ]
    },
    {
     "name": "stderr",
     "output_type": "stream",
     "text": [
      " 84%|████████▍ | 1682333/2000000 [1:29:12<15:39, 338.10it/s]"
     ]
    },
    {
     "name": "stdout",
     "output_type": "stream",
     "text": [
      "Episode  64 Balance:  -1229.4914290740778 Reward:  -1229.4914290740778 Loss:  469.623309560935\n"
     ]
    },
    {
     "name": "stderr",
     "output_type": "stream",
     "text": [
      " 84%|████████▍ | 1682367/2000000 [1:29:21<7:34:03, 11.66it/s]"
     ]
    },
    {
     "name": "stdout",
     "output_type": "stream",
     "text": [
      "Absolute Balance:  -280.5473483333334\n"
     ]
    },
    {
     "name": "stderr",
     "output_type": "stream",
     "text": [
      " 85%|████████▌ | 1708700/2000000 [1:30:42<14:41, 330.48it/s] "
     ]
    },
    {
     "name": "stdout",
     "output_type": "stream",
     "text": [
      "Episode  65 Balance:  -1346.3638119753082 Reward:  -1346.3638119753082 Loss:  486.8595086871064\n"
     ]
    },
    {
     "name": "stderr",
     "output_type": "stream",
     "text": [
      " 87%|████████▋ | 1734998/2000000 [1:32:04<13:31, 326.63it/s]"
     ]
    },
    {
     "name": "stdout",
     "output_type": "stream",
     "text": [
      "Episode  66 Balance:  -1232.0645231481471 Reward:  -1232.0645231481471 Loss:  464.9731699996628\n"
     ]
    },
    {
     "name": "stderr",
     "output_type": "stream",
     "text": [
      " 88%|████████▊ | 1761294/2000000 [1:33:25<11:50, 335.93it/s]"
     ]
    },
    {
     "name": "stdout",
     "output_type": "stream",
     "text": [
      "Episode  67 Balance:  -1262.4641710493852 Reward:  -1262.4641710493852 Loss:  472.6356397711206\n"
     ]
    },
    {
     "name": "stderr",
     "output_type": "stream",
     "text": [
      " 89%|████████▉ | 1787552/2000000 [1:34:49<10:57, 322.94it/s]"
     ]
    },
    {
     "name": "stdout",
     "output_type": "stream",
     "text": [
      "Episode  68 Balance:  -1173.120999506171 Reward:  -1173.120999506171 Loss:  476.8088110148674\n"
     ]
    },
    {
     "name": "stderr",
     "output_type": "stream",
     "text": [
      " 89%|████████▉ | 1787612/2000000 [1:34:59<3:53:20, 15.17it/s]"
     ]
    },
    {
     "name": "stdout",
     "output_type": "stream",
     "text": [
      "Absolute Balance:  -255.99621098765436\n"
     ]
    },
    {
     "name": "stderr",
     "output_type": "stream",
     "text": [
      " 91%|█████████ | 1813913/2000000 [1:36:19<09:07, 340.13it/s] "
     ]
    },
    {
     "name": "stdout",
     "output_type": "stream",
     "text": [
      "Episode  69 Balance:  -1303.4385393827154 Reward:  -1303.4385393827154 Loss:  479.0380687797442\n"
     ]
    },
    {
     "name": "stderr",
     "output_type": "stream",
     "text": [
      " 92%|█████████▏| 1840225/2000000 [1:37:42<07:54, 336.74it/s]"
     ]
    },
    {
     "name": "stdout",
     "output_type": "stream",
     "text": [
      "Episode  70 Balance:  -1240.253045987655 Reward:  -1240.253045987655 Loss:  452.9618298317073\n"
     ]
    },
    {
     "name": "stderr",
     "output_type": "stream",
     "text": [
      " 93%|█████████▎| 1866529/2000000 [1:39:03<06:34, 337.96it/s]"
     ]
    },
    {
     "name": "stdout",
     "output_type": "stream",
     "text": [
      "Episode  71 Balance:  -1222.1796824691348 Reward:  -1222.1796824691348 Loss:  465.5925752824405\n"
     ]
    },
    {
     "name": "stderr",
     "output_type": "stream",
     "text": [
      " 95%|█████████▍| 1892738/2000000 [1:40:26<06:15, 285.58it/s]"
     ]
    },
    {
     "name": "stdout",
     "output_type": "stream",
     "text": [
      "Episode  72 Balance:  -1225.4583643827173 Reward:  -1225.4583643827173 Loss:  471.0483121193247\n"
     ]
    },
    {
     "name": "stderr",
     "output_type": "stream",
     "text": [
      " 95%|█████████▍| 1892798/2000000 [1:40:36<2:15:44, 13.16it/s]"
     ]
    },
    {
     "name": "stdout",
     "output_type": "stream",
     "text": [
      "Absolute Balance:  -238.44059376543214\n"
     ]
    },
    {
     "name": "stderr",
     "output_type": "stream",
     "text": [
      " 96%|█████████▌| 1919108/2000000 [1:41:58<04:07, 327.09it/s] "
     ]
    },
    {
     "name": "stdout",
     "output_type": "stream",
     "text": [
      "Episode  73 Balance:  -1397.7462552469128 Reward:  -1397.7462552469128 Loss:  439.6003944200929\n"
     ]
    },
    {
     "name": "stderr",
     "output_type": "stream",
     "text": [
      " 97%|█████████▋| 1945424/2000000 [1:43:19<02:42, 335.62it/s]"
     ]
    },
    {
     "name": "stdout",
     "output_type": "stream",
     "text": [
      "Episode  74 Balance:  -1287.7916956172837 Reward:  -1287.7916956172837 Loss:  430.6799036554876\n"
     ]
    },
    {
     "name": "stderr",
     "output_type": "stream",
     "text": [
      " 99%|█████████▊| 1971718/2000000 [1:44:41<01:46, 264.39it/s]"
     ]
    },
    {
     "name": "stdout",
     "output_type": "stream",
     "text": [
      "Episode  75 Balance:  -1358.3357443209875 Reward:  -1358.3357443209875 Loss:  443.60615161270835\n"
     ]
    },
    {
     "name": "stderr",
     "output_type": "stream",
     "text": [
      "100%|█████████▉| 1997963/2000000 [1:46:03<00:06, 306.50it/s]"
     ]
    },
    {
     "name": "stdout",
     "output_type": "stream",
     "text": [
      "Episode  76 Balance:  -1237.0387345061745 Reward:  -1237.0387345061745 Loss:  409.2290738147567\n"
     ]
    },
    {
     "name": "stderr",
     "output_type": "stream",
     "text": [
      "100%|█████████▉| 1998023/2000000 [1:46:14<02:28, 13.27it/s] "
     ]
    },
    {
     "name": "stdout",
     "output_type": "stream",
     "text": [
      "Absolute Balance:  -254.16123820987661\n"
     ]
    },
    {
     "name": "stderr",
     "output_type": "stream",
     "text": [
      "100%|██████████| 2000000/2000000 [1:46:20<00:00, 313.45it/s]\n"
     ]
    },
    {
     "name": "stdout",
     "output_type": "stream",
     "text": [
      "\n",
      "\n",
      " Layers: 5, Gamma: 0.95\n",
      "Number of engineered features:  57\n",
      "State dimension:  113\n",
      "Number of DQN Parameters:  39171\n"
     ]
    },
    {
     "name": "stderr",
     "output_type": "stream",
     "text": [
      "/Users/maxfeucht/Documents/VU/Project Reinforcement Learning/BatteryGrid/agent.py:88: RuntimeWarning: invalid value encountered in divide\n",
      "  return (var - np.min(var)) / (np.max(var) - np.min(var))\n",
      "  1%|▏         | 25301/2000000 [01:01<1:20:52, 406.94it/s]"
     ]
    },
    {
     "name": "stdout",
     "output_type": "stream",
     "text": [
      "Episode  1 Balance:  -7808.009765925909 Reward:  -7808.009765925909 Loss:  1736.8528165449388\n"
     ]
    },
    {
     "name": "stderr",
     "output_type": "stream",
     "text": [
      "  3%|▎         | 51618/2000000 [02:08<1:19:38, 407.75it/s]"
     ]
    },
    {
     "name": "stdout",
     "output_type": "stream",
     "text": [
      "Episode  2 Balance:  -6125.993205432113 Reward:  -6125.993205432113 Loss:  1152.715011948254\n"
     ]
    },
    {
     "name": "stderr",
     "output_type": "stream",
     "text": [
      "  4%|▍         | 77917/2000000 [03:17<1:22:14, 389.52it/s]"
     ]
    },
    {
     "name": "stdout",
     "output_type": "stream",
     "text": [
      "Episode  3 Balance:  -4323.13214833332 Reward:  -4323.13214833332 Loss:  903.0217819784302\n"
     ]
    },
    {
     "name": "stderr",
     "output_type": "stream",
     "text": [
      "  5%|▌         | 104151/2000000 [04:28<1:24:01, 376.08it/s]"
     ]
    },
    {
     "name": "stdout",
     "output_type": "stream",
     "text": [
      "Episode  4 Balance:  -2047.8383120987676 Reward:  -2047.8383120987676 Loss:  757.6786029823124\n"
     ]
    },
    {
     "name": "stderr",
     "output_type": "stream",
     "text": [
      "  5%|▌         | 104223/2000000 [04:37<27:04:03, 19.46it/s]"
     ]
    },
    {
     "name": "stdout",
     "output_type": "stream",
     "text": [
      "Absolute Balance:  -315.4718649382716\n"
     ]
    },
    {
     "name": "stderr",
     "output_type": "stream",
     "text": [
      "  7%|▋         | 130489/2000000 [05:54<1:26:11, 361.50it/s]"
     ]
    },
    {
     "name": "stdout",
     "output_type": "stream",
     "text": [
      "Episode  5 Balance:  -1428.6931595679027 Reward:  -1428.6931595679027 Loss:  617.4182781204581\n"
     ]
    },
    {
     "name": "stderr",
     "output_type": "stream",
     "text": [
      "  8%|▊         | 156840/2000000 [07:08<1:23:54, 366.09it/s]"
     ]
    },
    {
     "name": "stdout",
     "output_type": "stream",
     "text": [
      "Episode  6 Balance:  -1240.3621420370403 Reward:  -1240.3621420370403 Loss:  561.7138570455136\n"
     ]
    },
    {
     "name": "stderr",
     "output_type": "stream",
     "text": [
      "  9%|▉         | 183112/2000000 [08:20<1:20:36, 375.69it/s]"
     ]
    },
    {
     "name": "stdout",
     "output_type": "stream",
     "text": [
      "Episode  7 Balance:  -1063.0592943827185 Reward:  -1063.0592943827185 Loss:  574.9021531974431\n"
     ]
    },
    {
     "name": "stderr",
     "output_type": "stream",
     "text": [
      " 10%|█         | 209349/2000000 [09:33<1:19:38, 374.77it/s]"
     ]
    },
    {
     "name": "stdout",
     "output_type": "stream",
     "text": [
      "Episode  8 Balance:  -1097.7117032716064 Reward:  -1097.7117032716064 Loss:  606.5255581816891\n"
     ]
    },
    {
     "name": "stderr",
     "output_type": "stream",
     "text": [
      " 10%|█         | 209420/2000000 [09:42<26:01:15, 19.11it/s]"
     ]
    },
    {
     "name": "stdout",
     "output_type": "stream",
     "text": [
      "Absolute Balance:  -331.3352180864198\n"
     ]
    },
    {
     "name": "stderr",
     "output_type": "stream",
     "text": [
      " 12%|█▏        | 235720/2000000 [10:57<1:22:40, 355.68it/s]"
     ]
    },
    {
     "name": "stdout",
     "output_type": "stream",
     "text": [
      "Episode  9 Balance:  -1239.690988086422 Reward:  -1239.690988086422 Loss:  597.9940307600191\n"
     ]
    },
    {
     "name": "stderr",
     "output_type": "stream",
     "text": [
      " 13%|█▎        | 262031/2000000 [12:11<1:18:33, 368.69it/s]"
     ]
    },
    {
     "name": "stdout",
     "output_type": "stream",
     "text": [
      "Episode  10 Balance:  -1205.486028950616 Reward:  -1205.486028950616 Loss:  640.9233203843469\n"
     ]
    },
    {
     "name": "stderr",
     "output_type": "stream",
     "text": [
      " 14%|█▍        | 288344/2000000 [13:23<1:15:57, 375.53it/s]"
     ]
    },
    {
     "name": "stdout",
     "output_type": "stream",
     "text": [
      "Episode  11 Balance:  -1273.3688706790108 Reward:  -1273.3688706790108 Loss:  633.7045722185867\n"
     ]
    },
    {
     "name": "stderr",
     "output_type": "stream",
     "text": [
      " 16%|█▌        | 314563/2000000 [14:36<1:14:53, 375.07it/s]"
     ]
    },
    {
     "name": "stdout",
     "output_type": "stream",
     "text": [
      "Episode  12 Balance:  -1320.9721168518538 Reward:  -1320.9721168518538 Loss:  649.0760965141235\n"
     ]
    },
    {
     "name": "stderr",
     "output_type": "stream",
     "text": [
      " 16%|█▌        | 314633/2000000 [14:45<24:55:46, 18.78it/s]"
     ]
    },
    {
     "name": "stdout",
     "output_type": "stream",
     "text": [
      "Absolute Balance:  -168.4436067901235\n"
     ]
    },
    {
     "name": "stderr",
     "output_type": "stream",
     "text": [
      " 17%|█▋        | 340964/2000000 [15:58<1:14:32, 370.95it/s]"
     ]
    },
    {
     "name": "stdout",
     "output_type": "stream",
     "text": [
      "Episode  13 Balance:  -1250.5780795061744 Reward:  -1250.5780795061744 Loss:  574.2129334432539\n"
     ]
    },
    {
     "name": "stderr",
     "output_type": "stream",
     "text": [
      " 18%|█▊        | 367231/2000000 [17:14<1:35:07, 286.09it/s]"
     ]
    },
    {
     "name": "stdout",
     "output_type": "stream",
     "text": [
      "Episode  14 Balance:  -1231.2349755555565 Reward:  -1231.2349755555565 Loss:  561.9076043616515\n"
     ]
    },
    {
     "name": "stderr",
     "output_type": "stream",
     "text": [
      " 20%|█▉        | 393565/2000000 [18:27<1:11:26, 374.79it/s]"
     ]
    },
    {
     "name": "stdout",
     "output_type": "stream",
     "text": [
      "Episode  15 Balance:  -1193.3552605555583 Reward:  -1193.3552605555583 Loss:  520.6925721856533\n"
     ]
    },
    {
     "name": "stderr",
     "output_type": "stream",
     "text": [
      " 21%|██        | 419783/2000000 [19:39<1:10:11, 375.23it/s]"
     ]
    },
    {
     "name": "stdout",
     "output_type": "stream",
     "text": [
      "Episode  16 Balance:  -1267.530154197535 Reward:  -1267.530154197535 Loss:  497.43782716430724\n"
     ]
    },
    {
     "name": "stderr",
     "output_type": "stream",
     "text": [
      " 21%|██        | 419853/2000000 [19:49<24:03:28, 18.24it/s]"
     ]
    },
    {
     "name": "stdout",
     "output_type": "stream",
     "text": [
      "Absolute Balance:  -178.64370179012352\n"
     ]
    },
    {
     "name": "stderr",
     "output_type": "stream",
     "text": [
      " 22%|██▏       | 446165/2000000 [21:01<1:10:30, 367.30it/s]"
     ]
    },
    {
     "name": "stdout",
     "output_type": "stream",
     "text": [
      "Episode  17 Balance:  -1128.0238629012372 Reward:  -1128.0238629012372 Loss:  498.37511370971333\n"
     ]
    },
    {
     "name": "stderr",
     "output_type": "stream",
     "text": [
      " 24%|██▎       | 472449/2000000 [22:16<1:19:27, 320.40it/s]"
     ]
    },
    {
     "name": "stdout",
     "output_type": "stream",
     "text": [
      "Episode  18 Balance:  -1260.8935535802482 Reward:  -1260.8935535802482 Loss:  507.54213387030177\n"
     ]
    },
    {
     "name": "stderr",
     "output_type": "stream",
     "text": [
      " 25%|██▍       | 498762/2000000 [23:31<1:09:27, 360.19it/s]"
     ]
    },
    {
     "name": "stdout",
     "output_type": "stream",
     "text": [
      "Episode  19 Balance:  -1246.916425123458 Reward:  -1246.916425123458 Loss:  522.0793941450538\n"
     ]
    },
    {
     "name": "stderr",
     "output_type": "stream",
     "text": [
      " 26%|██▌       | 524992/2000000 [24:43<1:13:26, 334.76it/s]"
     ]
    },
    {
     "name": "stdout",
     "output_type": "stream",
     "text": [
      "Episode  20 Balance:  -1267.1550771604918 Reward:  -1267.1550771604918 Loss:  543.017532293452\n"
     ]
    },
    {
     "name": "stderr",
     "output_type": "stream",
     "text": [
      " 26%|██▋       | 525059/2000000 [24:52<22:33:13, 18.17it/s]"
     ]
    },
    {
     "name": "stdout",
     "output_type": "stream",
     "text": [
      "Absolute Balance:  -224.85223240740743\n"
     ]
    },
    {
     "name": "stderr",
     "output_type": "stream",
     "text": [
      " 28%|██▊       | 551360/2000000 [26:05<1:11:34, 337.30it/s]"
     ]
    },
    {
     "name": "stdout",
     "output_type": "stream",
     "text": [
      "Episode  21 Balance:  -1331.4755056172885 Reward:  -1331.4755056172885 Loss:  552.567682955414\n"
     ]
    },
    {
     "name": "stderr",
     "output_type": "stream",
     "text": [
      " 29%|██▉       | 577676/2000000 [27:19<1:06:34, 356.10it/s]"
     ]
    },
    {
     "name": "stdout",
     "output_type": "stream",
     "text": [
      "Episode  22 Balance:  -1260.0485000000058 Reward:  -1260.0485000000058 Loss:  559.0209705511224\n"
     ]
    },
    {
     "name": "stderr",
     "output_type": "stream",
     "text": [
      " 30%|███       | 603970/2000000 [28:35<1:30:35, 256.81it/s]"
     ]
    },
    {
     "name": "stdout",
     "output_type": "stream",
     "text": [
      "Episode  23 Balance:  -1238.623267160495 Reward:  -1238.623267160495 Loss:  549.1516718639759\n"
     ]
    },
    {
     "name": "stderr",
     "output_type": "stream",
     "text": [
      " 32%|███▏      | 630199/2000000 [29:53<1:06:22, 343.97it/s]"
     ]
    },
    {
     "name": "stdout",
     "output_type": "stream",
     "text": [
      "Episode  24 Balance:  -1273.884892654323 Reward:  -1273.884892654323 Loss:  501.0051832481986\n"
     ]
    },
    {
     "name": "stderr",
     "output_type": "stream",
     "text": [
      " 32%|███▏      | 630267/2000000 [30:03<22:03:46, 17.25it/s]"
     ]
    },
    {
     "name": "stdout",
     "output_type": "stream",
     "text": [
      "Absolute Balance:  -258.4663470987654\n"
     ]
    },
    {
     "name": "stderr",
     "output_type": "stream",
     "text": [
      " 33%|███▎      | 656552/2000000 [31:15<1:02:13, 359.85it/s]"
     ]
    },
    {
     "name": "stdout",
     "output_type": "stream",
     "text": [
      "Episode  25 Balance:  -1287.7393527160464 Reward:  -1287.7393527160464 Loss:  492.8228126729373\n"
     ]
    },
    {
     "name": "stderr",
     "output_type": "stream",
     "text": [
      " 34%|███▍      | 682889/2000000 [32:30<1:02:43, 349.99it/s]"
     ]
    },
    {
     "name": "stdout",
     "output_type": "stream",
     "text": [
      "Episode  26 Balance:  -1177.4785566049427 Reward:  -1177.4785566049427 Loss:  495.8914397608023\n"
     ]
    },
    {
     "name": "stderr",
     "output_type": "stream",
     "text": [
      " 35%|███▌      | 709200/2000000 [33:48<1:04:26, 333.81it/s]"
     ]
    },
    {
     "name": "stdout",
     "output_type": "stream",
     "text": [
      "Episode  27 Balance:  -1187.3560075308671 Reward:  -1187.3560075308671 Loss:  512.3443596267607\n"
     ]
    },
    {
     "name": "stderr",
     "output_type": "stream",
     "text": [
      " 37%|███▋      | 735427/2000000 [35:01<57:59, 363.39it/s]  "
     ]
    },
    {
     "name": "stdout",
     "output_type": "stream",
     "text": [
      "Episode  28 Balance:  -1239.9819529629658 Reward:  -1239.9819529629658 Loss:  515.7243334719678\n"
     ]
    },
    {
     "name": "stderr",
     "output_type": "stream",
     "text": [
      " 37%|███▋      | 735497/2000000 [35:10<18:20:44, 19.15it/s]"
     ]
    },
    {
     "name": "stdout",
     "output_type": "stream",
     "text": [
      "Absolute Balance:  -143.66328604938275\n"
     ]
    },
    {
     "name": "stderr",
     "output_type": "stream",
     "text": [
      " 38%|███▊      | 761812/2000000 [36:23<55:01, 375.03it/s]  "
     ]
    },
    {
     "name": "stdout",
     "output_type": "stream",
     "text": [
      "Episode  29 Balance:  -1323.966762962965 Reward:  -1323.966762962965 Loss:  630.0754036568105\n"
     ]
    },
    {
     "name": "stderr",
     "output_type": "stream",
     "text": [
      " 39%|███▉      | 788089/2000000 [37:36<57:02, 354.13it/s]  "
     ]
    },
    {
     "name": "stdout",
     "output_type": "stream",
     "text": [
      "Episode  30 Balance:  -1067.6479220370372 Reward:  -1067.6479220370372 Loss:  531.5645905061392\n"
     ]
    },
    {
     "name": "stderr",
     "output_type": "stream",
     "text": [
      " 41%|████      | 814392/2000000 [38:50<58:33, 337.42it/s]  "
     ]
    },
    {
     "name": "stdout",
     "output_type": "stream",
     "text": [
      "Episode  31 Balance:  -1161.454523950615 Reward:  -1161.454523950615 Loss:  542.6283337839413\n"
     ]
    },
    {
     "name": "stderr",
     "output_type": "stream",
     "text": [
      " 42%|████▏     | 840638/2000000 [40:05<51:24, 375.84it/s]  "
     ]
    },
    {
     "name": "stdout",
     "output_type": "stream",
     "text": [
      "Episode  32 Balance:  -1194.03212691358 Reward:  -1194.03212691358 Loss:  574.2642301586457\n"
     ]
    },
    {
     "name": "stderr",
     "output_type": "stream",
     "text": [
      " 42%|████▏     | 840711/2000000 [40:14<17:11:27, 18.73it/s]"
     ]
    },
    {
     "name": "stdout",
     "output_type": "stream",
     "text": [
      "Absolute Balance:  -298.8952468518519\n"
     ]
    },
    {
     "name": "stderr",
     "output_type": "stream",
     "text": [
      " 43%|████▎     | 867023/2000000 [41:27<51:53, 363.86it/s]  "
     ]
    },
    {
     "name": "stdout",
     "output_type": "stream",
     "text": [
      "Episode  33 Balance:  -1191.283996234569 Reward:  -1191.283996234569 Loss:  596.0667889107717\n"
     ]
    },
    {
     "name": "stderr",
     "output_type": "stream",
     "text": [
      " 45%|████▍     | 893304/2000000 [42:41<53:14, 346.40it/s]  "
     ]
    },
    {
     "name": "stdout",
     "output_type": "stream",
     "text": [
      "Episode  34 Balance:  -1305.335887469133 Reward:  -1305.335887469133 Loss:  581.7518361629918\n"
     ]
    },
    {
     "name": "stderr",
     "output_type": "stream",
     "text": [
      " 46%|████▌     | 919609/2000000 [43:54<49:45, 361.92it/s]  "
     ]
    },
    {
     "name": "stdout",
     "output_type": "stream",
     "text": [
      "Episode  35 Balance:  -1381.224629753084 Reward:  -1381.224629753084 Loss:  562.0871801454341\n"
     ]
    },
    {
     "name": "stderr",
     "output_type": "stream",
     "text": [
      " 47%|████▋     | 945830/2000000 [45:09<46:51, 374.95it/s]  "
     ]
    },
    {
     "name": "stdout",
     "output_type": "stream",
     "text": [
      "Episode  36 Balance:  -1193.9046854938251 Reward:  -1193.9046854938251 Loss:  569.773250257771\n"
     ]
    },
    {
     "name": "stderr",
     "output_type": "stream",
     "text": [
      " 47%|████▋     | 945901/2000000 [45:19<16:04:13, 18.22it/s]"
     ]
    },
    {
     "name": "stdout",
     "output_type": "stream",
     "text": [
      "Absolute Balance:  -256.9441211728396\n"
     ]
    },
    {
     "name": "stderr",
     "output_type": "stream",
     "text": [
      " 49%|████▊     | 972209/2000000 [46:32<48:45, 351.30it/s]  "
     ]
    },
    {
     "name": "stdout",
     "output_type": "stream",
     "text": [
      "Episode  37 Balance:  -1223.703482469138 Reward:  -1223.703482469138 Loss:  532.8692827419145\n"
     ]
    },
    {
     "name": "stderr",
     "output_type": "stream",
     "text": [
      " 50%|████▉     | 998500/2000000 [47:44<50:02, 333.56it/s]  "
     ]
    },
    {
     "name": "stdout",
     "output_type": "stream",
     "text": [
      "Episode  38 Balance:  -1128.4781966666646 Reward:  -1128.4781966666646 Loss:  533.0267853406258\n"
     ]
    },
    {
     "name": "stderr",
     "output_type": "stream",
     "text": [
      " 51%|█████     | 1024835/2000000 [48:57<44:44, 363.21it/s]  "
     ]
    },
    {
     "name": "stdout",
     "output_type": "stream",
     "text": [
      "Episode  39 Balance:  -1181.4517503086413 Reward:  -1181.4517503086413 Loss:  517.5839517255081\n"
     ]
    },
    {
     "name": "stderr",
     "output_type": "stream",
     "text": [
      " 53%|█████▎    | 1051061/2000000 [50:10<53:30, 295.55it/s]  "
     ]
    },
    {
     "name": "stdout",
     "output_type": "stream",
     "text": [
      "Episode  40 Balance:  -1129.74371395062 Reward:  -1129.74371395062 Loss:  531.6294088737341\n"
     ]
    },
    {
     "name": "stderr",
     "output_type": "stream",
     "text": [
      " 53%|█████▎    | 1051122/2000000 [50:21<19:06:21, 13.80it/s]"
     ]
    },
    {
     "name": "stdout",
     "output_type": "stream",
     "text": [
      "Absolute Balance:  -87.2906857407408\n"
     ]
    },
    {
     "name": "stderr",
     "output_type": "stream",
     "text": [
      " 54%|█████▍    | 1077440/2000000 [51:35<40:51, 376.26it/s]  "
     ]
    },
    {
     "name": "stdout",
     "output_type": "stream",
     "text": [
      "Episode  41 Balance:  -1193.6147717901226 Reward:  -1193.6147717901226 Loss:  527.9439312600298\n"
     ]
    },
    {
     "name": "stderr",
     "output_type": "stream",
     "text": [
      " 55%|█████▌    | 1103731/2000000 [52:48<43:10, 345.92it/s]  "
     ]
    },
    {
     "name": "stdout",
     "output_type": "stream",
     "text": [
      "Episode  42 Balance:  -1122.6697530246936 Reward:  -1122.6697530246936 Loss:  530.6682710573077\n"
     ]
    },
    {
     "name": "stderr",
     "output_type": "stream",
     "text": [
      " 57%|█████▋    | 1130036/2000000 [54:01<41:55, 345.86it/s]  "
     ]
    },
    {
     "name": "stdout",
     "output_type": "stream",
     "text": [
      "Episode  43 Balance:  -1093.6872368518525 Reward:  -1093.6872368518525 Loss:  547.8327507240465\n"
     ]
    },
    {
     "name": "stderr",
     "output_type": "stream",
     "text": [
      " 58%|█████▊    | 1156272/2000000 [55:13<41:23, 339.71it/s]  "
     ]
    },
    {
     "name": "stdout",
     "output_type": "stream",
     "text": [
      "Episode  44 Balance:  -1229.072870493834 Reward:  -1229.072870493834 Loss:  526.058054645313\n"
     ]
    },
    {
     "name": "stderr",
     "output_type": "stream",
     "text": [
      " 58%|█████▊    | 1156338/2000000 [55:22<12:58:08, 18.07it/s]"
     ]
    },
    {
     "name": "stdout",
     "output_type": "stream",
     "text": [
      "Absolute Balance:  -178.30846524691358\n"
     ]
    },
    {
     "name": "stderr",
     "output_type": "stream",
     "text": [
      " 59%|█████▉    | 1182632/2000000 [56:37<40:59, 332.34it/s]  "
     ]
    },
    {
     "name": "stdout",
     "output_type": "stream",
     "text": [
      "Episode  45 Balance:  -1334.1720758024703 Reward:  -1334.1720758024703 Loss:  535.0924691937398\n"
     ]
    },
    {
     "name": "stderr",
     "output_type": "stream",
     "text": [
      " 60%|██████    | 1208944/2000000 [57:52<38:27, 342.88it/s]  "
     ]
    },
    {
     "name": "stdout",
     "output_type": "stream",
     "text": [
      "Episode  46 Balance:  -1004.3668382716045 Reward:  -1004.3668382716045 Loss:  585.5972231589258\n"
     ]
    },
    {
     "name": "stderr",
     "output_type": "stream",
     "text": [
      " 62%|██████▏   | 1235243/2000000 [59:04<34:00, 374.81it/s]"
     ]
    },
    {
     "name": "stdout",
     "output_type": "stream",
     "text": [
      "Episode  47 Balance:  -1011.1834356172817 Reward:  -1011.1834356172817 Loss:  572.225093864603\n"
     ]
    },
    {
     "name": "stderr",
     "output_type": "stream",
     "text": [
      " 63%|██████▎   | 1261466/2000000 [1:00:16<36:27, 337.65it/s]"
     ]
    },
    {
     "name": "stdout",
     "output_type": "stream",
     "text": [
      "Episode  48 Balance:  -1107.454646543211 Reward:  -1107.454646543211 Loss:  596.824498248985\n"
     ]
    },
    {
     "name": "stderr",
     "output_type": "stream",
     "text": [
      " 63%|██████▎   | 1261535/2000000 [1:00:25<11:05:15, 18.50it/s]"
     ]
    },
    {
     "name": "stdout",
     "output_type": "stream",
     "text": [
      "Absolute Balance:  -116.76384018518524\n"
     ]
    },
    {
     "name": "stderr",
     "output_type": "stream",
     "text": [
      " 64%|██████▍   | 1287850/2000000 [1:01:36<31:25, 377.69it/s]  "
     ]
    },
    {
     "name": "stdout",
     "output_type": "stream",
     "text": [
      "Episode  49 Balance:  -1109.464449814816 Reward:  -1109.464449814816 Loss:  663.1981466840953\n"
     ]
    },
    {
     "name": "stderr",
     "output_type": "stream",
     "text": [
      " 66%|██████▌   | 1314141/2000000 [1:02:53<30:27, 375.28it/s]  "
     ]
    },
    {
     "name": "stdout",
     "output_type": "stream",
     "text": [
      "Episode  50 Balance:  -1347.8963437654306 Reward:  -1347.8963437654306 Loss:  580.4024624159792\n"
     ]
    },
    {
     "name": "stderr",
     "output_type": "stream",
     "text": [
      " 67%|██████▋   | 1340444/2000000 [1:04:05<29:04, 378.05it/s]"
     ]
    },
    {
     "name": "stdout",
     "output_type": "stream",
     "text": [
      "Episode  51 Balance:  -1067.9198629629625 Reward:  -1067.9198629629625 Loss:  590.0251688890276\n"
     ]
    },
    {
     "name": "stderr",
     "output_type": "stream",
     "text": [
      " 68%|██████▊   | 1366705/2000000 [1:05:17<28:04, 375.93it/s]"
     ]
    },
    {
     "name": "stdout",
     "output_type": "stream",
     "text": [
      "Episode  52 Balance:  -1182.9822141358015 Reward:  -1182.9822141358015 Loss:  548.4815607435303\n"
     ]
    },
    {
     "name": "stderr",
     "output_type": "stream",
     "text": [
      " 68%|██████▊   | 1366743/2000000 [1:05:25<12:22:50, 14.21it/s]"
     ]
    },
    {
     "name": "stdout",
     "output_type": "stream",
     "text": [
      "Absolute Balance:  -249.26581314814817\n"
     ]
    },
    {
     "name": "stderr",
     "output_type": "stream",
     "text": [
      " 70%|██████▉   | 1393071/2000000 [1:06:37<26:34, 380.52it/s]  "
     ]
    },
    {
     "name": "stdout",
     "output_type": "stream",
     "text": [
      "Episode  53 Balance:  -1062.9067578395063 Reward:  -1062.9067578395063 Loss:  544.3096163994633\n"
     ]
    },
    {
     "name": "stderr",
     "output_type": "stream",
     "text": [
      " 71%|███████   | 1419386/2000000 [1:07:55<26:37, 363.56it/s]  "
     ]
    },
    {
     "name": "stdout",
     "output_type": "stream",
     "text": [
      "Episode  54 Balance:  -1182.247782345679 Reward:  -1182.247782345679 Loss:  560.3253547720378\n"
     ]
    },
    {
     "name": "stderr",
     "output_type": "stream",
     "text": [
      " 72%|███████▏  | 1445669/2000000 [1:09:10<24:26, 378.03it/s]"
     ]
    },
    {
     "name": "stdout",
     "output_type": "stream",
     "text": [
      "Episode  55 Balance:  -1158.9570422839524 Reward:  -1158.9570422839524 Loss:  560.2842812493909\n"
     ]
    },
    {
     "name": "stderr",
     "output_type": "stream",
     "text": [
      " 74%|███████▎  | 1471888/2000000 [1:10:21<23:15, 378.50it/s]"
     ]
    },
    {
     "name": "stdout",
     "output_type": "stream",
     "text": [
      "Episode  56 Balance:  -1152.294734506174 Reward:  -1152.294734506174 Loss:  530.4423684035428\n"
     ]
    },
    {
     "name": "stderr",
     "output_type": "stream",
     "text": [
      " 74%|███████▎  | 1471960/2000000 [1:10:30<7:34:45, 19.35it/s] "
     ]
    },
    {
     "name": "stdout",
     "output_type": "stream",
     "text": [
      "Absolute Balance:  -66.4650468518519\n"
     ]
    },
    {
     "name": "stderr",
     "output_type": "stream",
     "text": [
      " 75%|███████▍  | 1498293/2000000 [1:11:42<21:51, 382.55it/s]  "
     ]
    },
    {
     "name": "stdout",
     "output_type": "stream",
     "text": [
      "Episode  57 Balance:  -1152.4278210493812 Reward:  -1152.4278210493812 Loss:  529.9022166888462\n"
     ]
    },
    {
     "name": "stderr",
     "output_type": "stream",
     "text": [
      " 76%|███████▌  | 1524565/2000000 [1:12:53<22:01, 359.67it/s]"
     ]
    },
    {
     "name": "stdout",
     "output_type": "stream",
     "text": [
      "Episode  58 Balance:  -1026.7554468518547 Reward:  -1026.7554468518547 Loss:  555.8896760459756\n"
     ]
    },
    {
     "name": "stderr",
     "output_type": "stream",
     "text": [
      " 78%|███████▊  | 1550894/2000000 [1:14:05<19:58, 374.69it/s]"
     ]
    },
    {
     "name": "stdout",
     "output_type": "stream",
     "text": [
      "Episode  59 Balance:  -1032.5040727160494 Reward:  -1032.5040727160494 Loss:  568.0001716855913\n"
     ]
    },
    {
     "name": "stderr",
     "output_type": "stream",
     "text": [
      " 79%|███████▉  | 1577095/2000000 [1:15:19<18:43, 376.26it/s]"
     ]
    },
    {
     "name": "stdout",
     "output_type": "stream",
     "text": [
      "Episode  60 Balance:  -1218.049795493828 Reward:  -1218.049795493828 Loss:  535.3617822160013\n"
     ]
    },
    {
     "name": "stderr",
     "output_type": "stream",
     "text": [
      " 79%|███████▉  | 1577167/2000000 [1:15:28<6:05:04, 19.30it/s]"
     ]
    },
    {
     "name": "stdout",
     "output_type": "stream",
     "text": [
      "Absolute Balance:  -266.8953062345679\n"
     ]
    },
    {
     "name": "stderr",
     "output_type": "stream",
     "text": [
      " 80%|████████  | 1603470/2000000 [1:16:40<18:03, 365.86it/s]  "
     ]
    },
    {
     "name": "stdout",
     "output_type": "stream",
     "text": [
      "Episode  61 Balance:  -1221.5585370370356 Reward:  -1221.5585370370356 Loss:  511.51748867239803\n"
     ]
    },
    {
     "name": "stderr",
     "output_type": "stream",
     "text": [
      " 81%|████████▏ | 1629790/2000000 [1:17:51<16:12, 380.74it/s]"
     ]
    },
    {
     "name": "stdout",
     "output_type": "stream",
     "text": [
      "Episode  62 Balance:  -1153.4234998765453 Reward:  -1153.4234998765453 Loss:  531.3557930941461\n"
     ]
    },
    {
     "name": "stderr",
     "output_type": "stream",
     "text": [
      " 83%|████████▎ | 1656099/2000000 [1:19:03<16:30, 347.25it/s]"
     ]
    },
    {
     "name": "stdout",
     "output_type": "stream",
     "text": [
      "Episode  63 Balance:  -1116.4145633333362 Reward:  -1116.4145633333362 Loss:  541.8564874236472\n"
     ]
    },
    {
     "name": "stderr",
     "output_type": "stream",
     "text": [
      " 84%|████████▍ | 1682338/2000000 [1:20:17<14:30, 364.99it/s]"
     ]
    },
    {
     "name": "stdout",
     "output_type": "stream",
     "text": [
      "Episode  64 Balance:  -1138.650645925928 Reward:  -1138.650645925928 Loss:  539.3958675272297\n"
     ]
    },
    {
     "name": "stderr",
     "output_type": "stream",
     "text": [
      " 84%|████████▍ | 1682406/2000000 [1:20:27<5:20:56, 16.49it/s]"
     ]
    },
    {
     "name": "stdout",
     "output_type": "stream",
     "text": [
      "Absolute Balance:  -147.972670925926\n"
     ]
    },
    {
     "name": "stderr",
     "output_type": "stream",
     "text": [
      " 85%|████████▌ | 1708715/2000000 [1:21:39<13:05, 370.67it/s] "
     ]
    },
    {
     "name": "stdout",
     "output_type": "stream",
     "text": [
      "Episode  65 Balance:  -1163.9961489506202 Reward:  -1163.9961489506202 Loss:  514.9719372291584\n"
     ]
    },
    {
     "name": "stderr",
     "output_type": "stream",
     "text": [
      " 87%|████████▋ | 1735021/2000000 [1:22:50<11:43, 376.57it/s]"
     ]
    },
    {
     "name": "stdout",
     "output_type": "stream",
     "text": [
      "Episode  66 Balance:  -1208.0110335185173 Reward:  -1208.0110335185173 Loss:  527.5712983199628\n"
     ]
    },
    {
     "name": "stderr",
     "output_type": "stream",
     "text": [
      " 88%|████████▊ | 1761303/2000000 [1:24:02<10:39, 373.06it/s]"
     ]
    },
    {
     "name": "stdout",
     "output_type": "stream",
     "text": [
      "Episode  67 Balance:  -1057.036829999999 Reward:  -1057.036829999999 Loss:  519.9976427769288\n"
     ]
    },
    {
     "name": "stderr",
     "output_type": "stream",
     "text": [
      " 89%|████████▉ | 1787526/2000000 [1:25:13<09:20, 378.91it/s]"
     ]
    },
    {
     "name": "stdout",
     "output_type": "stream",
     "text": [
      "Episode  68 Balance:  -1110.5428972222194 Reward:  -1110.5428972222194 Loss:  516.6929975936655\n"
     ]
    },
    {
     "name": "stderr",
     "output_type": "stream",
     "text": [
      " 89%|████████▉ | 1787598/2000000 [1:25:22<3:08:35, 18.77it/s]"
     ]
    },
    {
     "name": "stdout",
     "output_type": "stream",
     "text": [
      "Absolute Balance:  -120.29998228395068\n"
     ]
    },
    {
     "name": "stderr",
     "output_type": "stream",
     "text": [
      " 91%|█████████ | 1813916/2000000 [1:26:37<08:09, 380.53it/s] "
     ]
    },
    {
     "name": "stdout",
     "output_type": "stream",
     "text": [
      "Episode  69 Balance:  -1239.8099978395082 Reward:  -1239.8099978395082 Loss:  495.3913180073723\n"
     ]
    },
    {
     "name": "stderr",
     "output_type": "stream",
     "text": [
      " 92%|█████████▏| 1840219/2000000 [1:27:49<07:02, 377.95it/s]"
     ]
    },
    {
     "name": "stdout",
     "output_type": "stream",
     "text": [
      "Episode  70 Balance:  -985.5656548148141 Reward:  -985.5656548148141 Loss:  509.49675018375274\n"
     ]
    },
    {
     "name": "stderr",
     "output_type": "stream",
     "text": [
      " 93%|█████████▎| 1866530/2000000 [1:29:01<06:10, 360.08it/s]"
     ]
    },
    {
     "name": "stdout",
     "output_type": "stream",
     "text": [
      "Episode  71 Balance:  -1263.484656481484 Reward:  -1263.484656481484 Loss:  551.3354699654737\n"
     ]
    },
    {
     "name": "stderr",
     "output_type": "stream",
     "text": [
      " 95%|█████████▍| 1892744/2000000 [1:30:12<04:44, 377.11it/s]"
     ]
    },
    {
     "name": "stdout",
     "output_type": "stream",
     "text": [
      "Episode  72 Balance:  -1245.518588086418 Reward:  -1245.518588086418 Loss:  543.1206989017082\n"
     ]
    },
    {
     "name": "stderr",
     "output_type": "stream",
     "text": [
      " 95%|█████████▍| 1892816/2000000 [1:30:22<1:40:20, 17.80it/s]"
     ]
    },
    {
     "name": "stdout",
     "output_type": "stream",
     "text": [
      "Absolute Balance:  -163.8146930864198\n"
     ]
    },
    {
     "name": "stderr",
     "output_type": "stream",
     "text": [
      " 96%|█████████▌| 1919122/2000000 [1:31:36<03:39, 368.37it/s] "
     ]
    },
    {
     "name": "stdout",
     "output_type": "stream",
     "text": [
      "Episode  73 Balance:  -1077.734160987658 Reward:  -1077.734160987658 Loss:  557.3120626687305\n"
     ]
    },
    {
     "name": "stderr",
     "output_type": "stream",
     "text": [
      " 97%|█████████▋| 1945425/2000000 [1:32:48<02:23, 381.07it/s]"
     ]
    },
    {
     "name": "stdout",
     "output_type": "stream",
     "text": [
      "Episode  74 Balance:  -1152.987339259261 Reward:  -1152.987339259261 Loss:  565.4375526161166\n"
     ]
    },
    {
     "name": "stderr",
     "output_type": "stream",
     "text": [
      " 99%|█████████▊| 1971717/2000000 [1:34:00<01:14, 379.89it/s]"
     ]
    },
    {
     "name": "stdout",
     "output_type": "stream",
     "text": [
      "Episode  75 Balance:  -1077.6882669135812 Reward:  -1077.6882669135812 Loss:  583.7354889530689\n"
     ]
    },
    {
     "name": "stderr",
     "output_type": "stream",
     "text": [
      "100%|█████████▉| 1997958/2000000 [1:35:15<00:06, 297.71it/s]"
     ]
    },
    {
     "name": "stdout",
     "output_type": "stream",
     "text": [
      "Episode  76 Balance:  -1183.4000960493818 Reward:  -1183.4000960493818 Loss:  539.2584781956393\n"
     ]
    },
    {
     "name": "stderr",
     "output_type": "stream",
     "text": [
      "100%|█████████▉| 1998021/2000000 [1:35:23<01:58, 16.68it/s] "
     ]
    },
    {
     "name": "stdout",
     "output_type": "stream",
     "text": [
      "Absolute Balance:  -85.67305956790133\n"
     ]
    },
    {
     "name": "stderr",
     "output_type": "stream",
     "text": [
      "100%|██████████| 2000000/2000000 [1:35:29<00:00, 349.09it/s]\n"
     ]
    },
    {
     "name": "stdout",
     "output_type": "stream",
     "text": [
      "\n",
      "\n",
      " Layers: 6, Gamma: 0.95\n",
      "Number of engineered features:  57\n",
      "State dimension:  113\n",
      "Number of DQN Parameters:  48483\n"
     ]
    },
    {
     "name": "stderr",
     "output_type": "stream",
     "text": [
      "/Users/maxfeucht/Documents/VU/Project Reinforcement Learning/BatteryGrid/agent.py:88: RuntimeWarning: invalid value encountered in divide\n",
      "  return (var - np.min(var)) / (np.max(var) - np.min(var))\n",
      "  1%|▏         | 25318/2000000 [01:07<1:28:49, 370.49it/s]"
     ]
    },
    {
     "name": "stdout",
     "output_type": "stream",
     "text": [
      "Episode  1 Balance:  -7958.606869938284 Reward:  -7958.606869938284 Loss:  2030.149137560511\n"
     ]
    },
    {
     "name": "stderr",
     "output_type": "stream",
     "text": [
      "  3%|▎         | 51607/2000000 [02:23<1:34:39, 343.07it/s]"
     ]
    },
    {
     "name": "stdout",
     "output_type": "stream",
     "text": [
      "Episode  2 Balance:  -6109.703705000002 Reward:  -6109.703705000002 Loss:  1365.564992731437\n"
     ]
    },
    {
     "name": "stderr",
     "output_type": "stream",
     "text": [
      "  4%|▍         | 77898/2000000 [03:39<1:41:32, 315.50it/s]"
     ]
    },
    {
     "name": "stdout",
     "output_type": "stream",
     "text": [
      "Episode  3 Balance:  -4406.847268148139 Reward:  -4406.847268148139 Loss:  1074.6507189194672\n"
     ]
    },
    {
     "name": "stderr",
     "output_type": "stream",
     "text": [
      "  5%|▌         | 104159/2000000 [04:58<1:32:09, 342.86it/s]"
     ]
    },
    {
     "name": "stdout",
     "output_type": "stream",
     "text": [
      "Episode  4 Balance:  -2322.886473765431 Reward:  -2322.886473765431 Loss:  897.8336518213619\n"
     ]
    },
    {
     "name": "stderr",
     "output_type": "stream",
     "text": [
      "  5%|▌         | 104225/2000000 [05:07<32:10:45, 16.36it/s]"
     ]
    },
    {
     "name": "stdout",
     "output_type": "stream",
     "text": [
      "Absolute Balance:  -423.01856358024696\n"
     ]
    },
    {
     "name": "stderr",
     "output_type": "stream",
     "text": [
      "  7%|▋         | 130513/2000000 [06:27<1:32:19, 337.46it/s]"
     ]
    },
    {
     "name": "stdout",
     "output_type": "stream",
     "text": [
      "Episode  5 Balance:  -1349.0402845679077 Reward:  -1349.0402845679077 Loss:  715.976013711188\n"
     ]
    },
    {
     "name": "stderr",
     "output_type": "stream",
     "text": [
      "  8%|▊         | 156825/2000000 [07:50<1:30:56, 337.79it/s]"
     ]
    },
    {
     "name": "stdout",
     "output_type": "stream",
     "text": [
      "Episode  6 Balance:  -1353.404011790122 Reward:  -1353.404011790122 Loss:  576.073312943452\n"
     ]
    },
    {
     "name": "stderr",
     "output_type": "stream",
     "text": [
      "  9%|▉         | 183122/2000000 [09:11<1:28:54, 340.60it/s]"
     ]
    },
    {
     "name": "stdout",
     "output_type": "stream",
     "text": [
      "Episode  7 Balance:  -1114.186646790126 Reward:  -1114.186646790126 Loss:  508.12805464607663\n"
     ]
    },
    {
     "name": "stderr",
     "output_type": "stream",
     "text": [
      " 10%|█         | 209356/2000000 [10:31<1:30:41, 329.04it/s]"
     ]
    },
    {
     "name": "stdout",
     "output_type": "stream",
     "text": [
      "Episode  8 Balance:  -1127.3801424691383 Reward:  -1127.3801424691383 Loss:  520.8883783123456\n"
     ]
    },
    {
     "name": "stderr",
     "output_type": "stream",
     "text": [
      " 10%|█         | 209420/2000000 [10:40<30:55:37, 16.08it/s]"
     ]
    },
    {
     "name": "stdout",
     "output_type": "stream",
     "text": [
      "Absolute Balance:  -165.0997841358025\n"
     ]
    },
    {
     "name": "stderr",
     "output_type": "stream",
     "text": [
      " 12%|█▏        | 235745/2000000 [12:01<1:29:19, 329.18it/s]"
     ]
    },
    {
     "name": "stdout",
     "output_type": "stream",
     "text": [
      "Episode  9 Balance:  -1135.8118724074072 Reward:  -1135.8118724074072 Loss:  521.6861322540208\n"
     ]
    },
    {
     "name": "stderr",
     "output_type": "stream",
     "text": [
      " 13%|█▎        | 262015/2000000 [13:23<1:30:19, 320.69it/s]"
     ]
    },
    {
     "name": "stdout",
     "output_type": "stream",
     "text": [
      "Episode  10 Balance:  -1174.1486267283985 Reward:  -1174.1486267283985 Loss:  576.3947532754391\n"
     ]
    },
    {
     "name": "stderr",
     "output_type": "stream",
     "text": [
      " 14%|█▍        | 288333/2000000 [14:44<1:33:09, 306.21it/s]"
     ]
    },
    {
     "name": "stdout",
     "output_type": "stream",
     "text": [
      "Episode  11 Balance:  -1326.3072641975377 Reward:  -1326.3072641975377 Loss:  617.3571125563467\n"
     ]
    },
    {
     "name": "stderr",
     "output_type": "stream",
     "text": [
      " 16%|█▌        | 314565/2000000 [16:05<1:28:23, 317.80it/s]"
     ]
    },
    {
     "name": "stdout",
     "output_type": "stream",
     "text": [
      "Episode  12 Balance:  -1153.2112417901258 Reward:  -1153.2112417901258 Loss:  665.694935470121\n"
     ]
    },
    {
     "name": "stderr",
     "output_type": "stream",
     "text": [
      " 16%|█▌        | 314629/2000000 [16:15<30:00:19, 15.60it/s]"
     ]
    },
    {
     "name": "stdout",
     "output_type": "stream",
     "text": [
      "Absolute Balance:  -279.8782127777778\n"
     ]
    },
    {
     "name": "stderr",
     "output_type": "stream",
     "text": [
      " 17%|█▋        | 340951/2000000 [17:35<1:23:47, 330.00it/s]"
     ]
    },
    {
     "name": "stdout",
     "output_type": "stream",
     "text": [
      "Episode  13 Balance:  -1292.1401304938256 Reward:  -1292.1401304938256 Loss:  666.6980023505166\n"
     ]
    },
    {
     "name": "stderr",
     "output_type": "stream",
     "text": [
      " 18%|█▊        | 367228/2000000 [18:55<1:20:36, 337.58it/s]"
     ]
    },
    {
     "name": "stdout",
     "output_type": "stream",
     "text": [
      "Episode  14 Balance:  -1090.93171111111 Reward:  -1090.93171111111 Loss:  659.2131769853877\n"
     ]
    },
    {
     "name": "stderr",
     "output_type": "stream",
     "text": [
      " 20%|█▉        | 393546/2000000 [20:19<1:19:18, 337.57it/s]"
     ]
    },
    {
     "name": "stdout",
     "output_type": "stream",
     "text": [
      "Episode  15 Balance:  -1146.342464814816 Reward:  -1146.342464814816 Loss:  663.7994571945164\n"
     ]
    },
    {
     "name": "stderr",
     "output_type": "stream",
     "text": [
      " 21%|██        | 419787/2000000 [21:39<1:17:08, 341.42it/s]"
     ]
    },
    {
     "name": "stdout",
     "output_type": "stream",
     "text": [
      "Episode  16 Balance:  -1281.1793437037059 Reward:  -1281.1793437037059 Loss:  638.3083988173166\n"
     ]
    },
    {
     "name": "stderr",
     "output_type": "stream",
     "text": [
      " 21%|██        | 419853/2000000 [21:49<27:01:57, 16.24it/s]"
     ]
    },
    {
     "name": "stdout",
     "output_type": "stream",
     "text": [
      "Absolute Balance:  -246.8156024691359\n"
     ]
    },
    {
     "name": "stderr",
     "output_type": "stream",
     "text": [
      " 22%|██▏       | 446147/2000000 [23:09<1:16:35, 338.11it/s]"
     ]
    },
    {
     "name": "stdout",
     "output_type": "stream",
     "text": [
      "Episode  17 Balance:  -1275.7390250617264 Reward:  -1275.7390250617264 Loss:  631.1149348532781\n"
     ]
    },
    {
     "name": "stderr",
     "output_type": "stream",
     "text": [
      " 24%|██▎       | 472459/2000000 [24:29<1:14:54, 339.89it/s]"
     ]
    },
    {
     "name": "stdout",
     "output_type": "stream",
     "text": [
      "Episode  18 Balance:  -1148.215628333337 Reward:  -1148.215628333337 Loss:  574.9368783312384\n"
     ]
    },
    {
     "name": "stderr",
     "output_type": "stream",
     "text": [
      " 25%|██▍       | 498759/2000000 [25:52<1:15:07, 333.08it/s]"
     ]
    },
    {
     "name": "stdout",
     "output_type": "stream",
     "text": [
      "Episode  19 Balance:  -1135.0734062962997 Reward:  -1135.0734062962997 Loss:  537.9636028774548\n"
     ]
    },
    {
     "name": "stderr",
     "output_type": "stream",
     "text": [
      " 26%|██▌       | 524997/2000000 [27:12<1:12:53, 337.27it/s]"
     ]
    },
    {
     "name": "stdout",
     "output_type": "stream",
     "text": [
      "Episode  20 Balance:  -1288.0264359259309 Reward:  -1288.0264359259309 Loss:  511.9740285509033\n"
     ]
    },
    {
     "name": "stderr",
     "output_type": "stream",
     "text": [
      " 26%|██▋       | 525062/2000000 [27:22<25:38:40, 15.98it/s]"
     ]
    },
    {
     "name": "stdout",
     "output_type": "stream",
     "text": [
      "Absolute Balance:  -274.32096796296304\n"
     ]
    },
    {
     "name": "stderr",
     "output_type": "stream",
     "text": [
      " 28%|██▊       | 551370/2000000 [28:42<1:11:30, 337.65it/s]"
     ]
    },
    {
     "name": "stdout",
     "output_type": "stream",
     "text": [
      "Episode  21 Balance:  -1203.6652229629615 Reward:  -1203.6652229629615 Loss:  554.9053988829255\n"
     ]
    },
    {
     "name": "stderr",
     "output_type": "stream",
     "text": [
      " 29%|██▉       | 577667/2000000 [30:04<1:09:59, 338.73it/s]"
     ]
    },
    {
     "name": "stdout",
     "output_type": "stream",
     "text": [
      "Episode  22 Balance:  -1235.1055687654336 Reward:  -1235.1055687654336 Loss:  564.2497444484616\n"
     ]
    },
    {
     "name": "stderr",
     "output_type": "stream",
     "text": [
      " 30%|███       | 603976/2000000 [31:27<1:09:00, 337.19it/s]"
     ]
    },
    {
     "name": "stdout",
     "output_type": "stream",
     "text": [
      "Episode  23 Balance:  -1163.4301529012375 Reward:  -1163.4301529012375 Loss:  566.1953288454097\n"
     ]
    },
    {
     "name": "stderr",
     "output_type": "stream",
     "text": [
      " 32%|███▏      | 630199/2000000 [32:47<1:07:14, 339.53it/s]"
     ]
    },
    {
     "name": "stdout",
     "output_type": "stream",
     "text": [
      "Episode  24 Balance:  -1132.4799461728376 Reward:  -1132.4799461728376 Loss:  552.5194162648404\n"
     ]
    },
    {
     "name": "stderr",
     "output_type": "stream",
     "text": [
      " 32%|███▏      | 630263/2000000 [32:57<23:51:40, 15.95it/s]"
     ]
    },
    {
     "name": "stdout",
     "output_type": "stream",
     "text": [
      "Absolute Balance:  -176.08669203703707\n"
     ]
    },
    {
     "name": "stderr",
     "output_type": "stream",
     "text": [
      " 33%|███▎      | 656589/2000000 [34:18<1:06:26, 337.03it/s]"
     ]
    },
    {
     "name": "stdout",
     "output_type": "stream",
     "text": [
      "Episode  25 Balance:  -1235.9995328395084 Reward:  -1235.9995328395084 Loss:  664.1968122989638\n"
     ]
    },
    {
     "name": "stderr",
     "output_type": "stream",
     "text": [
      " 34%|███▍      | 682886/2000000 [35:38<1:04:28, 340.43it/s]"
     ]
    },
    {
     "name": "stdout",
     "output_type": "stream",
     "text": [
      "Episode  26 Balance:  -1247.535738148148 Reward:  -1247.535738148148 Loss:  608.9951042442117\n"
     ]
    },
    {
     "name": "stderr",
     "output_type": "stream",
     "text": [
      " 35%|███▌      | 709183/2000000 [37:01<1:11:21, 301.45it/s]"
     ]
    },
    {
     "name": "stdout",
     "output_type": "stream",
     "text": [
      "Episode  27 Balance:  -1286.4549535802494 Reward:  -1286.4549535802494 Loss:  563.5622790998314\n"
     ]
    },
    {
     "name": "stderr",
     "output_type": "stream",
     "text": [
      " 37%|███▋      | 735432/2000000 [38:21<1:08:16, 308.70it/s]"
     ]
    },
    {
     "name": "stdout",
     "output_type": "stream",
     "text": [
      "Episode  28 Balance:  -1293.4343795061734 Reward:  -1293.4343795061734 Loss:  560.8947719136486\n"
     ]
    },
    {
     "name": "stderr",
     "output_type": "stream",
     "text": [
      " 37%|███▋      | 735464/2000000 [38:30<30:15:45, 11.61it/s]"
     ]
    },
    {
     "name": "stdout",
     "output_type": "stream",
     "text": [
      "Absolute Balance:  -296.21201746913584\n"
     ]
    },
    {
     "name": "stderr",
     "output_type": "stream",
     "text": [
      " 38%|███▊      | 761788/2000000 [39:51<1:01:03, 337.98it/s]"
     ]
    },
    {
     "name": "stdout",
     "output_type": "stream",
     "text": [
      "Episode  29 Balance:  -1111.926321358027 Reward:  -1111.926321358027 Loss:  594.6144629988121\n"
     ]
    },
    {
     "name": "stderr",
     "output_type": "stream",
     "text": [
      " 39%|███▉      | 788078/2000000 [41:11<59:48, 337.75it/s]  "
     ]
    },
    {
     "name": "stdout",
     "output_type": "stream",
     "text": [
      "Episode  30 Balance:  -1262.221155493832 Reward:  -1262.221155493832 Loss:  582.4243129107635\n"
     ]
    },
    {
     "name": "stderr",
     "output_type": "stream",
     "text": [
      " 41%|████      | 814398/2000000 [42:34<59:10, 333.94it/s]  "
     ]
    },
    {
     "name": "stdout",
     "output_type": "stream",
     "text": [
      "Episode  31 Balance:  -1233.518445740741 Reward:  -1233.518445740741 Loss:  599.2938973067794\n"
     ]
    },
    {
     "name": "stderr",
     "output_type": "stream",
     "text": [
      " 42%|████▏     | 840634/2000000 [43:54<56:57, 339.24it/s]  "
     ]
    },
    {
     "name": "stdout",
     "output_type": "stream",
     "text": [
      "Episode  32 Balance:  -1120.3343730864256 Reward:  -1120.3343730864256 Loss:  623.812675512163\n"
     ]
    },
    {
     "name": "stderr",
     "output_type": "stream",
     "text": [
      " 42%|████▏     | 840696/2000000 [44:04<20:24:31, 15.78it/s]"
     ]
    },
    {
     "name": "stdout",
     "output_type": "stream",
     "text": [
      "Absolute Balance:  -106.73509419753094\n"
     ]
    },
    {
     "name": "stderr",
     "output_type": "stream",
     "text": [
      " 43%|████▎     | 866984/2000000 [45:25<1:04:49, 291.28it/s]"
     ]
    },
    {
     "name": "stdout",
     "output_type": "stream",
     "text": [
      "Episode  33 Balance:  -1256.1812852469186 Reward:  -1256.1812852469186 Loss:  607.4816569698742\n"
     ]
    },
    {
     "name": "stderr",
     "output_type": "stream",
     "text": [
      " 45%|████▍     | 893298/2000000 [46:45<55:10, 334.33it/s]  "
     ]
    },
    {
     "name": "stdout",
     "output_type": "stream",
     "text": [
      "Episode  34 Balance:  -1139.461443456791 Reward:  -1139.461443456791 Loss:  627.4213957041502\n"
     ]
    },
    {
     "name": "stderr",
     "output_type": "stream",
     "text": [
      " 46%|████▌     | 919591/2000000 [48:08<54:03, 333.08it/s]  "
     ]
    },
    {
     "name": "stdout",
     "output_type": "stream",
     "text": [
      "Episode  35 Balance:  -1103.959584382715 Reward:  -1103.959584382715 Loss:  628.4256068042014\n"
     ]
    },
    {
     "name": "stderr",
     "output_type": "stream",
     "text": [
      " 47%|████▋     | 945847/2000000 [49:28<1:00:54, 288.46it/s]"
     ]
    },
    {
     "name": "stdout",
     "output_type": "stream",
     "text": [
      "Episode  36 Balance:  -1144.397394814814 Reward:  -1144.397394814814 Loss:  653.36631103931\n"
     ]
    },
    {
     "name": "stderr",
     "output_type": "stream",
     "text": [
      " 47%|████▋     | 945907/2000000 [49:38<19:49:08, 14.77it/s]"
     ]
    },
    {
     "name": "stdout",
     "output_type": "stream",
     "text": [
      "Absolute Balance:  -313.70861308641975\n"
     ]
    },
    {
     "name": "stderr",
     "output_type": "stream",
     "text": [
      " 49%|████▊     | 972205/2000000 [50:58<50:14, 341.00it/s]  "
     ]
    },
    {
     "name": "stdout",
     "output_type": "stream",
     "text": [
      "Episode  37 Balance:  -1088.9308832098752 Reward:  -1088.9308832098752 Loss:  608.6791224332992\n"
     ]
    },
    {
     "name": "stderr",
     "output_type": "stream",
     "text": [
      " 50%|████▉     | 998504/2000000 [52:18<49:11, 339.32it/s]  "
     ]
    },
    {
     "name": "stdout",
     "output_type": "stream",
     "text": [
      "Episode  38 Balance:  -1200.3781186419737 Reward:  -1200.3781186419737 Loss:  638.0852923720377\n"
     ]
    },
    {
     "name": "stderr",
     "output_type": "stream",
     "text": [
      " 51%|█████     | 1024800/2000000 [53:41<48:07, 337.69it/s]  "
     ]
    },
    {
     "name": "stdout",
     "output_type": "stream",
     "text": [
      "Episode  39 Balance:  -1128.8127675925923 Reward:  -1128.8127675925923 Loss:  672.9031147081405\n"
     ]
    },
    {
     "name": "stderr",
     "output_type": "stream",
     "text": [
      " 53%|█████▎    | 1051058/2000000 [55:02<47:41, 331.67it/s]  "
     ]
    },
    {
     "name": "stdout",
     "output_type": "stream",
     "text": [
      "Episode  40 Balance:  -1111.3545001234586 Reward:  -1111.3545001234586 Loss:  590.554231951246\n"
     ]
    },
    {
     "name": "stderr",
     "output_type": "stream",
     "text": [
      " 53%|█████▎    | 1051117/2000000 [55:11<17:10:54, 15.34it/s]"
     ]
    },
    {
     "name": "stdout",
     "output_type": "stream",
     "text": [
      "Absolute Balance:  -111.78294148148152\n"
     ]
    },
    {
     "name": "stderr",
     "output_type": "stream",
     "text": [
      " 54%|█████▍    | 1077413/2000000 [56:32<49:28, 310.78it/s]  "
     ]
    },
    {
     "name": "stdout",
     "output_type": "stream",
     "text": [
      "Episode  41 Balance:  -1247.7451486419789 Reward:  -1247.7451486419789 Loss:  564.7422772569116\n"
     ]
    },
    {
     "name": "stderr",
     "output_type": "stream",
     "text": [
      " 55%|█████▌    | 1103732/2000000 [57:53<50:18, 296.90it/s]  "
     ]
    },
    {
     "name": "stdout",
     "output_type": "stream",
     "text": [
      "Episode  42 Balance:  -1229.0945802469173 Reward:  -1229.0945802469173 Loss:  544.1356841860106\n"
     ]
    },
    {
     "name": "stderr",
     "output_type": "stream",
     "text": [
      " 57%|█████▋    | 1130042/2000000 [59:19<42:59, 337.25it/s]  "
     ]
    },
    {
     "name": "stdout",
     "output_type": "stream",
     "text": [
      "Episode  43 Balance:  -1278.7260912345712 Reward:  -1278.7260912345712 Loss:  522.7588392130565\n"
     ]
    },
    {
     "name": "stderr",
     "output_type": "stream",
     "text": [
      " 58%|█████▊    | 1156259/2000000 [1:00:40<43:08, 325.99it/s]  "
     ]
    },
    {
     "name": "stdout",
     "output_type": "stream",
     "text": [
      "Episode  44 Balance:  -1200.4646968518573 Reward:  -1200.4646968518573 Loss:  517.8209944469854\n"
     ]
    },
    {
     "name": "stderr",
     "output_type": "stream",
     "text": [
      " 58%|█████▊    | 1156321/2000000 [1:00:50<15:15:29, 15.36it/s]"
     ]
    },
    {
     "name": "stdout",
     "output_type": "stream",
     "text": [
      "Absolute Balance:  -189.80156679012345\n"
     ]
    },
    {
     "name": "stderr",
     "output_type": "stream",
     "text": [
      " 59%|█████▉    | 1182650/2000000 [1:02:10<39:56, 341.13it/s]  "
     ]
    },
    {
     "name": "stdout",
     "output_type": "stream",
     "text": [
      "Episode  45 Balance:  -1178.547679567904 Reward:  -1178.547679567904 Loss:  530.9873173221713\n"
     ]
    },
    {
     "name": "stderr",
     "output_type": "stream",
     "text": [
      " 60%|██████    | 1208948/2000000 [1:03:30<38:34, 341.81it/s]  "
     ]
    },
    {
     "name": "stdout",
     "output_type": "stream",
     "text": [
      "Episode  46 Balance:  -1185.9791119135832 Reward:  -1185.9791119135832 Loss:  555.0870405883761\n"
     ]
    },
    {
     "name": "stderr",
     "output_type": "stream",
     "text": [
      " 62%|██████▏   | 1235222/2000000 [1:04:54<46:32, 273.83it/s]  "
     ]
    },
    {
     "name": "stdout",
     "output_type": "stream",
     "text": [
      "Episode  47 Balance:  -1076.4979896296313 Reward:  -1076.4979896296313 Loss:  552.7728743511252\n"
     ]
    },
    {
     "name": "stderr",
     "output_type": "stream",
     "text": [
      " 63%|██████▎   | 1261480/2000000 [1:06:14<39:24, 312.32it/s]  "
     ]
    },
    {
     "name": "stdout",
     "output_type": "stream",
     "text": [
      "Episode  48 Balance:  -1178.6354120987621 Reward:  -1178.6354120987621 Loss:  545.1861140894471\n"
     ]
    },
    {
     "name": "stderr",
     "output_type": "stream",
     "text": [
      " 63%|██████▎   | 1261543/2000000 [1:06:24<13:23:53, 15.31it/s]"
     ]
    },
    {
     "name": "stdout",
     "output_type": "stream",
     "text": [
      "Absolute Balance:  -118.46308382716055\n"
     ]
    },
    {
     "name": "stderr",
     "output_type": "stream",
     "text": [
      " 64%|██████▍   | 1287852/2000000 [1:07:44<38:18, 309.88it/s]  "
     ]
    },
    {
     "name": "stdout",
     "output_type": "stream",
     "text": [
      "Episode  49 Balance:  -1009.417081049382 Reward:  -1009.417081049382 Loss:  595.7776298538083\n"
     ]
    },
    {
     "name": "stderr",
     "output_type": "stream",
     "text": [
      " 66%|██████▌   | 1314144/2000000 [1:09:04<34:01, 335.94it/s]"
     ]
    },
    {
     "name": "stdout",
     "output_type": "stream",
     "text": [
      "Episode  50 Balance:  -1252.6468857407444 Reward:  -1252.6468857407444 Loss:  598.0157590254676\n"
     ]
    },
    {
     "name": "stderr",
     "output_type": "stream",
     "text": [
      " 67%|██████▋   | 1340440/2000000 [1:10:30<34:30, 318.52it/s]  "
     ]
    },
    {
     "name": "stdout",
     "output_type": "stream",
     "text": [
      "Episode  51 Balance:  -1183.9722895061768 Reward:  -1183.9722895061768 Loss:  579.0350552743766\n"
     ]
    },
    {
     "name": "stderr",
     "output_type": "stream",
     "text": [
      " 68%|██████▊   | 1366675/2000000 [1:11:50<31:11, 338.33it/s]"
     ]
    },
    {
     "name": "stdout",
     "output_type": "stream",
     "text": [
      "Episode  52 Balance:  -1105.8129934567917 Reward:  -1105.8129934567917 Loss:  557.0172834029654\n"
     ]
    },
    {
     "name": "stderr",
     "output_type": "stream",
     "text": [
      " 68%|██████▊   | 1366740/2000000 [1:12:00<10:41:49, 16.44it/s]"
     ]
    },
    {
     "name": "stdout",
     "output_type": "stream",
     "text": [
      "Absolute Balance:  -78.38071265432097\n"
     ]
    },
    {
     "name": "stderr",
     "output_type": "stream",
     "text": [
      " 70%|██████▉   | 1393051/2000000 [1:13:20<29:43, 340.28it/s]  "
     ]
    },
    {
     "name": "stdout",
     "output_type": "stream",
     "text": [
      "Episode  53 Balance:  -1058.1835196296292 Reward:  -1058.1835196296292 Loss:  532.0685075428337\n"
     ]
    },
    {
     "name": "stderr",
     "output_type": "stream",
     "text": [
      " 71%|███████   | 1419372/2000000 [1:14:40<28:18, 341.81it/s]"
     ]
    },
    {
     "name": "stdout",
     "output_type": "stream",
     "text": [
      "Episode  54 Balance:  -1040.3031882716066 Reward:  -1040.3031882716066 Loss:  536.2431233074749\n"
     ]
    },
    {
     "name": "stderr",
     "output_type": "stream",
     "text": [
      " 72%|███████▏  | 1445661/2000000 [1:16:07<29:07, 317.21it/s]  "
     ]
    },
    {
     "name": "stdout",
     "output_type": "stream",
     "text": [
      "Episode  55 Balance:  -1268.7634511728388 Reward:  -1268.7634511728388 Loss:  526.2112236680696\n"
     ]
    },
    {
     "name": "stderr",
     "output_type": "stream",
     "text": [
      " 74%|███████▎  | 1471913/2000000 [1:17:29<26:55, 326.82it/s]"
     ]
    },
    {
     "name": "stdout",
     "output_type": "stream",
     "text": [
      "Episode  56 Balance:  -1153.8557012345696 Reward:  -1153.8557012345696 Loss:  522.102330511203\n"
     ]
    },
    {
     "name": "stderr",
     "output_type": "stream",
     "text": [
      " 74%|███████▎  | 1471977/2000000 [1:17:38<9:17:01, 15.80it/s] "
     ]
    },
    {
     "name": "stdout",
     "output_type": "stream",
     "text": [
      "Absolute Balance:  -270.82269123456797\n"
     ]
    },
    {
     "name": "stderr",
     "output_type": "stream",
     "text": [
      " 75%|███████▍  | 1498270/2000000 [1:18:59<25:36, 326.44it/s]  "
     ]
    },
    {
     "name": "stdout",
     "output_type": "stream",
     "text": [
      "Episode  57 Balance:  -1256.4040970987676 Reward:  -1256.4040970987676 Loss:  535.2612806757679\n"
     ]
    },
    {
     "name": "stderr",
     "output_type": "stream",
     "text": [
      " 76%|███████▌  | 1524576/2000000 [1:20:19<23:34, 336.13it/s]"
     ]
    },
    {
     "name": "stdout",
     "output_type": "stream",
     "text": [
      "Episode  58 Balance:  -1120.8597146296313 Reward:  -1120.8597146296313 Loss:  523.4300025710836\n"
     ]
    },
    {
     "name": "stderr",
     "output_type": "stream",
     "text": [
      " 78%|███████▊  | 1550888/2000000 [1:21:38<23:42, 315.79it/s]"
     ]
    },
    {
     "name": "stdout",
     "output_type": "stream",
     "text": [
      "Episode  59 Balance:  -1178.7078364197557 Reward:  -1178.7078364197557 Loss:  531.0681395707652\n"
     ]
    },
    {
     "name": "stderr",
     "output_type": "stream",
     "text": [
      " 79%|███████▉  | 1577113/2000000 [1:23:01<21:16, 331.21it/s]"
     ]
    },
    {
     "name": "stdout",
     "output_type": "stream",
     "text": [
      "Episode  60 Balance:  -1186.9015374074097 Reward:  -1186.9015374074097 Loss:  516.6496695290552\n"
     ]
    },
    {
     "name": "stderr",
     "output_type": "stream",
     "text": [
      " 79%|███████▉  | 1577177/2000000 [1:23:11<7:18:31, 16.07it/s]"
     ]
    },
    {
     "name": "stdout",
     "output_type": "stream",
     "text": [
      "Absolute Balance:  -197.37178049382723\n"
     ]
    },
    {
     "name": "stderr",
     "output_type": "stream",
     "text": [
      " 80%|████████  | 1603472/2000000 [1:24:31<20:11, 327.37it/s] "
     ]
    },
    {
     "name": "stdout",
     "output_type": "stream",
     "text": [
      "Episode  61 Balance:  -1144.9710886419787 Reward:  -1144.9710886419787 Loss:  532.0788081191713\n"
     ]
    },
    {
     "name": "stderr",
     "output_type": "stream",
     "text": [
      " 81%|████████▏ | 1629782/2000000 [1:25:51<18:16, 337.66it/s]"
     ]
    },
    {
     "name": "stdout",
     "output_type": "stream",
     "text": [
      "Episode  62 Balance:  -1002.6131951851851 Reward:  -1002.6131951851851 Loss:  521.7117953748675\n"
     ]
    },
    {
     "name": "stderr",
     "output_type": "stream",
     "text": [
      " 83%|████████▎ | 1656098/2000000 [1:27:11<17:15, 332.12it/s]"
     ]
    },
    {
     "name": "stdout",
     "output_type": "stream",
     "text": [
      "Episode  63 Balance:  -1129.4831346913609 Reward:  -1129.4831346913609 Loss:  523.6597753450042\n"
     ]
    },
    {
     "name": "stderr",
     "output_type": "stream",
     "text": [
      " 84%|████████▍ | 1682336/2000000 [1:28:34<15:49, 334.68it/s]"
     ]
    },
    {
     "name": "stdout",
     "output_type": "stream",
     "text": [
      "Episode  64 Balance:  -1050.5364466666672 Reward:  -1050.5364466666672 Loss:  540.3336403318681\n"
     ]
    },
    {
     "name": "stderr",
     "output_type": "stream",
     "text": [
      " 84%|████████▍ | 1682398/2000000 [1:28:44<5:45:17, 15.33it/s]"
     ]
    },
    {
     "name": "stdout",
     "output_type": "stream",
     "text": [
      "Absolute Balance:  -141.12766629629633\n"
     ]
    },
    {
     "name": "stderr",
     "output_type": "stream",
     "text": [
      " 85%|████████▌ | 1708705/2000000 [1:30:04<14:49, 327.39it/s] "
     ]
    },
    {
     "name": "stdout",
     "output_type": "stream",
     "text": [
      "Episode  65 Balance:  -1184.8450377160495 Reward:  -1184.8450377160495 Loss:  547.4907750054263\n"
     ]
    },
    {
     "name": "stderr",
     "output_type": "stream",
     "text": [
      " 87%|████████▋ | 1735000/2000000 [1:31:24<14:19, 308.36it/s]"
     ]
    },
    {
     "name": "stdout",
     "output_type": "stream",
     "text": [
      "Episode  66 Balance:  -1225.2652739506223 Reward:  -1225.2652739506223 Loss:  555.5112210987136\n"
     ]
    },
    {
     "name": "stderr",
     "output_type": "stream",
     "text": [
      " 88%|████████▊ | 1761272/2000000 [1:32:43<12:36, 315.65it/s]"
     ]
    },
    {
     "name": "stdout",
     "output_type": "stream",
     "text": [
      "Episode  67 Balance:  -1222.677840679014 Reward:  -1222.677840679014 Loss:  551.8193355995463\n"
     ]
    },
    {
     "name": "stderr",
     "output_type": "stream",
     "text": [
      " 89%|████████▉ | 1787528/2000000 [1:34:06<10:27, 338.34it/s]"
     ]
    },
    {
     "name": "stdout",
     "output_type": "stream",
     "text": [
      "Episode  68 Balance:  -1141.9461700617283 Reward:  -1141.9461700617283 Loss:  554.8342230312992\n"
     ]
    },
    {
     "name": "stderr",
     "output_type": "stream",
     "text": [
      " 89%|████████▉ | 1787591/2000000 [1:34:16<3:50:40, 15.35it/s]"
     ]
    },
    {
     "name": "stdout",
     "output_type": "stream",
     "text": [
      "Absolute Balance:  -188.645180308642\n"
     ]
    },
    {
     "name": "stderr",
     "output_type": "stream",
     "text": [
      " 91%|█████████ | 1813919/2000000 [1:35:37<09:36, 322.85it/s] "
     ]
    },
    {
     "name": "stdout",
     "output_type": "stream",
     "text": [
      "Episode  69 Balance:  -1172.1068155555556 Reward:  -1172.1068155555556 Loss:  556.8259957969422\n"
     ]
    },
    {
     "name": "stderr",
     "output_type": "stream",
     "text": [
      " 92%|█████████▏| 1840220/2000000 [1:36:58<07:52, 338.40it/s]"
     ]
    },
    {
     "name": "stdout",
     "output_type": "stream",
     "text": [
      "Episode  70 Balance:  -1043.5723923456799 Reward:  -1043.5723923456799 Loss:  595.7529509407468\n"
     ]
    },
    {
     "name": "stderr",
     "output_type": "stream",
     "text": [
      " 93%|█████████▎| 1866499/2000000 [1:38:18<06:31, 340.72it/s]"
     ]
    },
    {
     "name": "stdout",
     "output_type": "stream",
     "text": [
      "Episode  71 Balance:  -1080.8945991975318 Reward:  -1080.8945991975318 Loss:  599.058599740034\n"
     ]
    },
    {
     "name": "stderr",
     "output_type": "stream",
     "text": [
      " 95%|█████████▍| 1892753/2000000 [1:39:43<05:23, 331.53it/s]"
     ]
    },
    {
     "name": "stdout",
     "output_type": "stream",
     "text": [
      "Episode  72 Balance:  -1262.6139661728407 Reward:  -1262.6139661728407 Loss:  575.623244148097\n"
     ]
    },
    {
     "name": "stderr",
     "output_type": "stream",
     "text": [
      " 95%|█████████▍| 1892815/2000000 [1:39:53<2:02:28, 14.59it/s]"
     ]
    },
    {
     "name": "stdout",
     "output_type": "stream",
     "text": [
      "Absolute Balance:  -210.46896018518527\n"
     ]
    },
    {
     "name": "stderr",
     "output_type": "stream",
     "text": [
      " 96%|█████████▌| 1919118/2000000 [1:41:13<04:23, 306.62it/s] "
     ]
    },
    {
     "name": "stdout",
     "output_type": "stream",
     "text": [
      "Episode  73 Balance:  -1144.9609701851873 Reward:  -1144.9609701851873 Loss:  545.8848635252798\n"
     ]
    },
    {
     "name": "stderr",
     "output_type": "stream",
     "text": [
      " 97%|█████████▋| 1945427/2000000 [1:42:33<02:39, 341.22it/s]"
     ]
    },
    {
     "name": "stdout",
     "output_type": "stream",
     "text": [
      "Episode  74 Balance:  -1067.2352402469135 Reward:  -1067.2352402469135 Loss:  581.1112797020469\n"
     ]
    },
    {
     "name": "stderr",
     "output_type": "stream",
     "text": [
      " 99%|█████████▊| 1971735/2000000 [1:43:55<01:25, 331.96it/s]"
     ]
    },
    {
     "name": "stdout",
     "output_type": "stream",
     "text": [
      "Episode  75 Balance:  -1140.5122327160507 Reward:  -1140.5122327160507 Loss:  550.9408578997245\n"
     ]
    },
    {
     "name": "stderr",
     "output_type": "stream",
     "text": [
      "100%|█████████▉| 1997947/2000000 [1:45:17<00:06, 338.77it/s]"
     ]
    },
    {
     "name": "stdout",
     "output_type": "stream",
     "text": [
      "Episode  76 Balance:  -1229.462442407403 Reward:  -1229.462442407403 Loss:  558.2862736664247\n"
     ]
    },
    {
     "name": "stderr",
     "output_type": "stream",
     "text": [
      "100%|█████████▉| 1998011/2000000 [1:45:27<02:06, 15.70it/s] "
     ]
    },
    {
     "name": "stdout",
     "output_type": "stream",
     "text": [
      "Absolute Balance:  -135.62126197530873\n"
     ]
    },
    {
     "name": "stderr",
     "output_type": "stream",
     "text": [
      "100%|██████████| 2000000/2000000 [1:45:33<00:00, 315.77it/s]\n"
     ]
    },
    {
     "name": "stdout",
     "output_type": "stream",
     "text": [
      "\n",
      "\n",
      " Layers: 5, Gamma: 0.96\n",
      "Number of engineered features:  57\n",
      "State dimension:  113\n"
     ]
    },
    {
     "name": "stderr",
     "output_type": "stream",
     "text": [
      "/Users/maxfeucht/Documents/VU/Project Reinforcement Learning/BatteryGrid/agent.py:88: RuntimeWarning: invalid value encountered in divide\n",
      "  return (var - np.min(var)) / (np.max(var) - np.min(var))\n"
     ]
    },
    {
     "name": "stdout",
     "output_type": "stream",
     "text": [
      "Number of DQN Parameters:  39171\n"
     ]
    },
    {
     "name": "stderr",
     "output_type": "stream",
     "text": [
      "  1%|▏         | 25336/2000000 [01:00<1:23:47, 392.81it/s]"
     ]
    },
    {
     "name": "stdout",
     "output_type": "stream",
     "text": [
      "Episode  1 Balance:  -8053.121766358054 Reward:  -8053.121766358054 Loss:  2072.9565569851547\n"
     ]
    },
    {
     "name": "stderr",
     "output_type": "stream",
     "text": [
      "  3%|▎         | 51587/2000000 [02:04<1:21:24, 398.92it/s]"
     ]
    },
    {
     "name": "stdout",
     "output_type": "stream",
     "text": [
      "Episode  2 Balance:  -6111.665770061723 Reward:  -6111.665770061723 Loss:  1415.7655132650398\n"
     ]
    },
    {
     "name": "stderr",
     "output_type": "stream",
     "text": [
      "  4%|▍         | 77934/2000000 [03:12<1:21:03, 395.19it/s]"
     ]
    },
    {
     "name": "stdout",
     "output_type": "stream",
     "text": [
      "Episode  3 Balance:  -4153.93613469135 Reward:  -4153.93613469135 Loss:  1144.7289467535447\n"
     ]
    },
    {
     "name": "stderr",
     "output_type": "stream",
     "text": [
      "  5%|▌         | 104145/2000000 [04:22<1:22:21, 383.69it/s]"
     ]
    },
    {
     "name": "stdout",
     "output_type": "stream",
     "text": [
      "Episode  4 Balance:  -2077.1901925308675 Reward:  -2077.1901925308675 Loss:  883.426794240484\n"
     ]
    },
    {
     "name": "stderr",
     "output_type": "stream",
     "text": [
      "  5%|▌         | 104217/2000000 [04:31<27:12:20, 19.36it/s]"
     ]
    },
    {
     "name": "stdout",
     "output_type": "stream",
     "text": [
      "Absolute Balance:  -315.93126765432106\n"
     ]
    },
    {
     "name": "stderr",
     "output_type": "stream",
     "text": [
      "  7%|▋         | 130536/2000000 [05:47<1:24:36, 368.23it/s]"
     ]
    },
    {
     "name": "stdout",
     "output_type": "stream",
     "text": [
      "Episode  5 Balance:  -1247.3404987037095 Reward:  -1247.3404987037095 Loss:  726.3106671732385\n"
     ]
    },
    {
     "name": "stderr",
     "output_type": "stream",
     "text": [
      "  8%|▊         | 156836/2000000 [06:59<1:21:37, 376.32it/s]"
     ]
    },
    {
     "name": "stdout",
     "output_type": "stream",
     "text": [
      "Episode  6 Balance:  -1066.6391463580258 Reward:  -1066.6391463580258 Loss:  635.5570584766101\n"
     ]
    },
    {
     "name": "stderr",
     "output_type": "stream",
     "text": [
      "  9%|▉         | 183126/2000000 [08:10<1:27:37, 345.58it/s]"
     ]
    },
    {
     "name": "stdout",
     "output_type": "stream",
     "text": [
      "Episode  7 Balance:  -1122.3703143209896 Reward:  -1122.3703143209896 Loss:  562.4268688030425\n"
     ]
    },
    {
     "name": "stderr",
     "output_type": "stream",
     "text": [
      " 10%|█         | 209351/2000000 [09:22<1:19:17, 376.41it/s]"
     ]
    },
    {
     "name": "stdout",
     "output_type": "stream",
     "text": [
      "Episode  8 Balance:  -1148.1173688271576 Reward:  -1148.1173688271576 Loss:  527.7769250904676\n"
     ]
    },
    {
     "name": "stderr",
     "output_type": "stream",
     "text": [
      " 10%|█         | 209420/2000000 [09:30<26:07:09, 19.04it/s]"
     ]
    },
    {
     "name": "stdout",
     "output_type": "stream",
     "text": [
      "Absolute Balance:  -110.92681395061734\n"
     ]
    },
    {
     "name": "stderr",
     "output_type": "stream",
     "text": [
      " 12%|█▏        | 235748/2000000 [10:44<1:24:39, 347.35it/s]"
     ]
    },
    {
     "name": "stdout",
     "output_type": "stream",
     "text": [
      "Episode  9 Balance:  -1065.3655861728428 Reward:  -1065.3655861728428 Loss:  545.6852328367531\n"
     ]
    },
    {
     "name": "stderr",
     "output_type": "stream",
     "text": [
      " 13%|█▎        | 262035/2000000 [11:59<1:16:45, 377.40it/s]"
     ]
    },
    {
     "name": "stdout",
     "output_type": "stream",
     "text": [
      "Episode  10 Balance:  -1389.4757208641965 Reward:  -1389.4757208641965 Loss:  595.3209644656163\n"
     ]
    },
    {
     "name": "stderr",
     "output_type": "stream",
     "text": [
      " 14%|█▍        | 288339/2000000 [13:12<1:15:38, 377.14it/s]"
     ]
    },
    {
     "name": "stdout",
     "output_type": "stream",
     "text": [
      "Episode  11 Balance:  -1226.6594212962966 Reward:  -1226.6594212962966 Loss:  585.6744091056753\n"
     ]
    },
    {
     "name": "stderr",
     "output_type": "stream",
     "text": [
      " 16%|█▌        | 314552/2000000 [14:23<1:15:13, 373.40it/s]"
     ]
    },
    {
     "name": "stdout",
     "output_type": "stream",
     "text": [
      "Episode  12 Balance:  -1119.8619879012358 Reward:  -1119.8619879012358 Loss:  566.863756432198\n"
     ]
    },
    {
     "name": "stderr",
     "output_type": "stream",
     "text": [
      " 16%|█▌        | 314624/2000000 [14:32<23:56:19, 19.56it/s]"
     ]
    },
    {
     "name": "stdout",
     "output_type": "stream",
     "text": [
      "Absolute Balance:  -171.6859199382717\n"
     ]
    },
    {
     "name": "stderr",
     "output_type": "stream",
     "text": [
      " 17%|█▋        | 340953/2000000 [15:50<1:15:15, 367.43it/s]"
     ]
    },
    {
     "name": "stdout",
     "output_type": "stream",
     "text": [
      "Episode  13 Balance:  -1066.2290469753104 Reward:  -1066.2290469753104 Loss:  607.1243874815991\n"
     ]
    },
    {
     "name": "stderr",
     "output_type": "stream",
     "text": [
      " 18%|█▊        | 367235/2000000 [17:05<1:12:13, 376.81it/s]"
     ]
    },
    {
     "name": "stdout",
     "output_type": "stream",
     "text": [
      "Episode  14 Balance:  -1074.8003316666673 Reward:  -1074.8003316666673 Loss:  609.4403791956138\n"
     ]
    },
    {
     "name": "stderr",
     "output_type": "stream",
     "text": [
      " 20%|█▉        | 393551/2000000 [18:17<1:10:45, 378.41it/s]"
     ]
    },
    {
     "name": "stdout",
     "output_type": "stream",
     "text": [
      "Episode  15 Balance:  -1177.305605555552 Reward:  -1177.305605555552 Loss:  627.933205540874\n"
     ]
    },
    {
     "name": "stderr",
     "output_type": "stream",
     "text": [
      " 21%|██        | 419770/2000000 [19:28<1:10:04, 375.83it/s]"
     ]
    },
    {
     "name": "stdout",
     "output_type": "stream",
     "text": [
      "Episode  16 Balance:  -1208.495454814813 Reward:  -1208.495454814813 Loss:  598.7665995595744\n"
     ]
    },
    {
     "name": "stderr",
     "output_type": "stream",
     "text": [
      " 21%|██        | 419842/2000000 [19:37<22:28:25, 19.53it/s]"
     ]
    },
    {
     "name": "stdout",
     "output_type": "stream",
     "text": [
      "Absolute Balance:  -153.78258623456796\n"
     ]
    },
    {
     "name": "stderr",
     "output_type": "stream",
     "text": [
      " 22%|██▏       | 446169/2000000 [20:49<1:08:41, 377.04it/s]"
     ]
    },
    {
     "name": "stdout",
     "output_type": "stream",
     "text": [
      "Episode  17 Balance:  -1212.615649320988 Reward:  -1212.615649320988 Loss:  601.3152110467199\n"
     ]
    },
    {
     "name": "stderr",
     "output_type": "stream",
     "text": [
      " 24%|██▎       | 472452/2000000 [22:01<1:12:36, 350.61it/s]"
     ]
    },
    {
     "name": "stdout",
     "output_type": "stream",
     "text": [
      "Episode  18 Balance:  -1162.2909591358023 Reward:  -1162.2909591358023 Loss:  603.5560541929444\n"
     ]
    },
    {
     "name": "stderr",
     "output_type": "stream",
     "text": [
      " 25%|██▍       | 498738/2000000 [23:43<1:32:22, 270.87it/s]"
     ]
    },
    {
     "name": "stdout",
     "output_type": "stream",
     "text": [
      "Episode  19 Balance:  -1143.3155538888893 Reward:  -1143.3155538888893 Loss:  566.7352446471341\n"
     ]
    },
    {
     "name": "stderr",
     "output_type": "stream",
     "text": [
      " 26%|██▌       | 524974/2000000 [25:00<1:06:31, 369.51it/s]"
     ]
    },
    {
     "name": "stdout",
     "output_type": "stream",
     "text": [
      "Episode  20 Balance:  -1156.8454281481495 Reward:  -1156.8454281481495 Loss:  566.4993640577886\n"
     ]
    },
    {
     "name": "stderr",
     "output_type": "stream",
     "text": [
      " 26%|██▋       | 525043/2000000 [25:10<23:22:08, 17.53it/s]"
     ]
    },
    {
     "name": "stdout",
     "output_type": "stream",
     "text": [
      "Absolute Balance:  -289.4852475308643\n"
     ]
    },
    {
     "name": "stderr",
     "output_type": "stream",
     "text": [
      " 28%|██▊       | 551367/2000000 [26:26<1:11:07, 339.47it/s]"
     ]
    },
    {
     "name": "stdout",
     "output_type": "stream",
     "text": [
      "Episode  21 Balance:  -1168.5134589506192 Reward:  -1168.5134589506192 Loss:  561.2599162830738\n"
     ]
    },
    {
     "name": "stderr",
     "output_type": "stream",
     "text": [
      " 29%|██▉       | 577656/2000000 [27:39<1:11:43, 330.52it/s]"
     ]
    },
    {
     "name": "stdout",
     "output_type": "stream",
     "text": [
      "Episode  22 Balance:  -1179.039869197532 Reward:  -1179.039869197532 Loss:  559.215529087116\n"
     ]
    },
    {
     "name": "stderr",
     "output_type": "stream",
     "text": [
      " 30%|███       | 603956/2000000 [28:57<1:20:25, 289.31it/s]"
     ]
    },
    {
     "name": "stdout",
     "output_type": "stream",
     "text": [
      "Episode  23 Balance:  -991.9374839506165 Reward:  -991.9374839506165 Loss:  578.5246197495144\n"
     ]
    },
    {
     "name": "stderr",
     "output_type": "stream",
     "text": [
      " 32%|███▏      | 630199/2000000 [30:11<1:37:32, 234.05it/s]"
     ]
    },
    {
     "name": "stdout",
     "output_type": "stream",
     "text": [
      "Episode  24 Balance:  -1165.5260280864209 Reward:  -1165.5260280864209 Loss:  610.0938344452297\n"
     ]
    },
    {
     "name": "stderr",
     "output_type": "stream",
     "text": [
      " 32%|███▏      | 630263/2000000 [30:20<21:09:21, 17.98it/s]"
     ]
    },
    {
     "name": "stdout",
     "output_type": "stream",
     "text": [
      "Absolute Balance:  -26.71960938271604\n"
     ]
    },
    {
     "name": "stderr",
     "output_type": "stream",
     "text": [
      " 33%|███▎      | 656597/2000000 [31:32<1:00:11, 371.95it/s]"
     ]
    },
    {
     "name": "stdout",
     "output_type": "stream",
     "text": [
      "Episode  25 Balance:  -1111.3159986419773 Reward:  -1111.3159986419773 Loss:  676.1703191191191\n"
     ]
    },
    {
     "name": "stderr",
     "output_type": "stream",
     "text": [
      " 34%|███▍      | 682873/2000000 [32:44<57:55, 378.96it/s]  "
     ]
    },
    {
     "name": "stdout",
     "output_type": "stream",
     "text": [
      "Episode  26 Balance:  -1148.6194929629619 Reward:  -1148.6194929629619 Loss:  703.1195732404012\n"
     ]
    },
    {
     "name": "stderr",
     "output_type": "stream",
     "text": [
      " 35%|███▌      | 709170/2000000 [33:56<1:02:24, 344.76it/s]"
     ]
    },
    {
     "name": "stdout",
     "output_type": "stream",
     "text": [
      "Episode  27 Balance:  -1223.6936659259277 Reward:  -1223.6936659259277 Loss:  666.0860965013271\n"
     ]
    },
    {
     "name": "stderr",
     "output_type": "stream",
     "text": [
      " 37%|███▋      | 735401/2000000 [35:11<1:00:07, 350.58it/s]"
     ]
    },
    {
     "name": "stdout",
     "output_type": "stream",
     "text": [
      "Episode  28 Balance:  -1115.634803765432 Reward:  -1115.634803765432 Loss:  659.1499321117299\n"
     ]
    },
    {
     "name": "stderr",
     "output_type": "stream",
     "text": [
      " 37%|███▋      | 735472/2000000 [35:20<18:38:47, 18.84it/s]"
     ]
    },
    {
     "name": "stdout",
     "output_type": "stream",
     "text": [
      "Absolute Balance:  -250.53478037037038\n"
     ]
    },
    {
     "name": "stderr",
     "output_type": "stream",
     "text": [
      " 38%|███▊      | 761797/2000000 [36:33<54:39, 377.51it/s]  "
     ]
    },
    {
     "name": "stdout",
     "output_type": "stream",
     "text": [
      "Episode  29 Balance:  -1213.410782469136 Reward:  -1213.410782469136 Loss:  607.2024589504581\n"
     ]
    },
    {
     "name": "stderr",
     "output_type": "stream",
     "text": [
      " 39%|███▉      | 788086/2000000 [37:44<52:49, 382.37it/s]  "
     ]
    },
    {
     "name": "stdout",
     "output_type": "stream",
     "text": [
      "Episode  30 Balance:  -1207.035268950618 Reward:  -1207.035268950618 Loss:  595.2011038122\n"
     ]
    },
    {
     "name": "stderr",
     "output_type": "stream",
     "text": [
      " 41%|████      | 814382/2000000 [38:56<54:33, 362.16it/s]  "
     ]
    },
    {
     "name": "stdout",
     "output_type": "stream",
     "text": [
      "Episode  31 Balance:  -1025.2077035185189 Reward:  -1025.2077035185189 Loss:  689.3739207008621\n"
     ]
    },
    {
     "name": "stderr",
     "output_type": "stream",
     "text": [
      " 42%|████▏     | 840647/2000000 [40:08<51:50, 372.76it/s]  "
     ]
    },
    {
     "name": "stdout",
     "output_type": "stream",
     "text": [
      "Episode  32 Balance:  -1149.9264588271622 Reward:  -1149.9264588271622 Loss:  732.2968959640712\n"
     ]
    },
    {
     "name": "stderr",
     "output_type": "stream",
     "text": [
      " 42%|████▏     | 840685/2000000 [40:17<24:11:45, 13.31it/s]"
     ]
    },
    {
     "name": "stdout",
     "output_type": "stream",
     "text": [
      "Absolute Balance:  -73.53227086419756\n"
     ]
    },
    {
     "name": "stderr",
     "output_type": "stream",
     "text": [
      " 43%|████▎     | 867015/2000000 [41:32<52:19, 360.89it/s]  "
     ]
    },
    {
     "name": "stdout",
     "output_type": "stream",
     "text": [
      "Episode  33 Balance:  -997.4610533333338 Reward:  -997.4610533333338 Loss:  711.5349972981494\n"
     ]
    },
    {
     "name": "stderr",
     "output_type": "stream",
     "text": [
      " 45%|████▍     | 893309/2000000 [42:44<49:03, 376.04it/s]  "
     ]
    },
    {
     "name": "stdout",
     "output_type": "stream",
     "text": [
      "Episode  34 Balance:  -1162.035313456792 Reward:  -1162.035313456792 Loss:  663.0006929344963\n"
     ]
    },
    {
     "name": "stderr",
     "output_type": "stream",
     "text": [
      " 46%|████▌     | 919612/2000000 [43:56<51:45, 347.86it/s]  "
     ]
    },
    {
     "name": "stdout",
     "output_type": "stream",
     "text": [
      "Episode  35 Balance:  -1258.3475154321031 Reward:  -1258.3475154321031 Loss:  678.4131646739552\n"
     ]
    },
    {
     "name": "stderr",
     "output_type": "stream",
     "text": [
      " 47%|████▋     | 945849/2000000 [45:08<47:24, 370.55it/s]  "
     ]
    },
    {
     "name": "stdout",
     "output_type": "stream",
     "text": [
      "Episode  36 Balance:  -1048.4400024691395 Reward:  -1048.4400024691395 Loss:  644.8240411580773\n"
     ]
    },
    {
     "name": "stderr",
     "output_type": "stream",
     "text": [
      " 47%|████▋     | 945919/2000000 [45:17<15:57:05, 18.36it/s]"
     ]
    },
    {
     "name": "stdout",
     "output_type": "stream",
     "text": [
      "Absolute Balance:  -168.84205413580253\n"
     ]
    },
    {
     "name": "stderr",
     "output_type": "stream",
     "text": [
      " 49%|████▊     | 972221/2000000 [46:33<45:20, 377.82it/s]  "
     ]
    },
    {
     "name": "stdout",
     "output_type": "stream",
     "text": [
      "Episode  37 Balance:  -1111.9618502469134 Reward:  -1111.9618502469134 Loss:  681.9898013285128\n"
     ]
    },
    {
     "name": "stderr",
     "output_type": "stream",
     "text": [
      " 50%|████▉     | 998520/2000000 [47:45<44:32, 374.68it/s]  "
     ]
    },
    {
     "name": "stdout",
     "output_type": "stream",
     "text": [
      "Episode  38 Balance:  -1207.3554812962989 Reward:  -1207.3554812962989 Loss:  691.4658794365823\n"
     ]
    },
    {
     "name": "stderr",
     "output_type": "stream",
     "text": [
      " 51%|█████     | 1024809/2000000 [48:56<44:11, 367.83it/s]  "
     ]
    },
    {
     "name": "stdout",
     "output_type": "stream",
     "text": [
      "Episode  39 Balance:  -1177.4635290740732 Reward:  -1177.4635290740732 Loss:  671.0906821598765\n"
     ]
    },
    {
     "name": "stderr",
     "output_type": "stream",
     "text": [
      " 53%|█████▎    | 1051038/2000000 [50:08<41:57, 376.97it/s]  "
     ]
    },
    {
     "name": "stdout",
     "output_type": "stream",
     "text": [
      "Episode  40 Balance:  -1117.885520493826 Reward:  -1117.885520493826 Loss:  645.6187955950154\n"
     ]
    },
    {
     "name": "stderr",
     "output_type": "stream",
     "text": [
      " 53%|█████▎    | 1051108/2000000 [50:17<13:46:54, 19.13it/s]"
     ]
    },
    {
     "name": "stdout",
     "output_type": "stream",
     "text": [
      "Absolute Balance:  -90.47546370370371\n"
     ]
    },
    {
     "name": "stderr",
     "output_type": "stream",
     "text": [
      " 54%|█████▍    | 1077424/2000000 [51:30<43:06, 356.64it/s]  "
     ]
    },
    {
     "name": "stdout",
     "output_type": "stream",
     "text": [
      "Episode  41 Balance:  -1052.5836356790114 Reward:  -1052.5836356790114 Loss:  670.3886026662076\n"
     ]
    },
    {
     "name": "stderr",
     "output_type": "stream",
     "text": [
      " 55%|█████▌    | 1103723/2000000 [52:44<39:37, 376.99it/s]  "
     ]
    },
    {
     "name": "stdout",
     "output_type": "stream",
     "text": [
      "Episode  42 Balance:  -1054.3420277160499 Reward:  -1054.3420277160499 Loss:  673.9208942456171\n"
     ]
    },
    {
     "name": "stderr",
     "output_type": "stream",
     "text": [
      " 57%|█████▋    | 1130027/2000000 [53:56<38:44, 374.29it/s]  "
     ]
    },
    {
     "name": "stdout",
     "output_type": "stream",
     "text": [
      "Episode  43 Balance:  -1184.6254967901243 Reward:  -1184.6254967901243 Loss:  743.7288517660927\n"
     ]
    },
    {
     "name": "stderr",
     "output_type": "stream",
     "text": [
      " 58%|█████▊    | 1156258/2000000 [55:08<38:23, 366.24it/s]"
     ]
    },
    {
     "name": "stdout",
     "output_type": "stream",
     "text": [
      "Episode  44 Balance:  -1093.556382345678 Reward:  -1093.556382345678 Loss:  838.9388881856576\n"
     ]
    },
    {
     "name": "stderr",
     "output_type": "stream",
     "text": [
      " 58%|█████▊    | 1156327/2000000 [55:16<12:15:47, 19.11it/s]"
     ]
    },
    {
     "name": "stdout",
     "output_type": "stream",
     "text": [
      "Absolute Balance:  -182.51012623456796\n"
     ]
    },
    {
     "name": "stderr",
     "output_type": "stream",
     "text": [
      " 59%|█████▉    | 1182642/2000000 [56:28<36:40, 371.46it/s]  "
     ]
    },
    {
     "name": "stdout",
     "output_type": "stream",
     "text": [
      "Episode  45 Balance:  -1099.2721109876545 Reward:  -1099.2721109876545 Loss:  720.0802620083559\n"
     ]
    },
    {
     "name": "stderr",
     "output_type": "stream",
     "text": [
      " 60%|██████    | 1208957/2000000 [57:44<35:20, 373.04it/s]  "
     ]
    },
    {
     "name": "stdout",
     "output_type": "stream",
     "text": [
      "Episode  46 Balance:  -992.5008354938249 Reward:  -992.5008354938249 Loss:  665.098952042521\n"
     ]
    },
    {
     "name": "stderr",
     "output_type": "stream",
     "text": [
      " 62%|██████▏   | 1235259/2000000 [58:56<35:31, 358.72it/s]"
     ]
    },
    {
     "name": "stdout",
     "output_type": "stream",
     "text": [
      "Episode  47 Balance:  -1232.1367473456828 Reward:  -1232.1367473456828 Loss:  659.0469049018575\n"
     ]
    },
    {
     "name": "stderr",
     "output_type": "stream",
     "text": [
      " 63%|██████▎   | 1261495/2000000 [1:00:07<35:55, 342.67it/s]"
     ]
    },
    {
     "name": "stdout",
     "output_type": "stream",
     "text": [
      "Episode  48 Balance:  -1157.5467365432103 Reward:  -1157.5467365432103 Loss:  634.7860103095882\n"
     ]
    },
    {
     "name": "stderr",
     "output_type": "stream",
     "text": [
      " 63%|██████▎   | 1261564/2000000 [1:00:16<10:52:50, 18.85it/s]"
     ]
    },
    {
     "name": "stdout",
     "output_type": "stream",
     "text": [
      "Absolute Balance:  -182.2922533950618\n"
     ]
    },
    {
     "name": "stderr",
     "output_type": "stream",
     "text": [
      " 64%|██████▍   | 1287841/2000000 [1:01:28<33:35, 353.41it/s]  "
     ]
    },
    {
     "name": "stdout",
     "output_type": "stream",
     "text": [
      "Episode  49 Balance:  -1010.4599361728398 Reward:  -1010.4599361728398 Loss:  613.4795352149522\n"
     ]
    },
    {
     "name": "stderr",
     "output_type": "stream",
     "text": [
      " 66%|██████▌   | 1314165/2000000 [1:02:41<32:22, 353.05it/s]  "
     ]
    },
    {
     "name": "stdout",
     "output_type": "stream",
     "text": [
      "Episode  50 Balance:  -1213.8243964814808 Reward:  -1213.8243964814808 Loss:  635.7076823548414\n"
     ]
    },
    {
     "name": "stderr",
     "output_type": "stream",
     "text": [
      " 67%|██████▋   | 1340454/2000000 [1:03:55<29:19, 374.89it/s]"
     ]
    },
    {
     "name": "stdout",
     "output_type": "stream",
     "text": [
      "Episode  51 Balance:  -1193.4934297530892 Reward:  -1193.4934297530892 Loss:  641.2886943351477\n"
     ]
    },
    {
     "name": "stderr",
     "output_type": "stream",
     "text": [
      " 68%|██████▊   | 1366678/2000000 [1:05:06<28:03, 376.25it/s]"
     ]
    },
    {
     "name": "stdout",
     "output_type": "stream",
     "text": [
      "Episode  52 Balance:  -1177.5355433950622 Reward:  -1177.5355433950622 Loss:  631.7329699629918\n"
     ]
    },
    {
     "name": "stderr",
     "output_type": "stream",
     "text": [
      " 68%|██████▊   | 1366750/2000000 [1:05:15<9:09:22, 19.21it/s] "
     ]
    },
    {
     "name": "stdout",
     "output_type": "stream",
     "text": [
      "Absolute Balance:  -132.07456506172844\n"
     ]
    },
    {
     "name": "stderr",
     "output_type": "stream",
     "text": [
      " 70%|██████▉   | 1393065/2000000 [1:06:29<27:06, 373.09it/s]  "
     ]
    },
    {
     "name": "stdout",
     "output_type": "stream",
     "text": [
      "Episode  53 Balance:  -1117.7997908024704 Reward:  -1117.7997908024704 Loss:  618.0807238337584\n"
     ]
    },
    {
     "name": "stderr",
     "output_type": "stream",
     "text": [
      " 71%|███████   | 1419369/2000000 [1:07:41<25:29, 379.56it/s]"
     ]
    },
    {
     "name": "stdout",
     "output_type": "stream",
     "text": [
      "Episode  54 Balance:  -1173.8982029012336 Reward:  -1173.8982029012336 Loss:  608.6649867810775\n"
     ]
    },
    {
     "name": "stderr",
     "output_type": "stream",
     "text": [
      " 72%|███████▏  | 1445688/2000000 [1:09:10<26:17, 351.44it/s]  "
     ]
    },
    {
     "name": "stdout",
     "output_type": "stream",
     "text": [
      "Episode  55 Balance:  -1018.0113320370351 Reward:  -1018.0113320370351 Loss:  611.4460039818659\n"
     ]
    },
    {
     "name": "stderr",
     "output_type": "stream",
     "text": [
      " 74%|███████▎  | 1471893/2000000 [1:10:23<24:14, 363.15it/s]"
     ]
    },
    {
     "name": "stdout",
     "output_type": "stream",
     "text": [
      "Episode  56 Balance:  -1108.1917625308638 Reward:  -1108.1917625308638 Loss:  606.7798519289354\n"
     ]
    },
    {
     "name": "stderr",
     "output_type": "stream",
     "text": [
      " 74%|███████▎  | 1471964/2000000 [1:10:32<7:33:09, 19.42it/s] "
     ]
    },
    {
     "name": "stdout",
     "output_type": "stream",
     "text": [
      "Absolute Balance:  -186.17956925925932\n"
     ]
    },
    {
     "name": "stderr",
     "output_type": "stream",
     "text": [
      " 75%|███████▍  | 1498285/2000000 [1:11:44<22:35, 370.22it/s]  "
     ]
    },
    {
     "name": "stdout",
     "output_type": "stream",
     "text": [
      "Episode  57 Balance:  -1070.6041862962934 Reward:  -1070.6041862962934 Loss:  589.1358104220126\n"
     ]
    },
    {
     "name": "stderr",
     "output_type": "stream",
     "text": [
      " 76%|███████▌  | 1524588/2000000 [1:12:56<20:56, 378.50it/s]"
     ]
    },
    {
     "name": "stdout",
     "output_type": "stream",
     "text": [
      "Episode  58 Balance:  -944.9912717901228 Reward:  -944.9912717901228 Loss:  598.3020774151664\n"
     ]
    },
    {
     "name": "stderr",
     "output_type": "stream",
     "text": [
      " 78%|███████▊  | 1550883/2000000 [1:14:13<22:10, 337.64it/s]  "
     ]
    },
    {
     "name": "stdout",
     "output_type": "stream",
     "text": [
      "Episode  59 Balance:  -1088.42766327161 Reward:  -1088.42766327161 Loss:  604.4453623318113\n"
     ]
    },
    {
     "name": "stderr",
     "output_type": "stream",
     "text": [
      " 79%|███████▉  | 1577108/2000000 [1:15:28<18:42, 376.86it/s]"
     ]
    },
    {
     "name": "stdout",
     "output_type": "stream",
     "text": [
      "Episode  60 Balance:  -1275.144380246916 Reward:  -1275.144380246916 Loss:  580.2641563966172\n"
     ]
    },
    {
     "name": "stderr",
     "output_type": "stream",
     "text": [
      " 79%|███████▉  | 1577177/2000000 [1:15:37<6:18:29, 18.62it/s]"
     ]
    },
    {
     "name": "stdout",
     "output_type": "stream",
     "text": [
      "Absolute Balance:  -172.56046197530867\n"
     ]
    },
    {
     "name": "stderr",
     "output_type": "stream",
     "text": [
      " 80%|████████  | 1603496/2000000 [1:16:48<18:49, 351.06it/s] "
     ]
    },
    {
     "name": "stdout",
     "output_type": "stream",
     "text": [
      "Episode  61 Balance:  -1109.6262219753128 Reward:  -1109.6262219753128 Loss:  637.1299482077593\n"
     ]
    },
    {
     "name": "stderr",
     "output_type": "stream",
     "text": [
      " 81%|████████▏ | 1629794/2000000 [1:18:00<16:20, 377.70it/s]"
     ]
    },
    {
     "name": "stdout",
     "output_type": "stream",
     "text": [
      "Episode  62 Balance:  -1234.1198485802463 Reward:  -1234.1198485802463 Loss:  619.0569256914314\n"
     ]
    },
    {
     "name": "stderr",
     "output_type": "stream",
     "text": [
      " 83%|████████▎ | 1656067/2000000 [1:19:23<32:49, 174.59it/s] "
     ]
    },
    {
     "name": "stdout",
     "output_type": "stream",
     "text": [
      "Episode  63 Balance:  -1112.778872654321 Reward:  -1112.778872654321 Loss:  596.8431833561044\n"
     ]
    },
    {
     "name": "stderr",
     "output_type": "stream",
     "text": [
      " 84%|████████▍ | 1682335/2000000 [1:21:44<18:01, 293.70it/s] "
     ]
    },
    {
     "name": "stdout",
     "output_type": "stream",
     "text": [
      "Episode  64 Balance:  -1101.5856574074098 Reward:  -1101.5856574074098 Loss:  561.8850677190349\n"
     ]
    },
    {
     "name": "stderr",
     "output_type": "stream",
     "text": [
      " 84%|████████▍ | 1682393/2000000 [1:21:56<7:04:39, 12.47it/s]"
     ]
    },
    {
     "name": "stdout",
     "output_type": "stream",
     "text": [
      "Absolute Balance:  -194.44349685185188\n"
     ]
    },
    {
     "name": "stderr",
     "output_type": "stream",
     "text": [
      " 85%|████████▌ | 1708672/2000000 [1:24:41<26:47, 181.27it/s] "
     ]
    },
    {
     "name": "stdout",
     "output_type": "stream",
     "text": [
      "Episode  65 Balance:  -1119.7909949382724 Reward:  -1119.7909949382724 Loss:  583.8750311598415\n"
     ]
    },
    {
     "name": "stderr",
     "output_type": "stream",
     "text": [
      " 87%|████████▋ | 1734970/2000000 [1:27:51<25:11, 175.37it/s] "
     ]
    },
    {
     "name": "stdout",
     "output_type": "stream",
     "text": [
      "Episode  66 Balance:  -1111.2057552469116 Reward:  -1111.2057552469116 Loss:  559.9747783560306\n"
     ]
    },
    {
     "name": "stderr",
     "output_type": "stream",
     "text": [
      " 88%|████████▊ | 1761275/2000000 [1:30:29<21:41, 183.37it/s] "
     ]
    },
    {
     "name": "stdout",
     "output_type": "stream",
     "text": [
      "Episode  67 Balance:  -1178.0101262345727 Reward:  -1178.0101262345727 Loss:  541.9747715475969\n"
     ]
    },
    {
     "name": "stderr",
     "output_type": "stream",
     "text": [
      " 89%|████████▉ | 1787544/2000000 [1:33:06<21:56, 161.34it/s]"
     ]
    },
    {
     "name": "stdout",
     "output_type": "stream",
     "text": [
      "Episode  68 Balance:  -1107.5842273456813 Reward:  -1107.5842273456813 Loss:  572.342392748571\n"
     ]
    },
    {
     "name": "stderr",
     "output_type": "stream",
     "text": [
      " 89%|████████▉ | 1787574/2000000 [1:33:25<14:43:56,  4.01it/s]"
     ]
    },
    {
     "name": "stdout",
     "output_type": "stream",
     "text": [
      "Absolute Balance:  -132.40355876543217\n"
     ]
    },
    {
     "name": "stderr",
     "output_type": "stream",
     "text": [
      " 91%|█████████ | 1813894/2000000 [1:36:49<22:00, 140.98it/s]  "
     ]
    },
    {
     "name": "stdout",
     "output_type": "stream",
     "text": [
      "Episode  69 Balance:  -1201.2169983950612 Reward:  -1201.2169983950612 Loss:  551.6598225635244\n"
     ]
    },
    {
     "name": "stderr",
     "output_type": "stream",
     "text": [
      " 92%|█████████▏| 1840177/2000000 [1:39:55<22:09, 120.19it/s] "
     ]
    },
    {
     "name": "stdout",
     "output_type": "stream",
     "text": [
      "Episode  70 Balance:  -1137.7121617283976 Reward:  -1137.7121617283976 Loss:  591.632548087975\n"
     ]
    },
    {
     "name": "stderr",
     "output_type": "stream",
     "text": [
      " 93%|█████████▎| 1866500/2000000 [1:42:54<11:49, 188.15it/s] "
     ]
    },
    {
     "name": "stdout",
     "output_type": "stream",
     "text": [
      "Episode  71 Balance:  -1207.4473577777785 Reward:  -1207.4473577777785 Loss:  585.0534247190226\n"
     ]
    },
    {
     "name": "stderr",
     "output_type": "stream",
     "text": [
      " 95%|█████████▍| 1892766/2000000 [1:45:37<18:03, 99.01it/s] "
     ]
    },
    {
     "name": "stdout",
     "output_type": "stream",
     "text": [
      "Episode  72 Balance:  -1227.4961872222227 Reward:  -1227.4961872222227 Loss:  563.5155521389097\n"
     ]
    },
    {
     "name": "stderr",
     "output_type": "stream",
     "text": [
      " 95%|█████████▍| 1892792/2000000 [1:45:57<8:57:49,  3.32it/s] "
     ]
    },
    {
     "name": "stdout",
     "output_type": "stream",
     "text": [
      "Absolute Balance:  -95.43743320987657\n"
     ]
    },
    {
     "name": "stderr",
     "output_type": "stream",
     "text": [
      " 96%|█████████▌| 1919089/2000000 [1:48:45<07:58, 168.97it/s] "
     ]
    },
    {
     "name": "stdout",
     "output_type": "stream",
     "text": [
      "Episode  73 Balance:  -1099.668523703703 Reward:  -1099.668523703703 Loss:  558.2781284896191\n"
     ]
    },
    {
     "name": "stderr",
     "output_type": "stream",
     "text": [
      " 97%|█████████▋| 1945406/2000000 [1:53:39<05:55, 153.64it/s] "
     ]
    },
    {
     "name": "stdout",
     "output_type": "stream",
     "text": [
      "Episode  74 Balance:  -1149.0142072839506 Reward:  -1149.0142072839506 Loss:  557.9096907253843\n"
     ]
    },
    {
     "name": "stderr",
     "output_type": "stream",
     "text": [
      " 99%|█████████▊| 1971736/2000000 [1:56:40<01:16, 368.68it/s]"
     ]
    },
    {
     "name": "stdout",
     "output_type": "stream",
     "text": [
      "Episode  75 Balance:  -1127.6431406790148 Reward:  -1127.6431406790148 Loss:  558.2724243676057\n"
     ]
    },
    {
     "name": "stderr",
     "output_type": "stream",
     "text": [
      "100%|█████████▉| 1997959/2000000 [1:57:53<00:05, 354.68it/s]"
     ]
    },
    {
     "name": "stdout",
     "output_type": "stream",
     "text": [
      "Episode  76 Balance:  -1044.9160393827162 Reward:  -1044.9160393827162 Loss:  556.1879349149531\n"
     ]
    },
    {
     "name": "stderr",
     "output_type": "stream",
     "text": [
      "100%|█████████▉| 1998025/2000000 [1:58:02<01:50, 17.82it/s] "
     ]
    },
    {
     "name": "stdout",
     "output_type": "stream",
     "text": [
      "Absolute Balance:  -3.2360007407407663\n"
     ]
    },
    {
     "name": "stderr",
     "output_type": "stream",
     "text": [
      "100%|██████████| 2000000/2000000 [1:58:08<00:00, 282.15it/s]\n"
     ]
    },
    {
     "name": "stdout",
     "output_type": "stream",
     "text": [
      "\n",
      "\n",
      " Layers: 6, Gamma: 0.96\n",
      "Number of engineered features:  57\n",
      "State dimension:  113\n",
      "Number of DQN Parameters:  48483\n"
     ]
    },
    {
     "name": "stderr",
     "output_type": "stream",
     "text": [
      "/Users/maxfeucht/Documents/VU/Project Reinforcement Learning/BatteryGrid/agent.py:88: RuntimeWarning: invalid value encountered in divide\n",
      "  return (var - np.min(var)) / (np.max(var) - np.min(var))\n",
      "  1%|▏         | 25324/2000000 [01:08<1:27:54, 374.41it/s]"
     ]
    },
    {
     "name": "stdout",
     "output_type": "stream",
     "text": [
      "Episode  1 Balance:  -7881.1900612963045 Reward:  -7881.1900612963045 Loss:  2003.4310554268304\n"
     ]
    },
    {
     "name": "stderr",
     "output_type": "stream",
     "text": [
      "  3%|▎         | 51612/2000000 [02:22<1:30:40, 358.12it/s]"
     ]
    },
    {
     "name": "stdout",
     "output_type": "stream",
     "text": [
      "Episode  2 Balance:  -6261.189837716043 Reward:  -6261.189837716043 Loss:  1489.2166022672318\n"
     ]
    },
    {
     "name": "stderr",
     "output_type": "stream",
     "text": [
      "  4%|▍         | 77908/2000000 [03:44<2:00:43, 265.35it/s]"
     ]
    },
    {
     "name": "stdout",
     "output_type": "stream",
     "text": [
      "Episode  3 Balance:  -3908.16965320987 Reward:  -3908.16965320987 Loss:  1218.4589725816622\n"
     ]
    },
    {
     "name": "stderr",
     "output_type": "stream",
     "text": [
      "  5%|▌         | 104136/2000000 [05:12<1:33:35, 337.63it/s]"
     ]
    },
    {
     "name": "stdout",
     "output_type": "stream",
     "text": [
      "Episode  4 Balance:  -2104.474767716044 Reward:  -2104.474767716044 Loss:  961.3657151274383\n"
     ]
    },
    {
     "name": "stderr",
     "output_type": "stream",
     "text": [
      "  5%|▌         | 104200/2000000 [05:22<33:25:06, 15.76it/s]"
     ]
    },
    {
     "name": "stdout",
     "output_type": "stream",
     "text": [
      "Absolute Balance:  -340.87299672839515\n"
     ]
    },
    {
     "name": "stderr",
     "output_type": "stream",
     "text": [
      "  7%|▋         | 130501/2000000 [06:42<1:37:38, 319.09it/s]"
     ]
    },
    {
     "name": "stdout",
     "output_type": "stream",
     "text": [
      "Episode  5 Balance:  -1315.5047007407393 Reward:  -1315.5047007407393 Loss:  760.4706829024944\n"
     ]
    },
    {
     "name": "stderr",
     "output_type": "stream",
     "text": [
      "  8%|▊         | 152305/2000000 [08:13<1:39:47, 308.58it/s]\n"
     ]
    },
    {
     "ename": "KeyboardInterrupt",
     "evalue": "",
     "output_type": "error",
     "traceback": [
      "\u001b[0;31m---------------------------------------------------------------------------\u001b[0m",
      "\u001b[0;31mKeyboardInterrupt\u001b[0m                         Traceback (most recent call last)",
      "\u001b[1;32m/Users/maxfeucht/Documents/VU/Project Reinforcement Learning/BatteryGrid/prl.py\u001b[0m in \u001b[0;36mline 77\n\u001b[1;32m     <a href='file:///Users/maxfeucht/Documents/VU/Project%20Reinforcement%20Learning/BatteryGrid/prl.py?line=113'>114</a>\u001b[0m     agent\u001b[39m.\u001b[39mreplay_memory\u001b[39m.\u001b[39madd_data((state, action, new_reward, t, new_state))\n\u001b[1;32m     <a href='file:///Users/maxfeucht/Documents/VU/Project%20Reinforcement%20Learning/BatteryGrid/prl.py?line=115'>116</a>\u001b[0m \u001b[39m#Update DQN\u001b[39;00m\n\u001b[0;32m---> <a href='file:///Users/maxfeucht/Documents/VU/Project%20Reinforcement%20Learning/BatteryGrid/prl.py?line=116'>117</a>\u001b[0m loss \u001b[39m=\u001b[39m agent\u001b[39m.\u001b[39;49moptimize(batch_size)\n\u001b[1;32m     <a href='file:///Users/maxfeucht/Documents/VU/Project%20Reinforcement%20Learning/BatteryGrid/prl.py?line=118'>119</a>\u001b[0m \u001b[39m# Update values\u001b[39;00m\n\u001b[1;32m     <a href='file:///Users/maxfeucht/Documents/VU/Project%20Reinforcement%20Learning/BatteryGrid/prl.py?line=119'>120</a>\u001b[0m episode_balance \u001b[39m+\u001b[39m\u001b[39m=\u001b[39m r\n",
      "File \u001b[0;32m~/Documents/VU/Project Reinforcement Learning/BatteryGrid/agent.py:334\u001b[0m, in \u001b[0;36mDDQNAgent.optimize\u001b[0;34m(self, batch_size)\u001b[0m\n\u001b[1;32m    <a href='file:///Users/maxfeucht/Documents/VU/Project%20Reinforcement%20Learning/BatteryGrid/agent.py?line=324'>325</a>\u001b[0m action_q_values \u001b[39m=\u001b[39m torch\u001b[39m.\u001b[39mgather(\u001b[39minput\u001b[39m\u001b[39m=\u001b[39mq_values, dim\u001b[39m=\u001b[39m\u001b[39m1\u001b[39m, index\u001b[39m=\u001b[39mactions) \u001b[39m# Select the q-value for the action that was taken\u001b[39;00m\n\u001b[1;32m    <a href='file:///Users/maxfeucht/Documents/VU/Project%20Reinforcement%20Learning/BatteryGrid/agent.py?line=326'>327</a>\u001b[0m \u001b[39m# Then: Compute DQN output for next state, and build the targets based on reward and the max q-value of the next state \u001b[39;00m\n\u001b[1;32m    <a href='file:///Users/maxfeucht/Documents/VU/Project%20Reinforcement%20Learning/BatteryGrid/agent.py?line=327'>328</a>\u001b[0m \u001b[39m# target_q_values = self.dqn_target(new_states) # Predict q-values for the next state\u001b[39;00m\n\u001b[1;32m    <a href='file:///Users/maxfeucht/Documents/VU/Project%20Reinforcement%20Learning/BatteryGrid/agent.py?line=328'>329</a>\u001b[0m \u001b[39m# max_target_q_values = target_q_values.max(dim=1, keepdim=True)[0] # Select the max q-value of the next state\u001b[39;00m\n\u001b[0;32m   (...)\u001b[0m\n\u001b[1;32m    <a href='file:///Users/maxfeucht/Documents/VU/Project%20Reinforcement%20Learning/BatteryGrid/agent.py?line=331'>332</a>\u001b[0m \n\u001b[1;32m    <a href='file:///Users/maxfeucht/Documents/VU/Project%20Reinforcement%20Learning/BatteryGrid/agent.py?line=332'>333</a>\u001b[0m \u001b[39m### ACTUAL DOUBLE DQN IMPLEMENTATION ###\u001b[39;00m\n\u001b[0;32m--> <a href='file:///Users/maxfeucht/Documents/VU/Project%20Reinforcement%20Learning/BatteryGrid/agent.py?line=333'>334</a>\u001b[0m action_selection \u001b[39m=\u001b[39m \u001b[39mself\u001b[39;49m\u001b[39m.\u001b[39;49mdqn_predict(new_states)\u001b[39m.\u001b[39margmax(dim\u001b[39m=\u001b[39m\u001b[39m1\u001b[39m)\n\u001b[1;32m    <a href='file:///Users/maxfeucht/Documents/VU/Project%20Reinforcement%20Learning/BatteryGrid/agent.py?line=334'>335</a>\u001b[0m target_q_values \u001b[39m=\u001b[39m \u001b[39mself\u001b[39m\u001b[39m.\u001b[39mdqn_target(new_states)\n\u001b[1;32m    <a href='file:///Users/maxfeucht/Documents/VU/Project%20Reinforcement%20Learning/BatteryGrid/agent.py?line=335'>336</a>\u001b[0m targets \u001b[39m=\u001b[39m rewards \u001b[39m+\u001b[39m (\u001b[39m1\u001b[39m \u001b[39m-\u001b[39m terminateds) \u001b[39m*\u001b[39m \u001b[39mself\u001b[39m\u001b[39m.\u001b[39mdiscount_rate \u001b[39m*\u001b[39m torch\u001b[39m.\u001b[39mgather(\u001b[39minput\u001b[39m \u001b[39m=\u001b[39m target_q_values, dim \u001b[39m=\u001b[39m \u001b[39m1\u001b[39m, index \u001b[39m=\u001b[39m action_selection\u001b[39m.\u001b[39munsqueeze(\u001b[39m1\u001b[39m))\u001b[39m.\u001b[39msqueeze(\u001b[39m1\u001b[39m)\u001b[39m.\u001b[39mview(\u001b[39m-\u001b[39m\u001b[39m1\u001b[39m,\u001b[39m1\u001b[39m)\n",
      "File \u001b[0;32m~/anaconda3/envs/PRL/lib/python3.11/site-packages/torch/nn/modules/module.py:1518\u001b[0m, in \u001b[0;36mModule._wrapped_call_impl\u001b[0;34m(self, *args, **kwargs)\u001b[0m\n\u001b[1;32m   <a href='file:///Users/maxfeucht/anaconda3/envs/PRL/lib/python3.11/site-packages/torch/nn/modules/module.py?line=1515'>1516</a>\u001b[0m     \u001b[39mreturn\u001b[39;00m \u001b[39mself\u001b[39m\u001b[39m.\u001b[39m_compiled_call_impl(\u001b[39m*\u001b[39margs, \u001b[39m*\u001b[39m\u001b[39m*\u001b[39mkwargs)  \u001b[39m# type: ignore[misc]\u001b[39;00m\n\u001b[1;32m   <a href='file:///Users/maxfeucht/anaconda3/envs/PRL/lib/python3.11/site-packages/torch/nn/modules/module.py?line=1516'>1517</a>\u001b[0m \u001b[39melse\u001b[39;00m:\n\u001b[0;32m-> <a href='file:///Users/maxfeucht/anaconda3/envs/PRL/lib/python3.11/site-packages/torch/nn/modules/module.py?line=1517'>1518</a>\u001b[0m     \u001b[39mreturn\u001b[39;00m \u001b[39mself\u001b[39;49m\u001b[39m.\u001b[39;49m_call_impl(\u001b[39m*\u001b[39;49margs, \u001b[39m*\u001b[39;49m\u001b[39m*\u001b[39;49mkwargs)\n",
      "File \u001b[0;32m~/anaconda3/envs/PRL/lib/python3.11/site-packages/torch/nn/modules/module.py:1527\u001b[0m, in \u001b[0;36mModule._call_impl\u001b[0;34m(self, *args, **kwargs)\u001b[0m\n\u001b[1;32m   <a href='file:///Users/maxfeucht/anaconda3/envs/PRL/lib/python3.11/site-packages/torch/nn/modules/module.py?line=1521'>1522</a>\u001b[0m \u001b[39m# If we don't have any hooks, we want to skip the rest of the logic in\u001b[39;00m\n\u001b[1;32m   <a href='file:///Users/maxfeucht/anaconda3/envs/PRL/lib/python3.11/site-packages/torch/nn/modules/module.py?line=1522'>1523</a>\u001b[0m \u001b[39m# this function, and just call forward.\u001b[39;00m\n\u001b[1;32m   <a href='file:///Users/maxfeucht/anaconda3/envs/PRL/lib/python3.11/site-packages/torch/nn/modules/module.py?line=1523'>1524</a>\u001b[0m \u001b[39mif\u001b[39;00m \u001b[39mnot\u001b[39;00m (\u001b[39mself\u001b[39m\u001b[39m.\u001b[39m_backward_hooks \u001b[39mor\u001b[39;00m \u001b[39mself\u001b[39m\u001b[39m.\u001b[39m_backward_pre_hooks \u001b[39mor\u001b[39;00m \u001b[39mself\u001b[39m\u001b[39m.\u001b[39m_forward_hooks \u001b[39mor\u001b[39;00m \u001b[39mself\u001b[39m\u001b[39m.\u001b[39m_forward_pre_hooks\n\u001b[1;32m   <a href='file:///Users/maxfeucht/anaconda3/envs/PRL/lib/python3.11/site-packages/torch/nn/modules/module.py?line=1524'>1525</a>\u001b[0m         \u001b[39mor\u001b[39;00m _global_backward_pre_hooks \u001b[39mor\u001b[39;00m _global_backward_hooks\n\u001b[1;32m   <a href='file:///Users/maxfeucht/anaconda3/envs/PRL/lib/python3.11/site-packages/torch/nn/modules/module.py?line=1525'>1526</a>\u001b[0m         \u001b[39mor\u001b[39;00m _global_forward_hooks \u001b[39mor\u001b[39;00m _global_forward_pre_hooks):\n\u001b[0;32m-> <a href='file:///Users/maxfeucht/anaconda3/envs/PRL/lib/python3.11/site-packages/torch/nn/modules/module.py?line=1526'>1527</a>\u001b[0m     \u001b[39mreturn\u001b[39;00m forward_call(\u001b[39m*\u001b[39;49margs, \u001b[39m*\u001b[39;49m\u001b[39m*\u001b[39;49mkwargs)\n\u001b[1;32m   <a href='file:///Users/maxfeucht/anaconda3/envs/PRL/lib/python3.11/site-packages/torch/nn/modules/module.py?line=1528'>1529</a>\u001b[0m \u001b[39mtry\u001b[39;00m:\n\u001b[1;32m   <a href='file:///Users/maxfeucht/anaconda3/envs/PRL/lib/python3.11/site-packages/torch/nn/modules/module.py?line=1529'>1530</a>\u001b[0m     result \u001b[39m=\u001b[39m \u001b[39mNone\u001b[39;00m\n",
      "File \u001b[0;32m~/Documents/VU/Project Reinforcement Learning/BatteryGrid/agent.py:549\u001b[0m, in \u001b[0;36mDQN.forward\u001b[0;34m(self, x)\u001b[0m\n\u001b[1;32m    <a href='file:///Users/maxfeucht/Documents/VU/Project%20Reinforcement%20Learning/BatteryGrid/agent.py?line=541'>542</a>\u001b[0m \u001b[39mdef\u001b[39;00m \u001b[39mforward\u001b[39m(\u001b[39mself\u001b[39m, x):\n\u001b[1;32m    <a href='file:///Users/maxfeucht/Documents/VU/Project%20Reinforcement%20Learning/BatteryGrid/agent.py?line=543'>544</a>\u001b[0m \u001b[39m    \u001b[39m\u001b[39m'''\u001b[39;00m\n\u001b[1;32m    <a href='file:///Users/maxfeucht/Documents/VU/Project%20Reinforcement%20Learning/BatteryGrid/agent.py?line=544'>545</a>\u001b[0m \u001b[39m    Params:\u001b[39;00m\n\u001b[1;32m    <a href='file:///Users/maxfeucht/Documents/VU/Project%20Reinforcement%20Learning/BatteryGrid/agent.py?line=545'>546</a>\u001b[0m \u001b[39m    x = observation\u001b[39;00m\n\u001b[1;32m    <a href='file:///Users/maxfeucht/Documents/VU/Project%20Reinforcement%20Learning/BatteryGrid/agent.py?line=546'>547</a>\u001b[0m \u001b[39m    '''\u001b[39;00m\n\u001b[0;32m--> <a href='file:///Users/maxfeucht/Documents/VU/Project%20Reinforcement%20Learning/BatteryGrid/agent.py?line=548'>549</a>\u001b[0m     x \u001b[39m=\u001b[39m \u001b[39mself\u001b[39;49m\u001b[39m.\u001b[39;49mdnn(x)\n\u001b[1;32m    <a href='file:///Users/maxfeucht/Documents/VU/Project%20Reinforcement%20Learning/BatteryGrid/agent.py?line=550'>551</a>\u001b[0m     \u001b[39mreturn\u001b[39;00m x\n",
      "File \u001b[0;32m~/anaconda3/envs/PRL/lib/python3.11/site-packages/torch/nn/modules/module.py:1518\u001b[0m, in \u001b[0;36mModule._wrapped_call_impl\u001b[0;34m(self, *args, **kwargs)\u001b[0m\n\u001b[1;32m   <a href='file:///Users/maxfeucht/anaconda3/envs/PRL/lib/python3.11/site-packages/torch/nn/modules/module.py?line=1515'>1516</a>\u001b[0m     \u001b[39mreturn\u001b[39;00m \u001b[39mself\u001b[39m\u001b[39m.\u001b[39m_compiled_call_impl(\u001b[39m*\u001b[39margs, \u001b[39m*\u001b[39m\u001b[39m*\u001b[39mkwargs)  \u001b[39m# type: ignore[misc]\u001b[39;00m\n\u001b[1;32m   <a href='file:///Users/maxfeucht/anaconda3/envs/PRL/lib/python3.11/site-packages/torch/nn/modules/module.py?line=1516'>1517</a>\u001b[0m \u001b[39melse\u001b[39;00m:\n\u001b[0;32m-> <a href='file:///Users/maxfeucht/anaconda3/envs/PRL/lib/python3.11/site-packages/torch/nn/modules/module.py?line=1517'>1518</a>\u001b[0m     \u001b[39mreturn\u001b[39;00m \u001b[39mself\u001b[39;49m\u001b[39m.\u001b[39;49m_call_impl(\u001b[39m*\u001b[39;49margs, \u001b[39m*\u001b[39;49m\u001b[39m*\u001b[39;49mkwargs)\n",
      "File \u001b[0;32m~/anaconda3/envs/PRL/lib/python3.11/site-packages/torch/nn/modules/module.py:1527\u001b[0m, in \u001b[0;36mModule._call_impl\u001b[0;34m(self, *args, **kwargs)\u001b[0m\n\u001b[1;32m   <a href='file:///Users/maxfeucht/anaconda3/envs/PRL/lib/python3.11/site-packages/torch/nn/modules/module.py?line=1521'>1522</a>\u001b[0m \u001b[39m# If we don't have any hooks, we want to skip the rest of the logic in\u001b[39;00m\n\u001b[1;32m   <a href='file:///Users/maxfeucht/anaconda3/envs/PRL/lib/python3.11/site-packages/torch/nn/modules/module.py?line=1522'>1523</a>\u001b[0m \u001b[39m# this function, and just call forward.\u001b[39;00m\n\u001b[1;32m   <a href='file:///Users/maxfeucht/anaconda3/envs/PRL/lib/python3.11/site-packages/torch/nn/modules/module.py?line=1523'>1524</a>\u001b[0m \u001b[39mif\u001b[39;00m \u001b[39mnot\u001b[39;00m (\u001b[39mself\u001b[39m\u001b[39m.\u001b[39m_backward_hooks \u001b[39mor\u001b[39;00m \u001b[39mself\u001b[39m\u001b[39m.\u001b[39m_backward_pre_hooks \u001b[39mor\u001b[39;00m \u001b[39mself\u001b[39m\u001b[39m.\u001b[39m_forward_hooks \u001b[39mor\u001b[39;00m \u001b[39mself\u001b[39m\u001b[39m.\u001b[39m_forward_pre_hooks\n\u001b[1;32m   <a href='file:///Users/maxfeucht/anaconda3/envs/PRL/lib/python3.11/site-packages/torch/nn/modules/module.py?line=1524'>1525</a>\u001b[0m         \u001b[39mor\u001b[39;00m _global_backward_pre_hooks \u001b[39mor\u001b[39;00m _global_backward_hooks\n\u001b[1;32m   <a href='file:///Users/maxfeucht/anaconda3/envs/PRL/lib/python3.11/site-packages/torch/nn/modules/module.py?line=1525'>1526</a>\u001b[0m         \u001b[39mor\u001b[39;00m _global_forward_hooks \u001b[39mor\u001b[39;00m _global_forward_pre_hooks):\n\u001b[0;32m-> <a href='file:///Users/maxfeucht/anaconda3/envs/PRL/lib/python3.11/site-packages/torch/nn/modules/module.py?line=1526'>1527</a>\u001b[0m     \u001b[39mreturn\u001b[39;00m forward_call(\u001b[39m*\u001b[39;49margs, \u001b[39m*\u001b[39;49m\u001b[39m*\u001b[39;49mkwargs)\n\u001b[1;32m   <a href='file:///Users/maxfeucht/anaconda3/envs/PRL/lib/python3.11/site-packages/torch/nn/modules/module.py?line=1528'>1529</a>\u001b[0m \u001b[39mtry\u001b[39;00m:\n\u001b[1;32m   <a href='file:///Users/maxfeucht/anaconda3/envs/PRL/lib/python3.11/site-packages/torch/nn/modules/module.py?line=1529'>1530</a>\u001b[0m     result \u001b[39m=\u001b[39m \u001b[39mNone\u001b[39;00m\n",
      "File \u001b[0;32m~/anaconda3/envs/PRL/lib/python3.11/site-packages/torch/nn/modules/container.py:215\u001b[0m, in \u001b[0;36mSequential.forward\u001b[0;34m(self, input)\u001b[0m\n\u001b[1;32m    <a href='file:///Users/maxfeucht/anaconda3/envs/PRL/lib/python3.11/site-packages/torch/nn/modules/container.py?line=212'>213</a>\u001b[0m \u001b[39mdef\u001b[39;00m \u001b[39mforward\u001b[39m(\u001b[39mself\u001b[39m, \u001b[39minput\u001b[39m):\n\u001b[1;32m    <a href='file:///Users/maxfeucht/anaconda3/envs/PRL/lib/python3.11/site-packages/torch/nn/modules/container.py?line=213'>214</a>\u001b[0m     \u001b[39mfor\u001b[39;00m module \u001b[39min\u001b[39;00m \u001b[39mself\u001b[39m:\n\u001b[0;32m--> <a href='file:///Users/maxfeucht/anaconda3/envs/PRL/lib/python3.11/site-packages/torch/nn/modules/container.py?line=214'>215</a>\u001b[0m         \u001b[39minput\u001b[39m \u001b[39m=\u001b[39m module(\u001b[39minput\u001b[39;49m)\n\u001b[1;32m    <a href='file:///Users/maxfeucht/anaconda3/envs/PRL/lib/python3.11/site-packages/torch/nn/modules/container.py?line=215'>216</a>\u001b[0m     \u001b[39mreturn\u001b[39;00m \u001b[39minput\u001b[39m\n",
      "File \u001b[0;32m~/anaconda3/envs/PRL/lib/python3.11/site-packages/torch/nn/modules/module.py:1518\u001b[0m, in \u001b[0;36mModule._wrapped_call_impl\u001b[0;34m(self, *args, **kwargs)\u001b[0m\n\u001b[1;32m   <a href='file:///Users/maxfeucht/anaconda3/envs/PRL/lib/python3.11/site-packages/torch/nn/modules/module.py?line=1515'>1516</a>\u001b[0m     \u001b[39mreturn\u001b[39;00m \u001b[39mself\u001b[39m\u001b[39m.\u001b[39m_compiled_call_impl(\u001b[39m*\u001b[39margs, \u001b[39m*\u001b[39m\u001b[39m*\u001b[39mkwargs)  \u001b[39m# type: ignore[misc]\u001b[39;00m\n\u001b[1;32m   <a href='file:///Users/maxfeucht/anaconda3/envs/PRL/lib/python3.11/site-packages/torch/nn/modules/module.py?line=1516'>1517</a>\u001b[0m \u001b[39melse\u001b[39;00m:\n\u001b[0;32m-> <a href='file:///Users/maxfeucht/anaconda3/envs/PRL/lib/python3.11/site-packages/torch/nn/modules/module.py?line=1517'>1518</a>\u001b[0m     \u001b[39mreturn\u001b[39;00m \u001b[39mself\u001b[39;49m\u001b[39m.\u001b[39;49m_call_impl(\u001b[39m*\u001b[39;49margs, \u001b[39m*\u001b[39;49m\u001b[39m*\u001b[39;49mkwargs)\n",
      "File \u001b[0;32m~/anaconda3/envs/PRL/lib/python3.11/site-packages/torch/nn/modules/module.py:1527\u001b[0m, in \u001b[0;36mModule._call_impl\u001b[0;34m(self, *args, **kwargs)\u001b[0m\n\u001b[1;32m   <a href='file:///Users/maxfeucht/anaconda3/envs/PRL/lib/python3.11/site-packages/torch/nn/modules/module.py?line=1521'>1522</a>\u001b[0m \u001b[39m# If we don't have any hooks, we want to skip the rest of the logic in\u001b[39;00m\n\u001b[1;32m   <a href='file:///Users/maxfeucht/anaconda3/envs/PRL/lib/python3.11/site-packages/torch/nn/modules/module.py?line=1522'>1523</a>\u001b[0m \u001b[39m# this function, and just call forward.\u001b[39;00m\n\u001b[1;32m   <a href='file:///Users/maxfeucht/anaconda3/envs/PRL/lib/python3.11/site-packages/torch/nn/modules/module.py?line=1523'>1524</a>\u001b[0m \u001b[39mif\u001b[39;00m \u001b[39mnot\u001b[39;00m (\u001b[39mself\u001b[39m\u001b[39m.\u001b[39m_backward_hooks \u001b[39mor\u001b[39;00m \u001b[39mself\u001b[39m\u001b[39m.\u001b[39m_backward_pre_hooks \u001b[39mor\u001b[39;00m \u001b[39mself\u001b[39m\u001b[39m.\u001b[39m_forward_hooks \u001b[39mor\u001b[39;00m \u001b[39mself\u001b[39m\u001b[39m.\u001b[39m_forward_pre_hooks\n\u001b[1;32m   <a href='file:///Users/maxfeucht/anaconda3/envs/PRL/lib/python3.11/site-packages/torch/nn/modules/module.py?line=1524'>1525</a>\u001b[0m         \u001b[39mor\u001b[39;00m _global_backward_pre_hooks \u001b[39mor\u001b[39;00m _global_backward_hooks\n\u001b[1;32m   <a href='file:///Users/maxfeucht/anaconda3/envs/PRL/lib/python3.11/site-packages/torch/nn/modules/module.py?line=1525'>1526</a>\u001b[0m         \u001b[39mor\u001b[39;00m _global_forward_hooks \u001b[39mor\u001b[39;00m _global_forward_pre_hooks):\n\u001b[0;32m-> <a href='file:///Users/maxfeucht/anaconda3/envs/PRL/lib/python3.11/site-packages/torch/nn/modules/module.py?line=1526'>1527</a>\u001b[0m     \u001b[39mreturn\u001b[39;00m forward_call(\u001b[39m*\u001b[39;49margs, \u001b[39m*\u001b[39;49m\u001b[39m*\u001b[39;49mkwargs)\n\u001b[1;32m   <a href='file:///Users/maxfeucht/anaconda3/envs/PRL/lib/python3.11/site-packages/torch/nn/modules/module.py?line=1528'>1529</a>\u001b[0m \u001b[39mtry\u001b[39;00m:\n\u001b[1;32m   <a href='file:///Users/maxfeucht/anaconda3/envs/PRL/lib/python3.11/site-packages/torch/nn/modules/module.py?line=1529'>1530</a>\u001b[0m     result \u001b[39m=\u001b[39m \u001b[39mNone\u001b[39;00m\n",
      "\u001b[0;31mKeyboardInterrupt\u001b[0m: "
     ]
    }
   ],
   "source": [
    "for gamma in (0.94, 0.95, 0.96):\n",
    "    for num_layers in (5,6):\n",
    "        print(f'\\n\\n Layers: {num_layers}, Gamma: {gamma}')\n",
    "\n",
    "        seed = 2705\n",
    "        rep = 2000000\n",
    "        batch_size = 32\n",
    "        #gamma = 0.96\n",
    "        epsilon = 1.0\n",
    "        epsilon_decay = 99999\n",
    "        epsilon_min = 0.1\n",
    "        learning_rate = 5e-5\n",
    "        price_horizon = 48\n",
    "        future_horizon = 0\n",
    "        hidden_dim = 96\n",
    "        #num_layers = 5\n",
    "        positions = False\n",
    "        action_classes = 3\n",
    "        reward_shaping = True\n",
    "        factor = 1\n",
    "        verbose = False\n",
    "        TRAIN = True\n",
    "        df = train_name\n",
    "\n",
    "\n",
    "\n",
    "        if TRAIN:\n",
    "\n",
    "            # Initialize Environment\n",
    "            env = Electric_Car(path_to_test_data=df)\n",
    "\n",
    "\n",
    "            #Initialize DQN\n",
    "            agent = DDQNAgent(env = env,\n",
    "                            features = features_train,\n",
    "                            epsilon_decay = epsilon_decay,\n",
    "                            epsilon_start = epsilon,\n",
    "                            epsilon_end = epsilon_min,\n",
    "                            discount_rate = gamma,\n",
    "                            lr = learning_rate,\n",
    "                            buffer_size = 100000,\n",
    "                            price_horizon = price_horizon,\n",
    "                            hidden_dim=hidden_dim,\n",
    "                            num_layers = num_layers,\n",
    "                            positions = positions,\n",
    "                            action_classes = action_classes, \n",
    "                            verbose = verbose)\n",
    "\n",
    "            obs, r, terminated, _, _ = env.step(random.randint(-1,1)) # Reset environment and get initial observation\n",
    "            state, grads = agent.obs_to_state(obs)\n",
    "\n",
    "            \n",
    "            episode_balance = 0\n",
    "            episode_loss = 0\n",
    "            episode_counter = 0\n",
    "            episode_reward = 0\n",
    "\n",
    "            with tqdm(total=rep) as pbar:\n",
    "                for i in range(rep):\n",
    "\n",
    "                    action = agent.choose_action(i, state, greedy = False) # Choose action (discrete)\n",
    "                    cont_action = agent.action_to_cont(action) # Convert to continuous action\n",
    "                    \n",
    "                    new_obs, r, t, _, _ = env.step(cont_action)\n",
    "                    new_state, new_grads = agent.obs_to_state(new_obs)\n",
    "                    \n",
    "                    # Reward Shaping            \n",
    "                    new_reward = agent.shape_reward(r, cont_action, grads, apply = reward_shaping, factor = factor)\n",
    "\n",
    "                    # Fill replay buffer - THIS IS THE ONLY THING WE DO WITH THE CURRENT OBSERVATION - LEARNING IS FULLY PERFORMED FROM THE REPLAY BUFFER\n",
    "                    if state.shape[0] == agent.state_dim and new_state.shape[0] == agent.state_dim:\n",
    "                        agent.replay_memory.add_data((state, action, new_reward, t, new_state))\n",
    "\n",
    "                    #Update DQN\n",
    "                    loss = agent.optimize(batch_size)\n",
    "                    \n",
    "                    # Update values\n",
    "                    episode_balance += r\n",
    "                    episode_reward += r\n",
    "                    episode_loss += loss\n",
    "\n",
    "                    # New observation\n",
    "                    state = new_state\n",
    "                    grads = new_grads # Gradients for reward shaping\n",
    "                    \n",
    "                    pbar.update(1)\n",
    "\n",
    "                    if t:\n",
    "                        # Reset Environment\n",
    "                        env.counter = 0\n",
    "                        env.hour = 1\n",
    "                        env.day = 1\n",
    "                        episode_counter += 1\n",
    "                        print('Episode ', episode_counter, 'Balance: ', episode_balance, 'Reward: ', episode_reward, 'Loss: ', episode_loss) # Add both balance and reward to see how training objective and actually spent money differ\n",
    "                        episode_loss = 0\n",
    "                        episode_balance = 0\n",
    "                        episode_reward = 0\n",
    "                        \n",
    "                        \n",
    "                        if episode_counter % 4 == 0:\n",
    "                            # Evaluate DQN\n",
    "                            train_dqn = DDQNEvaluation(price_horizon = price_horizon)\n",
    "                            train_dqn.evaluate(agent = agent)\n",
    "                            \n",
    "                            # Reset Environment\n",
    "                            env.counter = 0\n",
    "                            env.hour = 1\n",
    "                            env.day = 1\n",
    "                            \n",
    "\n",
    "            # Save agent\n",
    "            torch.save(agent.dqn_predict.state_dict(), f'models/agent_layers{num_layers}_gamma{gamma}.pt')\n",
    "            pbar.close"
   ]
  }
 ],
 "metadata": {
  "kernelspec": {
   "display_name": "PRL",
   "language": "python",
   "name": "python3"
  },
  "language_info": {
   "name": "python",
   "version": "3.11.0"
  }
 },
 "nbformat": 4,
 "nbformat_minor": 2
}

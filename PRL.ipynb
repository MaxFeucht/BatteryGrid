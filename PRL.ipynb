{
 "cells": [
  {
   "cell_type": "markdown",
   "metadata": {},
   "source": [
    "## Project Reinforcement Learning \n",
    "\n",
    "Group 7 - Willem Huijzer, Joris Holshuijsen, Max Feucht\n"
   ]
  },
  {
   "cell_type": "code",
   "execution_count": 1,
   "metadata": {},
   "outputs": [],
   "source": [
    "import gymnasium as gym\n",
    "from gymnasium import spaces\n",
    "import numpy as np\n",
    "import time\n",
    "import matplotlib.pyplot as plt\n",
    "import torch \n",
    "import torch.nn as nn\n",
    "import torch.optim as optim\n",
    "import torch.nn.functional as F\n",
    "import random\n",
    "from collections import deque\n",
    "from mpl_toolkits import mplot3d\n",
    "from matplotlib import cm\n",
    "import pandas as pd\n",
    "import seaborn as sns\n",
    "from tqdm import tqdm"
   ]
  },
  {
   "cell_type": "markdown",
   "metadata": {},
   "source": [
    "### Setting up the environment:\n",
    "\n",
    "- 50kWh of usable capacity \n",
    "- 90% efficiency of the battery (both ways)\n",
    "- The maximum power available is 25kW (both ways - pertains to charging and discharging. One hour, we charge and discharge 25kWh) \n",
    "- Prices are in MWh! --> Rescale\n",
    "- Electricity is sold at the spot market price\n",
    "- Electricity is bought at twice the price to pay for the transmission costs and various taxes.\n",
    "- Only data up to the current time step available\n",
    "- Day: 8am to 6pm\n",
    "- Night: 6pm - 8am\n",
    "- 50% of days, car is not available during the day and returns with 20kWh less\n",
    "- Minimum capacity at 8am: 20kWh (if charge < 20kwH, charge from 7am to 8am)\n",
    "\n",
    "\n",
    "### Open Questions:\n",
    "\n",
    "- Intensity at which to sell or buy (Always 25kW, does it make sense to sell / buy less over a longer period of time)\n",
    "- What reward to give when trying to charge / sell during the day when car is absent. Do we give a penalty for even trying or do we let it do whatever it wants?"
   ]
  },
  {
   "cell_type": "code",
   "execution_count": 2,
   "metadata": {},
   "outputs": [],
   "source": [
    "# Load Data\n",
    "\n",
    "def elongate(df):\n",
    "    df_long = pd.wide_to_long(df, i = \"PRICES\", j = \"hour\", stubnames=[\"Hour\"], sep = \" \").reset_index()\n",
    "    df_long.rename(columns={\"Hour\": \"price\", \"PRICES\": \"date\"}, inplace = True)\n",
    "    df_long['datetime'] = pd.to_datetime(df_long['date']) + pd.to_timedelta(df_long['hour'], unit='h')\n",
    "    df_long.sort_values(['datetime'], ascending=[True], inplace=True)\n",
    "    df_long['price'] = df_long['price'].astype(float) / 1000 # Convert price per MWh to price per KWh\n",
    "    return df_long\n",
    "\n",
    "train = elongate(pd.read_excel('data/train.xlsx'))\n",
    "val = elongate(pd.read_excel('data/validate.xlsx'))\n"
   ]
  },
  {
   "cell_type": "code",
   "execution_count": 6,
   "metadata": {},
   "outputs": [
    {
     "name": "stderr",
     "output_type": "stream",
     "text": [
      "/Users/maxfeucht/anaconda3/envs/PRL/lib/python3.11/site-packages/gymnasium/core.py:311: UserWarning: \u001b[33mWARN: env.setup to get variables from other wrappers is deprecated and will be removed in v1.0, to get this variable you can do `env.unwrapped.setup` for environment variables or `env.get_wrapper_attr('setup')` that will search the reminding wrappers.\u001b[0m\n",
      "  logger.warn(\n"
     ]
    }
   ],
   "source": [
    "import gym_env\n",
    "env = gym.make('gym_env/BatteryGrid-v0')\n",
    "env.setup(train, price_horizon=24)"
   ]
  },
  {
   "cell_type": "code",
   "execution_count": 7,
   "metadata": {},
   "outputs": [],
   "source": [
    "class PriceIteration():\n",
    "    \n",
    "    def __init__(self, df, env, low_quantile = 0.25, high_quantile = 0.75, price_horizon = 96, verbose = False):\n",
    "        self.df = df\n",
    "        self.env = env\n",
    "        self.low_quantile = low_quantile\n",
    "        self.high_quantile = high_quantile\n",
    "        self.price_horizon = price_horizon\n",
    "        self.verbose = verbose\n",
    "        \n",
    "        \n",
    "    \n",
    "    def rule_iteration(self, iterations = 1000):\n",
    "        \"\"\"\n",
    "        Iterate through data and take actions based on price quantiles as a function of the price horizon\n",
    "        \"\"\"\n",
    "        \n",
    "        self.data = self.df[:iterations]\n",
    "        self.prices = np.array(self.data['price'])\n",
    "\n",
    "        self.battery_charge = []\n",
    "        self.rewards = []\n",
    "\n",
    "        obs_dict = self.env.reset()        \n",
    "        o,r,t,tensor = self.env.step(0)\n",
    "\n",
    "        for i in range(len(self.data)):\n",
    "            \n",
    "            if o['prices'][-1] < np.quantile(o['prices'][-self.price_horizon:], self.low_quantile):\n",
    "                action = 0\n",
    "            elif o['prices'][-1] > np.quantile(o['prices'][-self.price_horizon:], self.low_quantile) and o['prices'][-1] < np.quantile(o['prices'][-self.price_horizon:], self.high_quantile):\n",
    "                action = 5\n",
    "            elif o['prices'][-1] >  np.quantile(o['prices'][-self.price_horizon:], self.high_quantile):\n",
    "                action = 10\n",
    "            else:\n",
    "                action = np.random.randint(0,3)\n",
    "            \n",
    "            self.battery_charge.append(o['battery'])\n",
    "            self.rewards.append(r)\n",
    "            \n",
    "            o,r,t,tensor = env.step(action)\n",
    "            \n",
    "            if t:\n",
    "                break\n",
    "        \n",
    "    \n",
    "    \n",
    "    def agent_iteration(self, iterations = 1000, agent = None):\n",
    "        \"\"\"Function to iterate through data and take actions based on agent policy\n",
    "\n",
    "        Args:\n",
    "            iterations (int, optional): _description_. Defaults to 1000.\n",
    "            agent (_type_, optional): _description_. Defaults to None.\n",
    "        \"\"\"\n",
    "        \n",
    "        assert agent is not None, \"Agent must be defined\"\n",
    "        \n",
    "        self.data = self.df[:iterations]\n",
    "        self.prices = np.array(self.data['price'])\n",
    "\n",
    "        self.battery_charge = []\n",
    "        self.rewards = []\n",
    "        self.actions = []\n",
    "\n",
    "        obs = env.reset()        \n",
    "\n",
    "        for i in range(len(self.data)):\n",
    "            \n",
    "            action = agent.choose_action(i, obs['tensor'], greedy = False)\n",
    "            new_obs,r,t,info = env.step(action)\n",
    "            \n",
    "            obs = new_obs\n",
    "            \n",
    "            self.actions.append(action)\n",
    "            self.battery_charge.append(obs['battery'])\n",
    "            self.rewards.append(r)\n",
    "                \n",
    "            if t:\n",
    "                break\n",
    "\n",
    "    \n",
    "    \n",
    "    def normalize(self, data):\n",
    "        \"\"\"\n",
    "        Helper function to normalize data\n",
    "        \"\"\"\n",
    "        return ((data - np.min(data)) / (np.max(data) - np.min(data)))\n",
    "    \n",
    "    \n",
    "    \n",
    "    def normalize_data(self):\n",
    "        \"\"\"\n",
    "        Normalizes data acquired from iteration\n",
    "        \"\"\"\n",
    "        \n",
    "        self.battery_charge = self.normalize(np.array(self.battery_charge))\n",
    "        self.rewards = self.normalize(np.array(self.rewards))\n",
    "        self.prices = self.normalize(np.array(self.data['price']))\n",
    "        self.cumulative_reward = self.normalize(np.cumsum(self.rewards))\n",
    "        \n",
    "        \n",
    "        \n",
    "    def plot_all(self, cum = False, normalize = True):\n",
    "        \n",
    "        \"\"\" \n",
    "        Plots battery charge, reward, price, and cumulative reward (if cum = True) in one combined plot\n",
    "        \"\"\"\n",
    "        \n",
    "        plt.figure(figsize=(15,5))\n",
    "        \n",
    "        vars = [self.battery_charge, self.rewards, self.prices]\n",
    "        var_names = ['Battery Charge', 'Reward', 'Price']\n",
    "        \n",
    "        if cum: \n",
    "            self.cumulative_reward = np.cumsum(self.rewards)\n",
    "            vars.append(self.cumulative_reward)\n",
    "            var_names.append('Cumulative Reward')\n",
    "            \n",
    "        for var in vars:\n",
    "            if normalize:\n",
    "                var = self.normalize(np.array(var))\n",
    "            plt.plot(self.data['datetime'], var)\n",
    "            \n",
    "        plt.xticks(rotation=45)\n",
    "        plt.legend(var_names)\n",
    "        plt.show()\n",
    "        \n",
    "        \n",
    "    def plot_single(self, normalize = True):\n",
    "            \n",
    "        \"\"\" \n",
    "        Plots battery charge, reward, price, and cumulative reward in single subplots\n",
    "        \"\"\"\n",
    "\n",
    "        plt.figure(figsize=(15,10))\n",
    "        self.cumulative_reward = np.cumsum(self.rewards)\n",
    "        vars = [self.battery_charge, self.rewards, self.prices, self.cumulative_reward]\n",
    "        var_names = ['Battery Charge', 'Reward', 'Price', 'Cumulative Reward']\n",
    "        cols = ['blue', 'red', 'green', 'orange']\n",
    "        \n",
    "        for i, var in enumerate(vars):\n",
    "            if normalize:\n",
    "                var = self.normalize(np.array(var))\n",
    "            plt.subplot(2,2,i+1)\n",
    "            plt.plot(self.data['datetime'], var, color = cols[i])\n",
    "            plt.title(var_names[i])\n",
    "            plt.xticks(rotation=45)\n",
    "            \n",
    "            \n",
    "        plt.show()\n",
    "        \n",
    "        \n",
    "            \n",
    "        "
   ]
  },
  {
   "cell_type": "code",
   "execution_count": 9,
   "metadata": {},
   "outputs": [],
   "source": [
    "iterator = PriceIteration(train, env)\n",
    "iterator.rule_iteration(iterations = 10000)\n",
    "iterator.plot_single(normalize=False)#"
   ]
  },
  {
   "cell_type": "code",
   "execution_count": null,
   "metadata": {},
   "outputs": [],
   "source": [
    "## Questions for RL approach: \n",
    "\n",
    "# What is the state space? How far back do we need to look? Idea for now: For the first 96 time steps (4 days), we do nothing, until we gathered enough prices to make a decision. (Note: We will charge anyway ) Then, we look at the last 96 time steps and let the algorithm derive a strategy to act optimally based on that.\n",
    "# Do we fill our replay buffer with random actions in the beginning?\n",
    "# How do we handle the continous action space to update the output? We need to choose the max next action, but we can't do that with a continous action space. Think and inform about that. For now, we will use a discrete action space, evenly spaced.\n",
    "# Important Decision: When and how do we normalize? Do we normalize once in the beginning, or do we normlaize every price history window separately? By doing so, we deprive the model of a \"global\" sense of price, although that might not be detrimental, as the price is mostly locally relevant. "
   ]
  },
  {
   "cell_type": "code",
   "execution_count": null,
   "metadata": {},
   "outputs": [],
   "source": [
    "class DQN(nn.Module):\n",
    "    \n",
    "    def __init__(self, env, learning_rate, price_horizon = 96):\n",
    "        \n",
    "        '''\n",
    "        Params:\n",
    "        env = environment that the agent needs to play\n",
    "        learning_rate = learning rate used in the update\n",
    "        '''\n",
    "        \n",
    "        super(DQN,self).__init__()\n",
    "        input_features = price_horizon + 1 + 1 + 1 + 1 #battery charge, price, presence, day, hour\n",
    "        \n",
    "        #Solution:\n",
    "        self.linear1 = nn.Linear(input_features, 64)\n",
    "        self.linear2 = nn.Linear(64, 64)\n",
    "        self.linear3 = nn.Linear(64, 32)\n",
    "        self.linear4 = nn.Linear(32, 11)\n",
    "        \n",
    "        self.leakyReLU = nn.LeakyReLU()\n",
    "        self.sigmoid = nn.Sigmoid()\n",
    "        self.softmax = nn.Softmax()\n",
    "        \n",
    "        #Here we use ADAM, but you could also think of other algorithms such as RMSprob\n",
    "        self.optimizer = optim.Adam(self.parameters(), lr = learning_rate)\n",
    "    \n",
    "    \n",
    "    \n",
    "    def forward(self, x):\n",
    "        \n",
    "        '''\n",
    "        Params:\n",
    "        x = observation\n",
    "        '''\n",
    "        \n",
    "        '''\n",
    "        ToDo: \n",
    "        Write the forward pass! You can use any activation function that you want (ReLU, tanh)...\n",
    "        Important: We want to output a linear activation function as we need the q-values associated with each action\n",
    "    \n",
    "        '''\n",
    "        \n",
    "        #Solution:\n",
    "        x = self.leakyReLU(self.linear1(x))\n",
    "        x = self.leakyReLU(self.linear2(x))\n",
    "        x = self.leakyReLU(self.linear3(x))\n",
    "        x = self.softmax(self.linear4(x)) # Softmax to get a probability distribution over the actions\n",
    "        \n",
    "        return x\n",
    "\n",
    "\n",
    "\n",
    "\n",
    "class ExperienceReplay:\n",
    "    \n",
    "    def __init__(self, env, buffer_size, min_replay_size = 1000, seed = 123):\n",
    "        \n",
    "        '''\n",
    "        Params:\n",
    "        env = environment that the agent needs to play\n",
    "        buffer_size = max number of transitions that the experience replay buffer can store\n",
    "        min_replay_size = min number of (random) transitions that the replay buffer needs to have when initialized\n",
    "        seed = seed for random number generator for reproducibility\n",
    "        '''\n",
    "        \n",
    "        self.env = env\n",
    "        self.min_replay_size = min_replay_size\n",
    "        self.replay_buffer = deque(maxlen=buffer_size)\n",
    "        self.device = torch.device('cuda' if torch.cuda.is_available() else 'cpu')\n",
    "        \n",
    "        \n",
    "        #Initialize replay buffer with random transitions                \n",
    "        obs = self.env.reset(seed=seed)\n",
    "        \n",
    "        for _ in range(self.min_replay_size):\n",
    "            \n",
    "            action = env.action_space.sample()\n",
    "            new_obs,r,terminated,info = env.step(action)\n",
    "\n",
    "            transition = (obs['tensor'], action, r, terminated, new_obs['tensor'])\n",
    "            self.replay_buffer.append(transition)\n",
    "            obs = new_obs\n",
    "    \n",
    "            if terminated:\n",
    "                obs = env.reset(seed=seed)\n",
    "              \n",
    "          \n",
    "    def add_data(self, data): \n",
    "        '''\n",
    "        Params:\n",
    "        data = relevant data of a transition, i.e. action, new_obs, reward, done\n",
    "        '''\n",
    "        self.replay_buffer.append(data)\n",
    "\n",
    "\n",
    "    def sample(self, batch_size):\n",
    "        \n",
    "        '''\n",
    "        Params:\n",
    "        batch_size = number of transitions that will be sampled\n",
    "        \n",
    "        Returns:\n",
    "        tensor of observations, actions, rewards, dones (boolean) and new_observations \n",
    "        '''\n",
    "        \n",
    "        transitions = random.sample(self.replay_buffer, batch_size)\n",
    "        \n",
    "        observations = np.asarray([t[0] for t in transitions])\n",
    "        actions = np.asarray([t[1] for t in transitions])\n",
    "        rewards = np.asarray([t[2] for t in transitions])\n",
    "        dones = np.asarray([t[3] for t in transitions])\n",
    "        new_observations = np.asarray([t[4] for t in transitions])\n",
    "        \n",
    "        #PyTorch needs these arrays as tensors!, don't forget to specify the device! (cpu/GPU) \n",
    "        observations_t = torch.as_tensor(observations, dtype = torch.float32, device=self.device)\n",
    "        actions_t = torch.as_tensor(actions, dtype = torch.int64, device=self.device).unsqueeze(-1)\n",
    "        rewards_t = torch.as_tensor(rewards, dtype = torch.float32, device=self.device).unsqueeze(-1)\n",
    "        terminated_t = torch.as_tensor(dones, dtype = torch.float32, device=self.device).unsqueeze(-1)\n",
    "        new_observations_t = torch.as_tensor(new_observations, dtype = torch.float32, device=self.device)\n",
    "        \n",
    "        return observations_t, actions_t, rewards_t, terminated_t, new_observations_t\n",
    "    \n"
   ]
  },
  {
   "cell_type": "code",
   "execution_count": null,
   "metadata": {},
   "outputs": [],
   "source": [
    "class DDQNAgent:\n",
    "    \n",
    "    def __init__(self, env_name, df, device, epsilon_decay, \n",
    "                 epsilon_start, epsilon_end, discount_rate, lr, buffer_size, price_horizon = 96, seed = 123):\n",
    "        \"\"\"\n",
    "        Params:\n",
    "        env = environment that the agent needs to play\n",
    "        device = set up to run CUDA operations\n",
    "        epsilon_decay = Decay period until epsilon start -> epsilon end\n",
    "        epsilon_start = starting value for the epsilon value\n",
    "        epsilon_end = ending value for the epsilon value\n",
    "        discount_rate = discount rate for future rewards\n",
    "        lr = learning rate\n",
    "        buffer_size = max number of transitions that the experience replay buffer can store\n",
    "        seed = seed for random number generator for reproducibility\n",
    "        \"\"\"\n",
    "        \n",
    "        self.env_name = env_name\n",
    "        self.env = gym.make(self.env_name)\n",
    "        self.env.setup(df, price_horizon = price_horizon)\n",
    "        self.device = device\n",
    "        self.epsilon_decay = epsilon_decay\n",
    "        self.epsilon_start = epsilon_start\n",
    "        self.epsilon_end = epsilon_end\n",
    "        self.discount_rate = discount_rate\n",
    "        self.learning_rate = lr\n",
    "        self.buffer_size = buffer_size\n",
    "        \n",
    "        #self.replay_memory = ExperienceReplay(self.env, self.buffer_size, seed = seed)\n",
    "        self.index = 0\n",
    "        self.dqn_predict = DQN(self.env, self.learning_rate, price_horizon=price_horizon).to(self.device)\n",
    "        self.dqn_target = DQN(self.env, self.learning_rate, price_horizon=price_horizon).to(self.device)\n",
    "        self.replay_memory = ExperienceReplay(self.env, self.buffer_size, seed = seed)\n",
    "        \n",
    "        \n",
    "        \n",
    "    def choose_action(self, step, observation, greedy = False):\n",
    "        \n",
    "        \"\"\"Function to choose an action based on the epsilon-greedy policy\n",
    "\n",
    "        Input:\n",
    "            step: current iteration step for epsilon decay\n",
    "            observation: current observation\n",
    "            greedy: boolean that indicates whether the action should be chosen greedily or not\n",
    "        \n",
    "        Returns:\n",
    "            action: action that the agent takes\n",
    "        \"\"\"\n",
    "        \n",
    "        epsilon = np.interp(step, [0, self.epsilon_decay], [self.epsilon_start, self.epsilon_end])\n",
    "\n",
    "        random_sample = random.random()\n",
    "    \n",
    "        if (random_sample <= epsilon) and not greedy:\n",
    "            action = self.env.action_space.sample()\n",
    "        \n",
    "        else:\n",
    "            #Greedy action\n",
    "            obs_t = torch.as_tensor(observation, dtype = torch.float32, device=self.device)\n",
    "            q_values = self.dqn_predict(obs_t)\n",
    "        \n",
    "            #max_q_index = torch.argmax(q_values, dim = 1)[0]\n",
    "            max_q_index = torch.argmax(q_values)\n",
    "    \n",
    "            action = max_q_index.detach().item()\n",
    "        \n",
    "        return action\n",
    "    \n",
    "    \n",
    "    \n",
    "    def tensorize(self, obs, new_obs, action, reward, done):\n",
    "\n",
    "        obs_t = torch.as_tensor(obs, dtype = torch.float32, device=self.device)\n",
    "        new_obs_t = torch.as_tensor(new_obs, dtype = torch.float32, device=self.device)\n",
    "        action_t = torch.as_tensor(action, dtype = torch.long, device=self.device)\n",
    "        reward_t = torch.as_tensor(reward, dtype = torch.float32, device=self.device)\n",
    "        done_t = torch.as_tensor(done, dtype = torch.float32, device=self.device)\n",
    "        \n",
    "        return obs_t, new_obs_t, action_t, reward_t, done_t\n",
    "\n",
    "\n",
    "\n",
    "    def DQNstep(self):\n",
    "        \"\"\"\n",
    "        Function that switches the DQN from the predictDQN to the targetDQN after 1000 steps\n",
    "        \"\"\"\n",
    "        self.index += 1\n",
    "        \n",
    "        if self.index == 1000:\n",
    "            self.dqn_target.load_state_dict(self.dqn_predict.state_dict())\n",
    "            self.index = 0\n",
    "        \n",
    "        \n",
    "    def optimize(self, batch_size):\n",
    "            \n",
    "        \"\"\"\n",
    "        Function that optimizes the DQN based on predicted q-values for the present and the next state, along with the reward received\n",
    "        \n",
    "        Params: \n",
    "        new_obs = new observation\n",
    "        obs = old observation\n",
    "        action = action taken\n",
    "        reward = reward received\n",
    "        done = boolean that indicates whether the episode is done or not\n",
    "        \n",
    "        Returns:\n",
    "        loss = loss of the DQN\n",
    "        \"\"\"\n",
    "        \n",
    "        # Sample from replay buffer\n",
    "        \n",
    "        obs, actions, rewards, terminateds, new_obs = self.replay_memory.sample(batch_size)\n",
    "        #obs_t, new_obs_t, action_t, reward_t, done_t = self.tensorize(obs, new_obs, action, reward, done)\n",
    "\n",
    "        # Compute Loss: \n",
    "        # First compute DQN output for current state        \n",
    "        q_values = self.dqn_predict(obs) #Predict q-values for the current state\n",
    "        action_q_values = torch.gather(input=q_values, dim=1, index=actions) # Select the q-value for the action that was taken\n",
    "        \n",
    "        # Then: Compute DQN output for next state, and build the targets based on reward and the max q-value of the next state \n",
    "        target_q_values = self.dqn_target(new_obs) # Predict q-values for the next state\n",
    "        max_target_q_values = target_q_values.max(dim=1, keepdim=True)[0] # Select the max q-value of the next state\n",
    "        targets = rewards + self.discount_rate * (1-terminateds) * max_target_q_values # Compute the target q-value based on the reward and the max q-value of the next state\n",
    "        \n",
    "        #Loss\n",
    "        loss = F.smooth_l1_loss(action_q_values, targets.detach()) #Compute the loss between the predicted q-value for the action taken and the target q-value based on the next observation\n",
    "        \n",
    "        #Gradient descent\n",
    "        self.dqn_predict.optimizer.zero_grad()\n",
    "        loss.backward()\n",
    "        self.dqn_predict.optimizer.step()\n",
    "        \n",
    "        #Switch DQN step\n",
    "        self.DQNstep()\n",
    "        \n",
    "        return loss.item()"
   ]
  },
  {
   "cell_type": "code",
   "execution_count": null,
   "metadata": {},
   "outputs": [],
   "source": [
    "def train_DQN(rep = 1000, batch_size = 32, gamma = 0.99, epsilon = 1, epsilon_decay = 0.999, epsilon_min = 0.01, learning_rate = 0.00001, price_horizon = 96, verbose = True):\n",
    "\n",
    "    \"\"\"\n",
    "    Iterate through data and take actions based on DQN predictions, and update DQN based on rewards and next state Q values\n",
    "    \"\"\"\n",
    "    \n",
    "    #Initialize DQN\n",
    "    agent = DDQNAgent(env_name = 'gym_env/BatteryGrid-v0', device = 'cpu', epsilon_decay = epsilon_decay, epsilon_start = epsilon, epsilon_end = epsilon_min, discount_rate = gamma, lr = learning_rate, buffer_size = 10000)\n",
    "        \n",
    "    obs = env.reset()\n",
    "\n",
    "    episode_reward = 0\n",
    "    episode_loss = 0\n",
    "    \n",
    "    for i in range(rep):\n",
    "        \n",
    "        action = agent.choose_action(i, obs, greedy = True)\n",
    "        new_obs,r,t,info = env.step(action)\n",
    "        episode_reward += r\n",
    "        \n",
    "        #Update DQN\n",
    "        loss = agent.optimize(obs, new_obs, action, r, t)\n",
    "        episode_loss += loss\n",
    "        \n",
    "        obs = new_obs\n",
    "        \n",
    "        if t:\n",
    "            obs = env.reset()\n",
    "            \n",
    "            if i % 100 == 0 and verbose:\n",
    "                print('Episode: ', i, 'Reward: ', episode_reward, 'Loss: ', episode_loss)\n",
    "            "
   ]
  },
  {
   "cell_type": "code",
   "execution_count": null,
   "metadata": {},
   "outputs": [
    {
     "name": "stderr",
     "output_type": "stream",
     "text": [
      "  3%|▎         | 26350/1000000 [00:48<42:47, 379.17it/s]"
     ]
    },
    {
     "name": "stdout",
     "output_type": "stream",
     "text": [
      "Episode  1 Reward:  -9559.769310999984 Loss:  8736.36204993911\n"
     ]
    },
    {
     "name": "stderr",
     "output_type": "stream",
     "text": [
      "  5%|▌         | 52703/1000000 [01:39<27:30, 573.84it/s]"
     ]
    },
    {
     "name": "stdout",
     "output_type": "stream",
     "text": [
      "Episode  2 Reward:  -6876.578216500009 Loss:  5888.218516291585\n"
     ]
    },
    {
     "name": "stderr",
     "output_type": "stream",
     "text": [
      "  8%|▊         | 78970/1000000 [02:29<27:20, 561.52it/s]  "
     ]
    },
    {
     "name": "stdout",
     "output_type": "stream",
     "text": [
      "Episode  3 Reward:  -4022.6567149999983 Loss:  3438.8646205656696\n"
     ]
    },
    {
     "name": "stderr",
     "output_type": "stream",
     "text": [
      " 11%|█         | 105255/1000000 [03:20<30:00, 496.88it/s] "
     ]
    },
    {
     "name": "stdout",
     "output_type": "stream",
     "text": [
      "Episode  4 Reward:  -1404.4336830000013 Loss:  1345.2087363533465\n"
     ]
    },
    {
     "name": "stderr",
     "output_type": "stream",
     "text": [
      " 13%|█▎        | 131577/1000000 [04:13<33:17, 434.74it/s]"
     ]
    },
    {
     "name": "stdout",
     "output_type": "stream",
     "text": [
      "Episode  5 Reward:  -400.6047994999999 Loss:  328.2967273772065\n"
     ]
    },
    {
     "name": "stderr",
     "output_type": "stream",
     "text": [
      " 16%|█▌        | 157891/1000000 [05:05<30:28, 460.46it/s]"
     ]
    },
    {
     "name": "stdout",
     "output_type": "stream",
     "text": [
      "Episode  6 Reward:  -365.65949099999995 Loss:  238.86456030278032\n"
     ]
    },
    {
     "name": "stderr",
     "output_type": "stream",
     "text": [
      " 18%|█▊        | 184210/1000000 [05:55<28:29, 477.17it/s]"
     ]
    },
    {
     "name": "stdout",
     "output_type": "stream",
     "text": [
      "Episode  7 Reward:  -469.8946655000001 Loss:  315.21631040942793\n"
     ]
    },
    {
     "name": "stderr",
     "output_type": "stream",
     "text": [
      " 21%|██        | 210463/1000000 [06:48<33:59, 387.07it/s]"
     ]
    },
    {
     "name": "stdout",
     "output_type": "stream",
     "text": [
      "Episode  8 Reward:  -463.59646800000013 Loss:  309.1432818898038\n"
     ]
    },
    {
     "name": "stderr",
     "output_type": "stream",
     "text": [
      " 24%|██▎       | 236798/1000000 [07:55<35:53, 354.46it/s]  "
     ]
    },
    {
     "name": "stdout",
     "output_type": "stream",
     "text": [
      "Episode  9 Reward:  -467.64057999999955 Loss:  272.3477991504369\n"
     ]
    },
    {
     "name": "stderr",
     "output_type": "stream",
     "text": [
      " 26%|██▋       | 263142/1000000 [08:50<22:26, 547.05it/s]  "
     ]
    },
    {
     "name": "stdout",
     "output_type": "stream",
     "text": [
      "Episode  10 Reward:  -495.5571305000001 Loss:  295.81571022494427\n"
     ]
    },
    {
     "name": "stderr",
     "output_type": "stream",
     "text": [
      " 29%|██▉       | 289420/1000000 [09:40<24:00, 493.37it/s]"
     ]
    },
    {
     "name": "stdout",
     "output_type": "stream",
     "text": [
      "Episode  11 Reward:  -528.3339960000002 Loss:  359.4847894487093\n"
     ]
    },
    {
     "name": "stderr",
     "output_type": "stream",
     "text": [
      " 32%|███▏      | 315735/1000000 [10:38<24:10, 471.81it/s]"
     ]
    },
    {
     "name": "stdout",
     "output_type": "stream",
     "text": [
      "Episode  12 Reward:  -492.57845799999984 Loss:  358.6654878051313\n"
     ]
    },
    {
     "name": "stderr",
     "output_type": "stream",
     "text": [
      " 34%|███▍      | 342016/1000000 [11:30<23:10, 473.23it/s]"
     ]
    },
    {
     "name": "stdout",
     "output_type": "stream",
     "text": [
      "Episode  13 Reward:  -499.66053299999976 Loss:  335.22357968002234\n"
     ]
    },
    {
     "name": "stderr",
     "output_type": "stream",
     "text": [
      " 37%|███▋      | 368355/1000000 [12:14<16:56, 621.48it/s]"
     ]
    },
    {
     "name": "stdout",
     "output_type": "stream",
     "text": [
      "Episode  14 Reward:  -539.0800999999999 Loss:  341.4448852539872\n"
     ]
    },
    {
     "name": "stderr",
     "output_type": "stream",
     "text": [
      " 39%|███▉      | 394676/1000000 [12:58<16:00, 630.53it/s]"
     ]
    },
    {
     "name": "stdout",
     "output_type": "stream",
     "text": [
      "Episode  15 Reward:  -431.53201999999993 Loss:  275.5746827653684\n"
     ]
    },
    {
     "name": "stderr",
     "output_type": "stream",
     "text": [
      " 42%|████▏     | 420980/1000000 [13:42<15:19, 629.80it/s]"
     ]
    },
    {
     "name": "stdout",
     "output_type": "stream",
     "text": [
      "Episode  16 Reward:  -510.08080099999984 Loss:  320.63385851112525\n"
     ]
    },
    {
     "name": "stderr",
     "output_type": "stream",
     "text": [
      " 45%|████▍     | 447280/1000000 [14:24<14:32, 633.74it/s]"
     ]
    },
    {
     "name": "stdout",
     "output_type": "stream",
     "text": [
      "Episode  17 Reward:  -466.1778319999999 Loss:  319.09313320979436\n"
     ]
    },
    {
     "name": "stderr",
     "output_type": "stream",
     "text": [
      " 47%|████▋     | 473565/1000000 [15:08<14:54, 588.61it/s]"
     ]
    },
    {
     "name": "stdout",
     "output_type": "stream",
     "text": [
      "Episode  18 Reward:  -460.02772100000016 Loss:  300.55019070045\n"
     ]
    },
    {
     "name": "stderr",
     "output_type": "stream",
     "text": [
      " 50%|████▉     | 499834/1000000 [15:51<14:01, 594.24it/s]"
     ]
    },
    {
     "name": "stdout",
     "output_type": "stream",
     "text": [
      "Episode  19 Reward:  -491.5089780000001 Loss:  340.4625376262138\n"
     ]
    },
    {
     "name": "stderr",
     "output_type": "stream",
     "text": [
      " 53%|█████▎    | 526126/1000000 [16:33<13:41, 577.18it/s]"
     ]
    },
    {
     "name": "stdout",
     "output_type": "stream",
     "text": [
      "Episode  20 Reward:  -392.61285000000026 Loss:  245.0523765745238\n"
     ]
    },
    {
     "name": "stderr",
     "output_type": "stream",
     "text": [
      " 55%|█████▌    | 552476/1000000 [17:19<11:41, 637.91it/s]"
     ]
    },
    {
     "name": "stdout",
     "output_type": "stream",
     "text": [
      "Episode  21 Reward:  -525.9756415 Loss:  375.67357536977215\n"
     ]
    },
    {
     "name": "stderr",
     "output_type": "stream",
     "text": [
      " 58%|█████▊    | 578744/1000000 [18:02<16:24, 428.06it/s]"
     ]
    },
    {
     "name": "stdout",
     "output_type": "stream",
     "text": [
      "Episode  22 Reward:  -494.5820920000001 Loss:  374.4492812217668\n"
     ]
    },
    {
     "name": "stderr",
     "output_type": "stream",
     "text": [
      " 61%|██████    | 605100/1000000 [18:45<10:29, 627.25it/s]"
     ]
    },
    {
     "name": "stdout",
     "output_type": "stream",
     "text": [
      "Episode  23 Reward:  -457.2280149999998 Loss:  337.32023314249227\n"
     ]
    },
    {
     "name": "stderr",
     "output_type": "stream",
     "text": [
      " 63%|██████▎   | 631367/1000000 [19:28<09:35, 640.54it/s]"
     ]
    },
    {
     "name": "stdout",
     "output_type": "stream",
     "text": [
      "Episode  24 Reward:  -501.87907149999984 Loss:  302.7871609713152\n"
     ]
    },
    {
     "name": "stderr",
     "output_type": "stream",
     "text": [
      " 66%|██████▌   | 657690/1000000 [20:11<09:01, 632.43it/s]"
     ]
    },
    {
     "name": "stdout",
     "output_type": "stream",
     "text": [
      "Episode  25 Reward:  -371.0451499999999 Loss:  283.56565398138537\n"
     ]
    },
    {
     "name": "stderr",
     "output_type": "stream",
     "text": [
      " 68%|██████▊   | 684004/1000000 [20:53<08:15, 637.57it/s]"
     ]
    },
    {
     "name": "stdout",
     "output_type": "stream",
     "text": [
      "Episode  26 Reward:  -460.18010600000036 Loss:  320.3780363098781\n"
     ]
    },
    {
     "name": "stderr",
     "output_type": "stream",
     "text": [
      " 71%|███████   | 710316/1000000 [21:37<08:19, 580.13it/s]"
     ]
    },
    {
     "name": "stdout",
     "output_type": "stream",
     "text": [
      "Episode  27 Reward:  -447.3585044999999 Loss:  301.2472999333504\n"
     ]
    },
    {
     "name": "stderr",
     "output_type": "stream",
     "text": [
      " 74%|███████▎  | 736622/1000000 [22:22<06:54, 634.89it/s]"
     ]
    },
    {
     "name": "stdout",
     "output_type": "stream",
     "text": [
      "Episode  28 Reward:  -417.4964735 Loss:  271.664698521633\n"
     ]
    },
    {
     "name": "stderr",
     "output_type": "stream",
     "text": [
      " 76%|███████▋  | 762888/1000000 [23:06<06:16, 629.79it/s]"
     ]
    },
    {
     "name": "stdout",
     "output_type": "stream",
     "text": [
      "Episode  29 Reward:  -580.5083585000001 Loss:  396.3432770004915\n"
     ]
    },
    {
     "name": "stderr",
     "output_type": "stream",
     "text": [
      " 79%|███████▉  | 789234/1000000 [23:48<05:33, 632.23it/s]"
     ]
    },
    {
     "name": "stdout",
     "output_type": "stream",
     "text": [
      "Episode  30 Reward:  -429.3785605000004 Loss:  290.59701381361447\n"
     ]
    },
    {
     "name": "stderr",
     "output_type": "stream",
     "text": [
      " 82%|████████▏ | 815442/1000000 [24:31<06:15, 491.41it/s]"
     ]
    },
    {
     "name": "stdout",
     "output_type": "stream",
     "text": [
      "Episode  31 Reward:  -454.4756090000001 Loss:  291.109741428058\n"
     ]
    },
    {
     "name": "stderr",
     "output_type": "stream",
     "text": [
      " 84%|████████▍ | 841813/1000000 [25:14<05:12, 506.33it/s]"
     ]
    },
    {
     "name": "stdout",
     "output_type": "stream",
     "text": [
      "Episode  32 Reward:  -437.57871100000006 Loss:  303.79345394648317\n"
     ]
    },
    {
     "name": "stderr",
     "output_type": "stream",
     "text": [
      " 87%|████████▋ | 868099/1000000 [25:57<03:52, 568.01it/s]"
     ]
    },
    {
     "name": "stdout",
     "output_type": "stream",
     "text": [
      "Episode  33 Reward:  -568.3796450000001 Loss:  358.4553573256576\n"
     ]
    },
    {
     "name": "stderr",
     "output_type": "stream",
     "text": [
      " 89%|████████▉ | 894408/1000000 [26:41<02:46, 634.29it/s]"
     ]
    },
    {
     "name": "stdout",
     "output_type": "stream",
     "text": [
      "Episode  34 Reward:  -430.61708999999985 Loss:  266.89962739001203\n"
     ]
    },
    {
     "name": "stderr",
     "output_type": "stream",
     "text": [
      " 92%|█████████▏| 920743/1000000 [27:24<02:19, 570.04it/s]"
     ]
    },
    {
     "name": "stdout",
     "output_type": "stream",
     "text": [
      "Episode  35 Reward:  -530.7362354999997 Loss:  333.30109568415173\n"
     ]
    },
    {
     "name": "stderr",
     "output_type": "stream",
     "text": [
      " 95%|█████████▍| 947025/1000000 [28:10<01:29, 593.01it/s]"
     ]
    },
    {
     "name": "stdout",
     "output_type": "stream",
     "text": [
      "Episode  36 Reward:  -514.8698840000002 Loss:  386.6821177601205\n"
     ]
    },
    {
     "name": "stderr",
     "output_type": "stream",
     "text": [
      " 97%|█████████▋| 973357/1000000 [28:52<00:42, 626.48it/s]"
     ]
    },
    {
     "name": "stdout",
     "output_type": "stream",
     "text": [
      "Episode  37 Reward:  -480.41317799999996 Loss:  330.99543284290394\n"
     ]
    },
    {
     "name": "stderr",
     "output_type": "stream",
     "text": [
      "100%|█████████▉| 999657/1000000 [29:36<00:00, 635.30it/s]"
     ]
    },
    {
     "name": "stdout",
     "output_type": "stream",
     "text": [
      "Episode  38 Reward:  -489.1396440000007 Loss:  293.96960146133415\n"
     ]
    },
    {
     "name": "stderr",
     "output_type": "stream",
     "text": [
      "100%|██████████| 1000000/1000000 [29:36<00:00, 562.84it/s]\n"
     ]
    }
   ],
   "source": [
    "rep = 1000000\n",
    "batch_size = 32\n",
    "gamma = 0.99\n",
    "epsilon = 0.8\n",
    "epsilon_decay = 99999\n",
    "epsilon_min = 0.01\n",
    "learning_rate = 0.001\n",
    "price_horizon = 12\n",
    "verbose = True\n",
    "\n",
    "# Initialize Environment\n",
    "env.setup(train, price_horizon=price_horizon)\n",
    "\n",
    "#Initialize DQN\n",
    "agent = DDQNAgent(env_name = 'gym_env/BatteryGrid-v0', df = train, device = 'cpu', epsilon_decay = epsilon_decay, epsilon_start = epsilon, epsilon_end = epsilon_min, discount_rate = gamma, lr = learning_rate, buffer_size = 10000, price_horizon = price_horizon)\n",
    "    \n",
    "obs = env.reset()\n",
    "\n",
    "episode_reward = 0\n",
    "episode_loss = 0\n",
    "episode_counter = 0\n",
    "\n",
    "for i in tqdm(range(rep)):\n",
    "    \n",
    "    action = agent.choose_action(i, obs['tensor'], greedy = False)\n",
    "    new_obs,r,t,info = env.step(action)\n",
    "\n",
    "    # Fill replay buffer - THIS IS THE ONLY THING WE DO WITH THE CURRENT OBSERVATION - LEARNING IS FULLY PERFORMED FROM THE REPLAY BUFFER\n",
    "    agent.replay_memory.add_data((obs['tensor'], action, r, t, new_obs['tensor']))\n",
    "    \n",
    "    #Update DQN\n",
    "    loss = agent.optimize(batch_size)\n",
    "    \n",
    "    # Update values\n",
    "    episode_reward += r\n",
    "    episode_loss += loss\n",
    "    \n",
    "    # New observation\n",
    "    obs = new_obs\n",
    "    \n",
    "    if t:\n",
    "        obs = env.reset()\n",
    "        episode_counter += 1\n",
    "        print('Episode ', episode_counter, 'Reward: ', episode_reward, 'Loss: ', episode_loss)\n",
    "        episode_loss = 0\n",
    "        episode_reward = 0\n",
    "            "
   ]
  },
  {
   "cell_type": "code",
   "execution_count": null,
   "metadata": {},
   "outputs": [
    {
     "data": {
      "image/png": "[encoded data removed]",
      "text/plain": [
       "<Figure size 1500x1000 with 4 Axes>"
      ]
     },
     "metadata": {},
     "output_type": "display_data"
    }
   ],
   "source": [
    "iterator = PriceIteration(train, env)\n",
    "iterator.agent_iteration(agent = agent, iterations = 26000)\n",
    "iterator.plot_single(normalize=False)"
   ]
  },
  {
   "cell_type": "code",
   "execution_count": null,
   "metadata": {},
   "outputs": [],
   "source": [
    "# Reward Shaping:\n",
    "\n",
    "# when rewards are not sparse, a measure of the uncertainty on\n",
    "# the value function can be used to guide exploration.\n",
    "\n",
    "\n",
    "\n",
    "# Replay Buffer:\n",
    "\n",
    "# Problem: Our RL problem is a sequential one with a fixed starting point and a fixed order where to move. Does this affect the validity of s,a,r,s' for the replay buffer?\n"
   ]
  },
  {
   "cell_type": "code",
   "execution_count": null,
   "metadata": {},
   "outputs": [],
   "source": [
    "# Feature Engineering: \n",
    "\n",
    "# ⁠Gradient of curve \n",
    "# Value of to same date last year if available \n",
    "# ⁠Moving average on different scale\n",
    "# ⁠⁠Moving standard deviation  on different scales \n",
    "# ⁠⁠Season\n",
    "# ⁠Day of week\n",
    "# ⁠⁠Month\n",
    "# Average historic hourly price\n",
    "# Hardcoded price boundary (sell when price at previous timestep above threshold, buy when price at previous timestep is below threshold) - this can be a dynamic boundary (per month, per day, …) or a hard boundary \n"
   ]
  },
  {
   "cell_type": "code",
   "execution_count": null,
   "metadata": {},
   "outputs": [],
   "source": [
    "import torch\n",
    "import torch.nn as nn\n",
    "from torch.nn.utils import weight_norm\n",
    "import torch.optim as optim\n",
    "import pickle\n",
    "import pandas as pd\n",
    "import numpy as np\n",
    "import math\n",
    "from sklearn.metrics import f1_score\n",
    "import matplotlib.pyplot as plt\n",
    "\n",
    "\n",
    "class Chomp1d(nn.Module):\n",
    "    def __init__(self, chomp_size):\n",
    "        super(Chomp1d, self).__init__()\n",
    "        self.chomp_size = chomp_size\n",
    "\n",
    "    def forward(self, x):\n",
    "        return x[:, :, :-self.chomp_size].contiguous()\n",
    "\n",
    "\n",
    "class TemporalBlock(nn.Module):\n",
    "    def __init__(self, n_inputs, n_outputs, kernel_size, stride, dilation, padding, dropout=0.2):\n",
    "        super(TemporalBlock, self).__init__()\n",
    "        self.conv1 = weight_norm(nn.Conv1d(n_inputs, n_outputs, kernel_size,\n",
    "                                           stride=stride, padding=padding, dilation=dilation))\n",
    "        self.chomp1 = Chomp1d(padding)\n",
    "        self.relu1 = nn.ReLU()\n",
    "        self.dropout1 = nn.Dropout(dropout)\n",
    "\n",
    "        self.conv2 = weight_norm(nn.Conv1d(n_outputs, n_outputs, kernel_size,\n",
    "                                           stride=stride, padding=padding, dilation=dilation))\n",
    "        self.chomp2 = Chomp1d(padding)\n",
    "        self.relu2 = nn.ReLU()\n",
    "        self.dropout2 = nn.Dropout(dropout)\n",
    "\n",
    "        self.net = nn.Sequential(self.conv1, self.chomp1, self.relu1, self.dropout1,\n",
    "                                 self.conv2, self.chomp2, self.relu2, self.dropout2)\n",
    "        self.downsample = nn.Conv1d(n_inputs, n_outputs, 1) if n_inputs != n_outputs else None\n",
    "        self.relu = nn.ReLU()\n",
    "        self.init_weights()\n",
    "\n",
    "\n",
    "    def init_weights(self):\n",
    "        self.conv1.weight.data.normal_(0, 0.01)\n",
    "        self.conv2.weight.data.normal_(0, 0.01)\n",
    "        if self.downsample is not None:\n",
    "            self.downsample.weight.data.normal_(0, 0.01)\n",
    "\n",
    "\n",
    "    def forward(self, x):\n",
    "        out = self.net(x)\n",
    "        res = x if self.downsample is None else self.downsample(x)\n",
    "        return self.relu(out + res)\n",
    "\n",
    "\n",
    "class TemporalConvNet(nn.Module):\n",
    "    def __init__(self, num_inputs, num_channels, kernel_size=2, dropout=0.2):\n",
    "        super(TemporalConvNet, self).__init__()\n",
    "        layers = []\n",
    "        num_levels = len(num_channels) # num_channels is a list of the number of channels for each layer \n",
    "        for i in range(num_levels):\n",
    "            dilation_size = 2 ** i\n",
    "            in_channels = num_inputs if i == 0 else num_channels[i-1]\n",
    "            out_channels = num_channels[i]\n",
    "            layers += [TemporalBlock(in_channels, out_channels, kernel_size, stride=1, dilation=dilation_size,\n",
    "                                     padding=(kernel_size-1) * dilation_size, dropout=dropout)]\n",
    "        self.network = nn.Sequential(*layers)\n",
    "        \n",
    "    def forward(self, x):\n",
    "        return self.network(x)\n",
    "\n",
    "\n",
    "class TCNModel(nn.Module):\n",
    "    def __init__(self, seq_len, num_inputs, num_channels, kernel_size=2, dropout=0.2):\n",
    "        super(TCNModel, self).__init__()\n",
    "        self.tcn = TemporalConvNet(\n",
    "            num_inputs, num_channels, kernel_size=kernel_size, dropout=dropout)\n",
    "        self.dropout = nn.Dropout(dropout)\n",
    "        self.dense = nn.Linear(seq_len*num_channels[-1], 3)\n",
    "\n",
    "    def forward(self, x):\n",
    "        tcn_output = self.tcn(x).flatten(end_dim = -2).t() #Flatten over the features and timestep dimensions, preserve batch dimension\n",
    "        return self.dense(self.dropout(tcn_output))\n"
   ]
  },
  {
   "cell_type": "code",
   "execution_count": null,
   "metadata": {},
   "outputs": [],
   "source": [
    "plt.figure(figsize=(15,5))\n",
    "plt.plot(train['datetime'], train['price'])\n",
    "plt.xticks(rotation=45)\n",
    "plt.show()"
   ]
  }
 ],
 "metadata": {
  "kernelspec": {
   "display_name": "PRL",
   "language": "python",
   "name": "python3"
  },
  "language_info": {
   "codemirror_mode": {
    "name": "ipython",
    "version": 3
   },
   "file_extension": ".py",
   "mimetype": "text/x-python",
   "name": "python",
   "nbconvert_exporter": "python",
   "pygments_lexer": "ipython3",
   "version": "3.11.0"
  }
 },
 "nbformat": 4,
 "nbformat_minor": 2
}

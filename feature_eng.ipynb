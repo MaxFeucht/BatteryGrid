{
 "cells": [
  {
   "cell_type": "code",
   "execution_count": 2,
   "metadata": {},
   "outputs": [],
   "source": [
    "import pandas as pd\n",
    "import numpy as np\n",
    "\n",
    "def elongate(df):\n",
    "    df_long = pd.wide_to_long(df, i = \"PRICES\", j = \"hour\", stubnames=[\"Hour\"], sep = \" \").reset_index()\n",
    "    df_long.rename(columns={\"Hour\": \"price\", \"PRICES\": \"date\"}, inplace = True)\n",
    "    df_long['datetime'] = pd.to_datetime(df_long['date']) + pd.to_timedelta(df_long['hour'], unit='h')\n",
    "    df_long.sort_values(['datetime'], ascending=[True], inplace=True)\n",
    "    df_long['price'] = df_long['price'].astype(float) / 1000 # Convert price per MWh to price per KWh\n",
    "    return df_long\n",
    "\n",
    "train = elongate(pd.read_excel('data/train.xlsx'))\n",
    "val = elongate(pd.read_excel('data/validate.xlsx'))"
   ]
  },
  {
   "cell_type": "code",
   "execution_count": 19,
   "metadata": {},
   "outputs": [
    {
     "name": "stdout",
     "output_type": "stream",
     "text": [
      "            date  hour    price            datetime  fourier_freq_1  \\\n",
      "16439 2009-12-31    15  0.03300 2009-12-31 15:00:00        0.041667   \n",
      "17535 2009-12-31    16  0.02982 2009-12-31 16:00:00       -0.041667   \n",
      "18631 2009-12-31    17  0.03028 2009-12-31 17:00:00       -0.041667   \n",
      "19727 2009-12-31    18  0.04000 2009-12-31 18:00:00       -0.041667   \n",
      "20823 2009-12-31    19  0.04048 2009-12-31 19:00:00       -0.041667   \n",
      "21919 2009-12-31    20  0.03600 2009-12-31 20:00:00        0.041667   \n",
      "23015 2009-12-31    21  0.02900 2009-12-31 21:00:00       -0.041667   \n",
      "24111 2009-12-31    22  0.02482 2009-12-31 22:00:00        0.041667   \n",
      "25207 2009-12-31    23  0.03128 2009-12-31 23:00:00       -0.041667   \n",
      "26303 2009-12-31    24  0.03100 2010-01-01 00:00:00       -0.041667   \n",
      "\n",
      "       fourier_freq_2  fourier_freq_3  \n",
      "16439       -0.041667        0.013889  \n",
      "17535        0.041667        0.083333  \n",
      "18631        0.041667        0.083333  \n",
      "19727        0.041667        0.083333  \n",
      "20823        0.041667        0.083333  \n",
      "21919       -0.041667        0.083333  \n",
      "23015        0.041667        0.083333  \n",
      "24111       -0.041667        0.083333  \n",
      "25207        0.041667        0.083333  \n",
      "26303        0.041667       -0.083333  \n"
     ]
    }
   ],
   "source": [
    "### FOURIER TRANSFORM ###\n",
    "\n",
    "def fourier_top_freq(data, segment_size=72):\n",
    "    '''\n",
    "    Applies Fourier transform to segments of the 'price' data and extracts the top 3 frequencies.\n",
    "    \n",
    "    Parameters:\n",
    "    data (DataFrame): Input data.\n",
    "    segment_size (int): Number of data points in each segment for Fourier transform.\n",
    "    \n",
    "    Returns:\n",
    "    DataFrame: The input data with top 3 Fourier frequencies for each segment.\n",
    "    '''\n",
    "\n",
    "    # Create new columns for the top 3 fourier frequencies\n",
    "    for i in range(3):\n",
    "        data[f'fourier_freq_{i + 1}'] = np.nan\n",
    "\n",
    "    # For each range of data points, calculate the Fourier transform\n",
    "    for i in range(segment_size, len(data), 1): # Start at <segment_size>\n",
    "        # Fourier transform of the last <segment_size> data points\n",
    "        segment = data['price'][i - segment_size:i]\n",
    "        fourier_coeffs = np.fft.fft(segment)\n",
    "        freqs = np.fft.fftfreq(segment_size, d=1)  # Assuming hourly data, hence d=1\n",
    "\n",
    "        # Get indices of top 3 frequencies based on magnitude of Fourier coefficients\n",
    "        indices = np.argsort(np.abs(fourier_coeffs))[::-1][1:4] # ::-1 to sort in descending order\n",
    "\n",
    "        for j in range(3):\n",
    "            column_name = f'fourier_freq_{j + 1}'\n",
    "            data.loc[i, column_name] = freqs[indices[j]]\n",
    "\n",
    "    return data\n",
    "\n",
    "train = fourier_top_freq(train, segment_size=72)\n",
    "val = fourier_top_freq(val)\n"
   ]
  },
  {
   "cell_type": "code",
   "execution_count": 21,
   "metadata": {},
   "outputs": [
    {
     "name": "stdout",
     "output_type": "stream",
     "text": [
      "           date  hour    price            datetime  fourier_freq_1  \\\n",
      "0    2007-01-01     1  0.02431 2007-01-01 01:00:00             NaN   \n",
      "1096 2007-01-01     2  0.02431 2007-01-01 02:00:00       -0.041667   \n",
      "2192 2007-01-01     3  0.02171 2007-01-01 03:00:00        0.083333   \n",
      "3288 2007-01-01     4  0.00842 2007-01-01 04:00:00        0.041667   \n",
      "4384 2007-01-01     5  0.00001 2007-01-01 05:00:00        0.041667   \n",
      "\n",
      "      fourier_freq_2  fourier_freq_3  gradient  second_gradient  \n",
      "0                NaN             NaN  0.000000        -0.001300  \n",
      "1096        0.041667        0.083333 -0.001300        -0.003972  \n",
      "2192       -0.083333        0.013889 -0.007945        -0.004775  \n",
      "3288       -0.041667        0.013889 -0.010850         0.001870  \n",
      "4384       -0.041667        0.013889 -0.004205         0.005428  \n"
     ]
    }
   ],
   "source": [
    "### GRADIENT FEATURES ###\n",
    "def gradient_features(data):\n",
    "    data['gradient'] = np.gradient(data['price'])\n",
    "    return data\n",
    "\n",
    "def second_gradient_features(data):\n",
    "    data['second_gradient'] = np.gradient(data['gradient'])\n",
    "    return data\n",
    "\n",
    "train = gradient_features(train)\n",
    "train = second_gradient_features(train)\n",
    "val = gradient_features(val)\n",
    "val = second_gradient_features(val)\n",
    "\n",
    "print(train.head())"
   ]
  },
  {
   "cell_type": "code",
   "execution_count": null,
   "metadata": {},
   "outputs": [],
   "source": [
    "### HISTORIC FEATURES ###\n",
    "\n",
    "def moving_averages(data, window_size=72):\n",
    "    '''\n",
    "    Calculates the moving average of the 'price' data for each data point.\n",
    "\n",
    "    '''\n",
    "    data['moving_average'] = data['price'].rolling(window=window_size, min_periods=1).mean()\n",
    "    return data\n",
    "\n",
    "def moving_std(data, window_size=72):\n",
    "    data['moving_std'] = data['price'].rolling(window=window_size, min_periods=1).std()\n",
    "    return data\n",
    "\n",
    "def moving_min(data, window_size=72):\n",
    "    data['moving_min'] = data['price'].rolling(window=window_size, min_periods=1).min()\n",
    "    return data\n",
    "\n",
    "def moving_max(data, window_size=72):\n",
    "    data['moving_max'] = data['price'].rolling(window=window_size, min_periods=1).max()\n",
    "    return data\n"
   ]
  },
  {
   "cell_type": "code",
   "execution_count": null,
   "metadata": {},
   "outputs": [],
   "source": [
    "### DATE FEATURES ###\n",
    "def date_features(data):\n",
    "    data['day_of_week'] = data['datetime'].dt.dayofweek\n",
    "    data['day_of_month'] = data['datetime'].dt.day\n",
    "    data['month'] = data['datetime'].dt.month\n",
    "    data['year'] = data['datetime'].dt.year\n",
    "    data['hour'] = data['datetime'].dt.hour\n",
    "    data['season'] = (data['month'] % 12 + 3) // 3\n",
    "    return data\n",
    "\n",
    "def average_features(data):\n",
    "    data['average_day'] = data.groupby(['day_of_week', 'hour'])['price'].transform('mean')\n",
    "    data['average_day_of_month'] = data.groupby(['day_of_month', 'hour'])['price'].transform('mean')\n",
    "    \n",
    "    data['average_month'] = data.groupby(['month', 'hour'])['price'].transform('mean')\n",
    "    data['average_season'] = data.groupby(['season', 'hour'])['price'].transform('mean')\n",
    "    return data\n",
    "\n",
    "train = date_features(train)"
   ]
  }
 ],
 "metadata": {
  "kernelspec": {
   "display_name": "myenv",
   "language": "python",
   "name": "python3"
  },
  "language_info": {
   "codemirror_mode": {
    "name": "ipython",
    "version": 3
   },
   "file_extension": ".py",
   "mimetype": "text/x-python",
   "name": "python",
   "nbconvert_exporter": "python",
   "pygments_lexer": "ipython3",
   "version": "3.11.6"
  }
 },
 "nbformat": 4,
 "nbformat_minor": 2
}

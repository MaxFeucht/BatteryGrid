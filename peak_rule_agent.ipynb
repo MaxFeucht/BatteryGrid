{
 "cells": [
  {
   "cell_type": "code",
   "execution_count": 87,
   "metadata": {},
   "outputs": [],
   "source": [
    "from TestEnv import Electric_Car\n",
    "import random\n",
    "import pandas as pd\n",
    "import numpy as np\n",
    "\n",
    "train_name = \"data/train.xlsx\"\n",
    "rule_env = Electric_Car(path_to_test_data=train_name)"
   ]
  },
  {
   "cell_type": "code",
   "execution_count": 88,
   "metadata": {},
   "outputs": [
    {
     "name": "stdout",
     "output_type": "stream",
     "text": [
      "length of data 26303\n",
      "Cummulative reward:  -8240.26399592593\n"
     ]
    }
   ],
   "source": [
    "def quantile_rule_agent(last_24_prices, lower_quantile=0.25, upper_quantile=0.75):\n",
    "    if last_24_prices[-1] < np.quantile(last_24_prices, lower_quantile):\n",
    "        action = 1\n",
    "    elif last_24_prices[-1] > np.quantile(last_24_prices, upper_quantile):\n",
    "        action = -1\n",
    "    else:\n",
    "        action = 0\n",
    "    return action\n",
    "\n",
    "\n",
    "length_data = len(rule_env.test_data) * 24 - 1 \n",
    "rewards = []\n",
    "last_24_prices = []\n",
    "\n",
    "print('length of data', length_data)\n",
    "\n",
    "for i in range(length_data):\n",
    "    # print(i)\n",
    "    if i == 0: \n",
    "        action = 0\n",
    "    else:\n",
    "        action = quantile_rule_agent(last_24_prices)\n",
    "    \n",
    "    action = random.choice([-1, 0, 1])\n",
    "\n",
    "    obs, reward, terminated, _, _ = rule_env.step(action)\n",
    "\n",
    "    last_24_prices.append(obs[1])\n",
    "    if len(last_24_prices) > 24:\n",
    "        last_24_prices.pop(0)\n",
    "    \n",
    "    rewards.append(reward)\n",
    "    # if reward != 0:\n",
    "        # print('>> reward', reward)\n",
    "\n",
    "print(\"Cummulative reward: \", sum(rewards))"
   ]
  },
  {
   "cell_type": "code",
   "execution_count": 89,
   "metadata": {},
   "outputs": [],
   "source": [
    "def peak_rule_agent(obs, peak_df):\n",
    "    day_of_year = obs[4]\n",
    "    current_hour = obs[2]\n",
    "    current_week = int(day_of_year / 7) + 1\n",
    "\n",
    "    # get the row of the week\n",
    "    peak_week = peak_df.loc[peak_df['week'] == current_week]\n",
    "\n",
    "    \n",
    "    if current_hour == peak_week['non_business_peak'].values:\n",
    "        print('SELL at hour', current_hour)\n",
    "        action = -1\n",
    "    elif current_hour == peak_week['business_peak'].values:\n",
    "        action = -1\n",
    "    elif current_hour == peak_week['business_valley'].values:\n",
    "        action = 1\n",
    "    elif current_hour == peak_week['non_business_valley'].values:\n",
    "        print('BUY at hour', current_hour)\n",
    "        action = 1\n",
    "    else:\n",
    "        action = 0\n",
    "    return action \n",
    "\n",
    "\n",
    "peak_df = pd.read_csv('data/peak_df.csv')\n",
    "length_data = len(rule_env.test_data) * 24 - 1 \n",
    "rewards = []\n",
    "\n",
    "print('length of data', length_data)\n",
    "\n",
    "for i in range(length_data):\n",
    "    # print(i)\n",
    "    if i == 0: \n",
    "        action = 0\n",
    "    else:\n",
    "        action = peak_rule_agent(obs, peak_df)\n",
    "\n",
    "    obs, reward, terminated, _, _ = rule_env.step(action)\n",
    "    \n",
    "    rewards.append(reward)\n",
    "    # if reward != 0:\n",
    "        # print('>> reward', reward)\n",
    "\n",
    "print(\"Cummulative reward: \", sum(rewards))"
   ]
  },
  {
   "cell_type": "code",
   "execution_count": 90,
   "metadata": {},
   "outputs": [
    {
     "data": {
      "text/plain": [
       "[<matplotlib.lines.Line2D at 0x130bcfbd0>]"
      ]
     },
     "execution_count": 90,
     "metadata": {},
     "output_type": "execute_result"
    },
    {
     "data": {
      "image/png": "[encoded data removed]",
      "text/plain": [
       "<Figure size 640x480 with 1 Axes>"
      ]
     },
     "metadata": {},
     "output_type": "display_data"
    }
   ],
   "source": [
    "# plot the cummulative plcummulative reward\n",
    "import matplotlib.pyplot as plt\n",
    "\n",
    "# plot the first 1000 rewards cummulatively\n",
    "plt.plot(np.cumsum(rewards))"
   ]
  }
 ],
 "metadata": {
  "kernelspec": {
   "display_name": "venv",
   "language": "python",
   "name": "python3"
  },
  "language_info": {
   "codemirror_mode": {
    "name": "ipython",
    "version": 3
   },
   "file_extension": ".py",
   "mimetype": "text/x-python",
   "name": "python",
   "nbconvert_exporter": "python",
   "pygments_lexer": "ipython3",
   "version": "3.11.6"
  }
 },
 "nbformat": 4,
 "nbformat_minor": 2
}
